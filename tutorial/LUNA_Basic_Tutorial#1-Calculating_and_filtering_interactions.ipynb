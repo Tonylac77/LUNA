{
 "cells": [
  {
   "cell_type": "markdown",
   "metadata": {},
   "source": [
    "# LUNA Basic Tutorial #1 - Calculating and filtering interactions"
   ]
  },
  {
   "cell_type": "markdown",
   "metadata": {},
   "source": [
    "This tutorial covers: \n",
    "* Working with different Entry types (Mol, Ligand, etc)\n",
    "* Using different filtering options to compute PPI, PLI, PNI, intra- or inter-molecular interactions\n",
    "* Interaction granularity (proximal, covalent, non-covalent interactions)\n",
    "* Applying filters on atomic groups or interactions using our built-in functions\n",
    "* Creating a Pymol session to visualize interactions\n",
    "* Plotting a Pymol session to depict hydrophobic contacts"
   ]
  },
  {
   "cell_type": "markdown",
   "metadata": {},
   "source": [
    "### Set up system paths and import LUNA"
   ]
  },
  {
   "cell_type": "code",
   "execution_count": 1,
   "metadata": {},
   "outputs": [
    {
     "name": "stderr",
     "output_type": "stream",
     "text": [
      "RDKit WARNING: [13:11:05] Enabling RDKit 2019.09.3 jupyter extensions\n",
      "/srv/home/lshub/miniconda3/envs/luna-env/lib/python3.7/site-packages/openbabel/__init__.py:14: UserWarning: \"import openbabel\" is deprecated, instead use \"from openbabel import openbabel\"\n",
      "  warnings.warn('\"import openbabel\" is deprecated, instead use \"from openbabel import openbabel\"')\n"
     ]
    }
   ],
   "source": [
    "LUNApath = '/srv/home/lshub/LUNA' #change this to point to LUNA directory\n",
    "\n",
    "import sys\n",
    "sys.path.append(LUNApath)\n",
    "\n",
    "import luna"
   ]
  },
  {
   "cell_type": "markdown",
   "metadata": {},
   "source": [
    "**<ins>NOTE:</ins> in luna/util/default_values.py, change the OPENBABEL default location from \n",
    "    \"/usr/bin/obabel\" to location of obabel executable**"
   ]
  },
  {
   "cell_type": "markdown",
   "metadata": {},
   "source": [
    "## Entries\n",
    "\n",
    "Entries determine what interactions will be calculated. They can be ligands, chains, etc, and can be defined in a number of ways. Each entry has an associated protein id, used to calculate the interface interactions."
   ]
  },
  {
   "cell_type": "code",
   "execution_count": 2,
   "metadata": {},
   "outputs": [],
   "source": [
    "from luna.mol.entry import Entry, MolEntry, ChainEntry"
   ]
  },
  {
   "cell_type": "markdown",
   "metadata": {},
   "source": [
    "### From mol file "
   ]
  },
  {
   "cell_type": "code",
   "execution_count": 3,
   "metadata": {},
   "outputs": [],
   "source": [
    "#single mol file\n",
    "entry = MolEntry.from_mol_file(\"D4\", \"ZINC000007786517\", \"./inputs/ZINC000007786517.mol\", \n",
    "                                    mol_obj_type='rdkit', is_multimol_file=False)\n",
    "#multimol file\n",
    "entries = MolEntry.from_mol_file(\"D4\", \"ZINC000007786517\", \"./inputs/all_ligands.mol\", \n",
    "                                    mol_obj_type='rdkit', is_multimol_file=True)"
   ]
  },
  {
   "cell_type": "code",
   "execution_count": 4,
   "metadata": {},
   "outputs": [
    {
     "data": {
      "image/png": "[encoded data removed]",
      "text/plain": [
       "<luna.mol.wrappers.base.MolWrapper at 0x7fcda9a8b150>"
      ]
     },
     "execution_count": 4,
     "metadata": {},
     "output_type": "execute_result"
    }
   ],
   "source": [
    "entry.mol_obj\n",
    "#entries.mol_obj"
   ]
  },
  {
   "cell_type": "markdown",
   "metadata": {},
   "source": [
    "### From PDB file"
   ]
  },
  {
   "cell_type": "markdown",
   "metadata": {},
   "source": [
    "#### Download from PDB\n",
    "\n",
    "If the file does not exist locally, download from PDB by pdb_id"
   ]
  },
  {
   "cell_type": "code",
   "execution_count": 5,
   "metadata": {},
   "outputs": [],
   "source": [
    "pdb_id = '3QQK'\n",
    "input_path = \"./inputs\"\n",
    "output_path = \"./outputs\"\n",
    "luna.MyBio.util.download_pdb(pdb_id = pdb_id, output_path = input_path)"
   ]
  },
  {
   "cell_type": "code",
   "execution_count": 6,
   "metadata": {},
   "outputs": [
    {
     "name": "stdout",
     "output_type": "stream",
     "text": [
      "3QQK.pdb\t ZINC000007786517.mol  ZINC000357551804.mol\r\n",
      "all_ligands.mol  ZINC000113177982.mol  ZINC000661525536.mol\r\n",
      "D4.pdb\t\t ZINC000348555593.mol\r\n"
     ]
    }
   ],
   "source": [
    "!ls ./inputs #confirm download"
   ]
  },
  {
   "cell_type": "markdown",
   "metadata": {},
   "source": [
    "#### Parse PDB file"
   ]
  },
  {
   "cell_type": "code",
   "execution_count": 7,
   "metadata": {},
   "outputs": [
    {
     "name": "stdout",
     "output_type": "stream",
     "text": [
      "3QQK:A:EDO:490\n",
      "3QQK:A:EDO:491\n",
      "3QQK:A:EDO:492\n",
      "3QQK:A:EDO:493\n",
      "3QQK:A:EDO:496\n",
      "3QQK:A:X02:497\n"
     ]
    }
   ],
   "source": [
    "pdb_file = '%s/%s.pdb' % (input_path, pdb_id)\n",
    "\n",
    "# BioPython part: parse a pdb file into a structure object.\n",
    "PDB_PARSER = luna.MyBio.PDB.PDBParser(PERMISSIVE = True, QUIET = True, FIX_ATOM_NAME_CONFLICT = False, \n",
    "                                      FIX_OBABEL_FLAGS = False)\n",
    "structure = PDB_PARSER.get_structure(pdb_id, pdb_file)\n",
    "\n",
    "# The function recover_entries_from_entity() allows you to recover all chains and ligands from a PDB file \n",
    "# and return a list of strings. Setting get_chains = False recovers ligands only.\n",
    "for entity_entry in luna.mol.entry.recover_entries_from_entity(structure, get_chains = False):\n",
    "    print(entity_entry)"
   ]
  },
  {
   "cell_type": "markdown",
   "metadata": {},
   "source": [
    "#### Define entry manually"
   ]
  },
  {
   "cell_type": "code",
   "execution_count": 8,
   "metadata": {},
   "outputs": [],
   "source": [
    "# ligand entry - X02\n",
    "X02_entry = Entry(\"3QQK\", \"A\", \"X02\", 497)\n",
    "# or...\n",
    "X02_entry = Entry.from_string(\"3QQK:A:X02:497\", sep=\":\")"
   ]
  },
  {
   "cell_type": "markdown",
   "metadata": {},
   "source": [
    "## Job setup"
   ]
  },
  {
   "cell_type": "markdown",
   "metadata": {},
   "source": [
    "### Setting up parameters"
   ]
  },
  {
   "cell_type": "code",
   "execution_count": 9,
   "metadata": {},
   "outputs": [],
   "source": [
    "opt = {}\n",
    "\n",
    "opt['entries'] = [entry] #The list of entries to calculate \n",
    "opt['working_path'] = output_path # Where project results will be saved\n",
    "opt['pdb_path'] = input_path # Path contiaining input PDB file - name must match that of entry pdb string.\n",
    "\n",
    "opt['overwrite_path'] = False # Allows script to overwrite directoary - can remove files from previous project\n",
    "\n",
    "opt['try_h_addition'] = False  # Define if you need to add Hydrogens or not\n",
    "opt['ph'] = 7.4 # Controls the pH and how the hydrogens are going to be added - default 7.4\n",
    "opt['amend_mol'] = False\n",
    "\n",
    "opt['mol_obj_type'] = 'rdkit' # What type of mol object, options are 'rdkit' and 'openbabel' - default rdkit\n",
    "opt['calc_ifp'] = False # Whether or not to calculate interaction fingerprint\n",
    "\n",
    "opt['nproc'] = None #run serially\n",
    "\n",
    "opt['logging_enabled'] = True # Enable logger\n",
    "opt['verbosity'] = 2 # How verbose is the logger"
   ]
  },
  {
   "cell_type": "markdown",
   "metadata": {},
   "source": [
    "## Specifying what interactions to consider"
   ]
  },
  {
   "cell_type": "markdown",
   "metadata": {},
   "source": [
    "### Interaction Configuration\n",
    "This is the set of rules that define the distances and angles used to define the different types of interactions. The default configuration can be found in luna/mol/interaction/calc.py. This can be modified to support different interaction definitions."
   ]
  },
  {
   "cell_type": "code",
   "execution_count": 10,
   "metadata": {},
   "outputs": [],
   "source": [
    "from luna.mol.interaction.conf import DefaultInteractionConf"
   ]
  },
  {
   "cell_type": "code",
   "execution_count": 11,
   "metadata": {},
   "outputs": [
    {
     "name": "stdout",
     "output_type": "stream",
     "text": [
      "3.9\n"
     ]
    }
   ],
   "source": [
    "inter_conf = DefaultInteractionConf()\n",
    "print(inter_conf.conf[\"max_da_dist_hb_inter\"])"
   ]
  },
  {
   "cell_type": "code",
   "execution_count": 12,
   "metadata": {},
   "outputs": [
    {
     "name": "stdout",
     "output_type": "stream",
     "text": [
      "4.0\n"
     ]
    }
   ],
   "source": [
    "inter_conf.conf[\"max_da_dist_hb_inter\"] = 4.0\n",
    "print(inter_conf.conf[\"max_da_dist_hb_inter\"])"
   ]
  },
  {
   "cell_type": "code",
   "execution_count": 13,
   "metadata": {},
   "outputs": [],
   "source": [
    "opt['inter_conf'] = inter_conf"
   ]
  },
  {
   "cell_type": "markdown",
   "metadata": {},
   "source": [
    "### Interaction Filters\n",
    "InteractionFilters can be used to define what interactions to include in the result. Each filter has a specific set of default parameters. Modifying these filter parameters further specifies which of those interactions to include, ex. \"ignore_self_inter\" to ignore intra-molecular interactions."
   ]
  },
  {
   "cell_type": "code",
   "execution_count": 14,
   "metadata": {},
   "outputs": [],
   "source": [
    "from luna.mol.interaction.filter import InteractionFilter"
   ]
  },
  {
   "cell_type": "code",
   "execution_count": 15,
   "metadata": {},
   "outputs": [],
   "source": [
    "pli_filter = InteractionFilter.new_pli_filter(ignore_self_inter = False) # protein-ligand interactions, including intra-molecular interactions\n",
    "ppi_filter = InteractionFilter.new_ppi_filter() # protein-protein interactions\n",
    "pni_filter = InteractionFilter.new_pni_filter() # protein-nucleotide interactions"
   ]
  },
  {
   "cell_type": "markdown",
   "metadata": {},
   "source": [
    "### Interaction Calculator\n",
    "Create an interaction calculator with the desired filter and add that to the project options. Like filters, calculators have parameters to control interaction granularity. These include add_non_cov, add_cov, and add_proximal. "
   ]
  },
  {
   "cell_type": "code",
   "execution_count": 16,
   "metadata": {},
   "outputs": [],
   "source": [
    "from luna.mol.interaction.calc import InteractionCalculator"
   ]
  },
  {
   "cell_type": "code",
   "execution_count": 17,
   "metadata": {},
   "outputs": [],
   "source": [
    "inter_calc = InteractionCalculator(inter_filter=pli_filter, add_proximal = False)\n",
    "opt['inter_calc'] = inter_calc"
   ]
  },
  {
   "cell_type": "markdown",
   "metadata": {},
   "source": [
    "## Run project\n",
    "This produces a chunks directory, logs directory, and a results directory"
   ]
  },
  {
   "cell_type": "code",
   "execution_count": 18,
   "metadata": {},
   "outputs": [
    {
     "name": "stdout",
     "output_type": "stream",
     "text": [
      "[2021-06-08 13:11:08]    \u001b[32mINFO       \u001b[0m     projects.py:308        LUNA version: 0.9.0.\u001b[0m\n",
      "[2021-06-08 13:11:08]    \u001b[32mINFO       \u001b[0m     projects.py:308        Verbosity set to: 2 (WARNING).\u001b[0m\n",
      "[2021-06-08 13:11:08]    \u001b[33mWARNING    \u001b[0m     projects.py:308        The number of processes was set to 'None'. Therefore, LUNA will run jobs sequentially.\u001b[0m\n",
      "[2021-06-08 13:11:08]    \u001b[32mINFO       \u001b[0m     projects.py:308        Preparing project directory './outputs'.\u001b[0m\n",
      "[2021-06-08 13:11:08]    \u001b[32mINFO       \u001b[0m         file.py:102        The directory './outputs/results' already exists, but it will not be cleared.\u001b[0m\n",
      "[2021-06-08 13:11:08]    \u001b[32mINFO       \u001b[0m     projects.py:308        Project directory './outputs' created successfully.\u001b[0m\n",
      "[2021-06-08 13:11:08]    \u001b[35mPROGRESS   \u001b[0m                            0% [                                                  ] 0/1 [Avg: 0.00s/task; Errors: 0] - Entries processing."
     ]
    },
    {
     "name": "stderr",
     "output_type": "stream",
     "text": [
      "/srv/home/lshub/LUNA/luna/projects.py:270: UserWarning: Logging mode was set ON. Logging information will be saved from now on.\n",
      "  warnings.warn(\"Logging mode was set ON. Logging information will be saved from now on.\")\n"
     ]
    },
    {
     "name": "stdout",
     "output_type": "stream",
     "text": [
      "[2021-06-08 13:11:28]    \u001b[35mPROGRESS   \u001b[0m                            100% [■■■■■■■■■■■■■■■■■■■■■■■■■■■■■■■■■■■■■■■■■■■■■■■■■■] 1/1 [Avg: 19.91s/task; Errors: 0] - Entries processing.\n"
     ]
    }
   ],
   "source": [
    "proj_obj = luna.projects.LocalProject(**opt)\n",
    "proj_obj.run()"
   ]
  },
  {
   "cell_type": "code",
   "execution_count": 19,
   "metadata": {},
   "outputs": [
    {
     "name": "stdout",
     "output_type": "stream",
     "text": [
      "chunks\tlogs  project_v0.9.0.pkl.gz  results\r\n"
     ]
    }
   ],
   "source": [
    "!ls ./outputs"
   ]
  },
  {
   "cell_type": "markdown",
   "metadata": {},
   "source": [
    "### Evaluate results\n",
    "\n",
    "The results for each individual entry can be accessed through the corresponding EntryResult"
   ]
  },
  {
   "cell_type": "code",
   "execution_count": 20,
   "metadata": {},
   "outputs": [],
   "source": [
    "from luna.analysis.summary import count_interaction_types"
   ]
  },
  {
   "cell_type": "code",
   "execution_count": 21,
   "metadata": {},
   "outputs": [],
   "source": [
    "entry_result = proj_obj.get_entry_results(entry)"
   ]
  },
  {
   "cell_type": "code",
   "execution_count": 22,
   "metadata": {},
   "outputs": [
    {
     "name": "stdout",
     "output_type": "stream",
     "text": [
      "Total number of interactions: 46\n"
     ]
    }
   ],
   "source": [
    "print(f\"Total number of interactions: {entry_result.interactions_mngr.size}\")"
   ]
  },
  {
   "cell_type": "code",
   "execution_count": 23,
   "metadata": {},
   "outputs": [
    {
     "data": {
      "text/plain": [
       "defaultdict(int,\n",
       "            {'Single bond': 14,\n",
       "             'Hydrophobic': 7,\n",
       "             'Aromatic bond': 6,\n",
       "             'Face-to-slope pi-stacking': 1,\n",
       "             'Van der Waals': 8,\n",
       "             'Cation-pi': 2,\n",
       "             'Van der Waals clash': 1,\n",
       "             'Face-to-edge pi-stacking': 1,\n",
       "             'Cation-nucleophile': 1,\n",
       "             'Hydrogen bond': 3,\n",
       "             'Ionic': 1,\n",
       "             'Double bond': 1})"
      ]
     },
     "execution_count": 23,
     "metadata": {},
     "output_type": "execute_result"
    }
   ],
   "source": [
    "count_interaction_types(entry_result.interactions_mngr)"
   ]
  },
  {
   "cell_type": "markdown",
   "metadata": {},
   "source": [
    "#### Filter interactions by type"
   ]
  },
  {
   "cell_type": "code",
   "execution_count": 24,
   "metadata": {},
   "outputs": [
    {
     "data": {
      "text/plain": [
       "[<InteractionType: compounds=(<AtomGroup: [<ExtendedAtom: D4/0/z/LIG-9999/N2>]>, <AtomGroup: [<ExtendedAtom: D4/0/A/ASP-115/OD2>]>) type=Hydrogen bond>,\n",
       " <InteractionType: compounds=(<AtomGroup: [<ExtendedAtom: D4/0/A/HIS-414/NE2>]>, <AtomGroup: [<ExtendedAtom: D4/0/z/LIG-9999/O1>]>) type=Hydrogen bond>,\n",
       " <InteractionType: compounds=(<AtomGroup: [<ExtendedAtom: D4/0/z/LIG-9999/N1>]>, <AtomGroup: [<ExtendedAtom: D4/0/A/ASP-115/OD2>]>) type=Hydrogen bond>]"
      ]
     },
     "execution_count": 24,
     "metadata": {},
     "output_type": "execute_result"
    }
   ],
   "source": [
    "list(entry_result.interactions_mngr.filter_by_types(['Hydrogen bond']))"
   ]
  },
  {
   "cell_type": "markdown",
   "metadata": {},
   "source": [
    "### Visualizing interactions in pymol"
   ]
  },
  {
   "cell_type": "code",
   "execution_count": 25,
   "metadata": {},
   "outputs": [],
   "source": [
    "from luna.mol.interaction.view import InteractionViewer"
   ]
  },
  {
   "cell_type": "code",
   "execution_count": 26,
   "metadata": {},
   "outputs": [
    {
     "name": "stdout",
     "output_type": "stream",
     "text": [
      " PyMOL not running, entering library mode (experimental)\n",
      " Warning: pse_export_version with Python 3 is experimental\n",
      " Applying pse_export_version=1.800 compatibility\n"
     ]
    }
   ],
   "source": [
    "entry.pdb_file = './inputs/D4.pdb' # set entry PDB file\n",
    "\n",
    "all_tuples = [(entry, entry_result.interactions_mngr)]\n",
    "pse_file = \"./outputs/D4-visualization-all.pse\"\n",
    "\n",
    "inter_view = InteractionViewer()\n",
    "inter_view.new_session(all_tuples, pse_file)"
   ]
  },
  {
   "cell_type": "markdown",
   "metadata": {},
   "source": [
    "### Visualizing specific types of interactions"
   ]
  },
  {
   "cell_type": "code",
   "execution_count": 27,
   "metadata": {},
   "outputs": [
    {
     "name": "stdout",
     "output_type": "stream",
     "text": [
      " Warning: pse_export_version with Python 3 is experimental\n",
      " Applying pse_export_version=1.800 compatibility\n"
     ]
    }
   ],
   "source": [
    "hphobe_inter = list(entry_result.interactions_mngr.filter_by_types(['Hydrophobic']))\n",
    "\n",
    "hp_tuples = [(entry, hphobe_inter)]\n",
    "pse_file = \"./outputs/D4-visualization-hydrophobic.pse\"\n",
    "\n",
    "inter_view = InteractionViewer()\n",
    "inter_view.new_session(hp_tuples, pse_file)"
   ]
  },
  {
   "cell_type": "markdown",
   "metadata": {},
   "source": [
    "## Save full project or individual entry result"
   ]
  },
  {
   "cell_type": "code",
   "execution_count": 28,
   "metadata": {},
   "outputs": [],
   "source": [
    "proj_obj.save(output_file = \"./outputs/D4_proj\")\n",
    "entry_result.save(output_file = \"./outputs/ZINC000007786517_entry\")"
   ]
  }
 ],
 "metadata": {
  "kernelspec": {
   "display_name": "luna-env",
   "language": "python",
   "name": "luna-env"
  },
  "language_info": {
   "codemirror_mode": {
    "name": "ipython",
    "version": 3
   },
   "file_extension": ".py",
   "mimetype": "text/x-python",
   "name": "python",
   "nbconvert_exporter": "python",
   "pygments_lexer": "ipython3",
   "version": "3.7.6"
  }
 },
 "nbformat": 4,
 "nbformat_minor": 4
}

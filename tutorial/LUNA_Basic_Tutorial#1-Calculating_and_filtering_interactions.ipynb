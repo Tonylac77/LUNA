{
 "cells": [
  {
   "cell_type": "markdown",
   "metadata": {},
   "source": [
    "# LUNA Basic Tutorial #1 - Calculating and filtering interactions"
   ]
  },
  {
   "cell_type": "markdown",
   "metadata": {},
   "source": [
    "This tutorial covers: \n",
    "* Working with different Entry types (Mol, Ligand, etc)\n",
    "* Using different filtering options to compute PPI, PLI, PNI, intra- or inter-molecular interactions\n",
    "* Interaction granularity (proximal, covalent, non-covalent interactions)\n",
    "* Applying filters on atomic groups or interactions using our built-in functions\n",
    "* Creating a Pymol session to visualize interactions\n",
    "* Plotting a Pymol session to depict hydrophobic contacts"
   ]
  },
  {
   "cell_type": "markdown",
   "metadata": {},
   "source": [
    "### Set up system paths and import LUNA"
   ]
  },
  {
   "cell_type": "code",
   "execution_count": 1,
   "metadata": {},
   "outputs": [
    {
     "name": "stderr",
     "output_type": "stream",
     "text": [
      "RDKit WARNING: [22:35:16] Enabling RDKit 2019.09.3 jupyter extensions\n",
      "/srv/home/lshub/miniconda3/envs/luna-env/lib/python3.7/site-packages/openbabel/__init__.py:14: UserWarning: \"import openbabel\" is deprecated, instead use \"from openbabel import openbabel\"\n",
      "  warnings.warn('\"import openbabel\" is deprecated, instead use \"from openbabel import openbabel\"')\n"
     ]
    }
   ],
   "source": [
    "LUNApath = '/srv/home/lshub/LUNA' #change this to point to LUNA directory\n",
    "\n",
    "import sys\n",
    "sys.path.append(LUNApath)\n",
    "\n",
    "import luna"
   ]
  },
  {
   "cell_type": "markdown",
   "metadata": {},
   "source": [
    "**<ins>NOTE:</ins> in luna/util/default_values.py, change the OPENBABEL default location from \n",
    "    \"/usr/bin/obabel\" to location of obabel executable**"
   ]
  },
  {
   "cell_type": "markdown",
   "metadata": {},
   "source": [
    "### Reading PDB file"
   ]
  },
  {
   "cell_type": "markdown",
   "metadata": {},
   "source": [
    "#### Download from PDB\n",
    "\n",
    "If the file does not exist locally, download from PDB by pdb_id"
   ]
  },
  {
   "cell_type": "code",
   "execution_count": 2,
   "metadata": {},
   "outputs": [],
   "source": [
    "pdb_id = '3QQK'\n",
    "input_path = \"./inputs\"\n",
    "output_path = \"./outputs\"\n",
    "luna.MyBio.util.download_pdb(pdb_id = pdb_id, output_path = input_path)"
   ]
  },
  {
   "cell_type": "code",
   "execution_count": 3,
   "metadata": {},
   "outputs": [
    {
     "name": "stdout",
     "output_type": "stream",
     "text": [
      "3QQK.pdb  X02.mol\r\n"
     ]
    }
   ],
   "source": [
    "!ls ./inputs #confirm download"
   ]
  },
  {
   "cell_type": "markdown",
   "metadata": {},
   "source": [
    "#### Parse PDB file"
   ]
  },
  {
   "cell_type": "code",
   "execution_count": 4,
   "metadata": {},
   "outputs": [
    {
     "name": "stdout",
     "output_type": "stream",
     "text": [
      "3QQK:A:EDO:490\n",
      "3QQK:A:EDO:491\n",
      "3QQK:A:EDO:492\n",
      "3QQK:A:EDO:493\n",
      "3QQK:A:EDO:496\n",
      "3QQK:A:X02:497\n"
     ]
    }
   ],
   "source": [
    "pdb_file = '%s/%s.pdb' % (input_path, pdb_id)\n",
    "\n",
    "# BioPython part: parse a pdb file into a structure object.\n",
    "PDB_PARSER = luna.MyBio.PDB.PDBParser(PERMISSIVE = True, QUIET = True, FIX_ATOM_NAME_CONFLICT = False, \n",
    "                                      FIX_OBABEL_FLAGS = False)\n",
    "structure = PDB_PARSER.get_structure(pdb_id, pdb_file)\n",
    "\n",
    "# The function recover_entries_from_entity() allows you to recover all chains and ligands from a PDB file \n",
    "# and return a list of strings. Setting get_chains = False recovers ligands only.\n",
    "for entry in luna.mol.entry.recover_entries_from_entity(structure, get_chains = False):\n",
    "    print(entry)"
   ]
  },
  {
   "cell_type": "markdown",
   "metadata": {},
   "source": [
    "### Defining entries"
   ]
  },
  {
   "cell_type": "markdown",
   "metadata": {},
   "source": [
    "Entries determine what interactions will be calculated. They can be ligands, chains, etc. "
   ]
  },
  {
   "cell_type": "code",
   "execution_count": 5,
   "metadata": {},
   "outputs": [],
   "source": [
    "from luna.mol.entry import Entry, MolEntry, ChainEntry"
   ]
  },
  {
   "cell_type": "markdown",
   "metadata": {},
   "source": [
    "#### Manually"
   ]
  },
  {
   "cell_type": "code",
   "execution_count": 6,
   "metadata": {},
   "outputs": [],
   "source": [
    "# ligand entry - X02\n",
    "entry = luna.mol.entry.Entry(\"3QQK\", \"A\", \"X02\", 497)\n",
    "# or...\n",
    "entry = luna.mol.entry.Entry.from_string(\"3QQK:A:X02:497\", sep=\":\")"
   ]
  },
  {
   "cell_type": "markdown",
   "metadata": {},
   "source": [
    "#### Read from mol file"
   ]
  },
  {
   "cell_type": "code",
   "execution_count": 7,
   "metadata": {},
   "outputs": [],
   "source": [
    "entry = luna.mol.entry.MolEntry.from_mol_file(\"3QQK\", \"X02\", \"./inputs/X02.mol\", \n",
    "                                              mol_obj_type='rdkit', is_multimol_file=False)"
   ]
  },
  {
   "cell_type": "markdown",
   "metadata": {},
   "source": [
    "## Job setup"
   ]
  },
  {
   "cell_type": "markdown",
   "metadata": {},
   "source": [
    "### Setting up parameters"
   ]
  },
  {
   "cell_type": "code",
   "execution_count": 8,
   "metadata": {},
   "outputs": [],
   "source": [
    "opt = {}\n",
    "\n",
    "opt['entries'] = [entry] #The list of entries to calculate \n",
    "opt['working_path'] = output_path # Where project results will be saved\n",
    "opt['pdb_path'] = input_path # Path contiaining input PDB file - name must match that of entry pdb string.\n",
    "\n",
    "opt['overwrite_path'] = False # Allows script to overwrite directoary - can remove files from previous project\n",
    "\n",
    "opt['try_h_addition'] = True  # Define if you need to add Hydrogens or not\n",
    "opt['ph'] = 7.4 # Controls the pH and how the hydrogens are going to be added - default 7.4\n",
    "opt['amend_mol'] = False\n",
    "\n",
    "opt['mol_obj_type'] = 'rdkit' # What type of mol object, options are 'rdkit' and 'openbabel' - default rdkit\n",
    "opt['calc_ifp'] = False # Whether or not to calculate interaction fingerprint\n",
    "\n",
    "opt['logging_enabled'] = True # Enable logger\n",
    "opt['verbosity'] = 2 # How verbose is the logger"
   ]
  },
  {
   "cell_type": "markdown",
   "metadata": {},
   "source": [
    "## Specifying what interactions to consider"
   ]
  },
  {
   "cell_type": "markdown",
   "metadata": {},
   "source": [
    "### Interaction Configuration\n",
    "This is the set of rules that define the distances and angles used to define the different types of interactions. The default configuration can be found in luna/mol/interaction/calc.py. This can be modified to support different interaction definitions."
   ]
  },
  {
   "cell_type": "code",
   "execution_count": 9,
   "metadata": {},
   "outputs": [],
   "source": [
    "from luna.mol.interaction.conf import DefaultInteractionConf"
   ]
  },
  {
   "cell_type": "code",
   "execution_count": 10,
   "metadata": {},
   "outputs": [
    {
     "name": "stdout",
     "output_type": "stream",
     "text": [
      "3.9\n"
     ]
    }
   ],
   "source": [
    "inter_conf = DefaultInteractionConf()\n",
    "print(inter_conf.conf[\"max_da_dist_hb_inter\"])"
   ]
  },
  {
   "cell_type": "code",
   "execution_count": 11,
   "metadata": {},
   "outputs": [
    {
     "name": "stdout",
     "output_type": "stream",
     "text": [
      "4.0\n"
     ]
    }
   ],
   "source": [
    "inter_conf.conf[\"max_da_dist_hb_inter\"] = 4.0\n",
    "print(inter_conf.conf[\"max_da_dist_hb_inter\"])"
   ]
  },
  {
   "cell_type": "code",
   "execution_count": 12,
   "metadata": {},
   "outputs": [],
   "source": [
    "opt['inter_conf'] = inter_conf"
   ]
  },
  {
   "cell_type": "markdown",
   "metadata": {},
   "source": [
    "### Interaction Filters\n",
    "InteractionFilters can be used to define what interactions to include in the result. Each filter has a specific set of default parameters. Modifying these filter parameters further specifies which of those interactions to include, ex. \"ignore_self_inter\" to ignore intra-molecular interactions."
   ]
  },
  {
   "cell_type": "code",
   "execution_count": 13,
   "metadata": {},
   "outputs": [],
   "source": [
    "from luna.mol.interaction.filter import InteractionFilter"
   ]
  },
  {
   "cell_type": "code",
   "execution_count": 14,
   "metadata": {},
   "outputs": [],
   "source": [
    "pli_filter = InteractionFilter.new_pli_filter(ignore_self_inter = False) # protein-ligand interactions, including intra-molecular interactions\n",
    "ppi_filter = InteractionFilter.new_ppi_filter() # protein-protein interactions\n",
    "pni_filter = InteractionFilter.new_pni_filter() # protein-nucleotide interactions"
   ]
  },
  {
   "cell_type": "markdown",
   "metadata": {},
   "source": [
    "### Interaction Calculator\n",
    "Create an interaction calculator with the desired filter and add that to the project options. Like filters, calculaotrs have parameters to control interaction granularity. These include add_non_cov, add_cov, and add_proximal. "
   ]
  },
  {
   "cell_type": "code",
   "execution_count": 15,
   "metadata": {},
   "outputs": [],
   "source": [
    "from luna.mol.interaction.calc import InteractionCalculator"
   ]
  },
  {
   "cell_type": "code",
   "execution_count": 16,
   "metadata": {},
   "outputs": [],
   "source": [
    "inter_calc = InteractionCalculator(inter_filter=pli_filter, add_proximal = False)\n",
    "opt['inter_calc'] = inter_calc"
   ]
  },
  {
   "cell_type": "markdown",
   "metadata": {},
   "source": [
    "## Run project\n",
    "This produces a chunks directory, logs directory, and a results directory"
   ]
  },
  {
   "cell_type": "code",
   "execution_count": 17,
   "metadata": {},
   "outputs": [
    {
     "name": "stdout",
     "output_type": "stream",
     "text": [
      "[2021-04-04 22:35:19]    \u001b[32mINFO       \u001b[0m     projects.py:305        Verbosity set to: 2 (WARNING).\u001b[0m\n",
      "[2021-04-04 22:35:19]    \u001b[32mINFO       \u001b[0m     projects.py:305        Preparing project directory './outputs'.\u001b[0m\n",
      "[2021-04-04 22:35:19]    \u001b[32mINFO       \u001b[0m         file.py:102        The directory './outputs' already exists, but it will not be cleared.\u001b[0m\n",
      "[2021-04-04 22:35:19]    \u001b[32mINFO       \u001b[0m         file.py:102        The directory './outputs/results' already exists, but it will not be cleared.\u001b[0m\n",
      "[2021-04-04 22:35:19]    \u001b[32mINFO       \u001b[0m     projects.py:305        Project directory './outputs' created successfully.\u001b[0m\n"
     ]
    },
    {
     "name": "stderr",
     "output_type": "stream",
     "text": [
      "/srv/home/lshub/LUNA/luna/projects.py:267: UserWarning: Logging mode was set ON. Logging information will be saved from now on.\n",
      "  warnings.warn(\"Logging mode was set ON. Logging information will be saved from now on.\")\n"
     ]
    },
    {
     "name": "stdout",
     "output_type": "stream",
     "text": [
      "[2021-04-04 22:35:35]    \u001b[35mPROGRESS   \u001b[0m                            100% [■■■■■■■■■■■■■■■■■■■■■■■■■■■■■■■■■■■■■■■■■■■■■■■■■■] 1/1 [Avg: 15.28s/task; Errors: 0] - Entries processing.\n"
     ]
    }
   ],
   "source": [
    "proj_obj = luna.projects.LocalProject(**opt)\n",
    "proj_obj.run()"
   ]
  },
  {
   "cell_type": "code",
   "execution_count": 18,
   "metadata": {},
   "outputs": [
    {
     "name": "stdout",
     "output_type": "stream",
     "text": [
      "chunks\tlogs  project_v0.8.0.pkl.gz  results\r\n"
     ]
    }
   ],
   "source": [
    "!ls ./outputs"
   ]
  },
  {
   "cell_type": "markdown",
   "metadata": {},
   "source": [
    "### Evaluate results\n",
    "\n",
    "The results for each individual entry can be accessed through the corresponding EntryResult"
   ]
  },
  {
   "cell_type": "code",
   "execution_count": 19,
   "metadata": {},
   "outputs": [],
   "source": [
    "from luna.analysis.summary import count_interaction_types"
   ]
  },
  {
   "cell_type": "code",
   "execution_count": 20,
   "metadata": {},
   "outputs": [],
   "source": [
    "entry_result = proj_obj.get_entry_results(entry)"
   ]
  },
  {
   "cell_type": "code",
   "execution_count": 21,
   "metadata": {},
   "outputs": [
    {
     "name": "stdout",
     "output_type": "stream",
     "text": [
      "Total number of interactions: 252\n"
     ]
    }
   ],
   "source": [
    "print(f\"Total number of interactions: {entry_result.interactions_mngr.size}\")"
   ]
  },
  {
   "cell_type": "code",
   "execution_count": 22,
   "metadata": {},
   "outputs": [
    {
     "data": {
      "text/plain": [
       "defaultdict(int,\n",
       "            {'Atom overlap': 52,\n",
       "             'Van der Waals': 53,\n",
       "             'Van der Waals clash': 52,\n",
       "             'Face-to-face pi-stacking': 2,\n",
       "             'Aromatic bond': 22,\n",
       "             'Hydrophobic': 29,\n",
       "             'Single bond': 12,\n",
       "             'Hydrogen bond': 9,\n",
       "             'Weak hydrogen bond': 11,\n",
       "             'Chalcogen-pi': 2,\n",
       "             'Double bond': 4,\n",
       "             'Displaced face-to-face pi-stacking': 2,\n",
       "             'Edge-to-slope pi-stacking': 2})"
      ]
     },
     "execution_count": 22,
     "metadata": {},
     "output_type": "execute_result"
    }
   ],
   "source": [
    "count_interaction_types(entry_result.interactions_mngr)"
   ]
  },
  {
   "cell_type": "markdown",
   "metadata": {},
   "source": [
    "#### Filter interactions by type"
   ]
  },
  {
   "cell_type": "code",
   "execution_count": 23,
   "metadata": {},
   "outputs": [
    {
     "data": {
      "text/plain": [
       "[<InteractionType: compounds=(<AtomGroup: [<ExtendedAtom: 3QQK/0/A/LEU-83/N>]>, <AtomGroup: [<ExtendedAtom: 3QQK/0/z/LIG-9999/N2>]>) type=Hydrogen bond>,\n",
       " <InteractionType: compounds=(<AtomGroup: [<ExtendedAtom: 3QQK/0/A/HOH-321/O>]>, <AtomGroup: [<ExtendedAtom: 3QQK/0/A/X02-497/O18>]>) type=Hydrogen bond>,\n",
       " <InteractionType: compounds=(<AtomGroup: [<ExtendedAtom: 3QQK/0/A/HOH-321/O>]>, <AtomGroup: [<ExtendedAtom: 3QQK/0/z/LIG-9999/O1>]>) type=Hydrogen bond>,\n",
       " <InteractionType: compounds=(<AtomGroup: [<ExtendedAtom: 3QQK/0/z/LIG-9999/N3>]>, <AtomGroup: [<ExtendedAtom: 3QQK/0/A/GLU-81/O>]>) type=Hydrogen bond>,\n",
       " <InteractionType: compounds=(<AtomGroup: [<ExtendedAtom: 3QQK/0/A/X02-497/N4>]>, <AtomGroup: [<ExtendedAtom: 3QQK/0/A/LEU-83/O>]>) type=Hydrogen bond>,\n",
       " <InteractionType: compounds=(<AtomGroup: [<ExtendedAtom: 3QQK/0/A/LEU-83/N>]>, <AtomGroup: [<ExtendedAtom: 3QQK/0/A/X02-497/N6>]>) type=Hydrogen bond>,\n",
       " <InteractionType: compounds=(<AtomGroup: [<ExtendedAtom: 3QQK/0/A/ASP-145/N>]>, <AtomGroup: [<ExtendedAtom: 3QQK/0/A/HOH-321/O>]>) type=Hydrogen bond>,\n",
       " <InteractionType: compounds=(<AtomGroup: [<ExtendedAtom: 3QQK/0/A/X02-497/N10>]>, <AtomGroup: [<ExtendedAtom: 3QQK/0/A/GLU-81/O>]>) type=Hydrogen bond>,\n",
       " <InteractionType: compounds=(<AtomGroup: [<ExtendedAtom: 3QQK/0/z/LIG-9999/N1>]>, <AtomGroup: [<ExtendedAtom: 3QQK/0/A/LEU-83/O>]>) type=Hydrogen bond>]"
      ]
     },
     "execution_count": 23,
     "metadata": {},
     "output_type": "execute_result"
    }
   ],
   "source": [
    "list(entry_result.interactions_mngr.filter_by_types(['Hydrogen bond']))"
   ]
  },
  {
   "cell_type": "markdown",
   "metadata": {},
   "source": [
    "### Visualizing interactions in pymol"
   ]
  },
  {
   "cell_type": "code",
   "execution_count": 24,
   "metadata": {},
   "outputs": [],
   "source": [
    "from luna.mol.interaction.view import InteractionViewer"
   ]
  },
  {
   "cell_type": "code",
   "execution_count": 25,
   "metadata": {},
   "outputs": [
    {
     "name": "stdout",
     "output_type": "stream",
     "text": [
      " PyMOL not running, entering library mode (experimental)\n",
      " Warning: pse_export_version with Python 3 is experimental\n",
      " Applying pse_export_version=1.800 compatibility\n"
     ]
    }
   ],
   "source": [
    "entry.pdb_file = './inputs/3QQK.pdb' # set entry PDB file\n",
    "\n",
    "all_tuples = [(entry, entry_result.interactions_mngr)]\n",
    "pse_file = \"./outputs/3QQK-visualization-all.pse\"\n",
    "\n",
    "inter_view = InteractionViewer()\n",
    "inter_view.new_session(all_tuples, pse_file)"
   ]
  },
  {
   "cell_type": "markdown",
   "metadata": {},
   "source": [
    "### Visualizing specific types of interactions"
   ]
  },
  {
   "cell_type": "code",
   "execution_count": 26,
   "metadata": {},
   "outputs": [
    {
     "name": "stdout",
     "output_type": "stream",
     "text": [
      " Warning: pse_export_version with Python 3 is experimental\n",
      " Applying pse_export_version=1.800 compatibility\n"
     ]
    }
   ],
   "source": [
    "hphobe_inter = list(entry_result.interactions_mngr.filter_by_types(['Hydrophobic']))\n",
    "\n",
    "hp_tuples = [(entry, hphobe_inter)]\n",
    "pse_file = \"./outputs/3QQK-visualization-hydrophobic.pse\"\n",
    "\n",
    "inter_view = InteractionViewer()\n",
    "inter_view.new_session(hp_tuples, pse_file)"
   ]
  },
  {
   "cell_type": "markdown",
   "metadata": {},
   "source": [
    "## Save full project or individual entry result"
   ]
  },
  {
   "cell_type": "code",
   "execution_count": 27,
   "metadata": {},
   "outputs": [],
   "source": [
    "proj_obj.save(output_file = \"./outputs/3QQK_X02_proj\")\n",
    "entry_result.save(output_file = \"./outputs/3QQK_X02_entry\")"
   ]
  }
 ],
 "metadata": {
  "kernelspec": {
   "display_name": "luna-env",
   "language": "python",
   "name": "luna-env"
  },
  "language_info": {
   "codemirror_mode": {
    "name": "ipython",
    "version": 3
   },
   "file_extension": ".py",
   "mimetype": "text/x-python",
   "name": "python",
   "nbconvert_exporter": "python",
   "pygments_lexer": "ipython3",
   "version": "3.7.6"
  }
 },
 "nbformat": 4,
 "nbformat_minor": 4
}

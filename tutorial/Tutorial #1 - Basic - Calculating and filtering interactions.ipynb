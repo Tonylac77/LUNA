{
 "cells": [
  {
   "cell_type": "markdown",
   "metadata": {},
   "source": [
    "# Tutorial #1 - Basic - Calculating and filtering interactions"
   ]
  },
  {
   "cell_type": "markdown",
   "metadata": {},
   "source": [
    "This tutorial covers: \n",
    "* Working with different Entry types (Mol, Ligand, etc)\n",
    "* Using different filtering options to compute PPI, PLI, PNI, intra- or inter-molecular interactions\n",
    "* Interaction granularity (proximal, covalent, non-covalent interactions)\n",
    "* Applying filters on atomic groups or interactions using our built-in functions\n",
    "* Creating a Pymol session to visualize interactions\n",
    "* Plotting a Pymol session to depict hydrophobic contacts"
   ]
  },
  {
   "cell_type": "markdown",
   "metadata": {},
   "source": [
    "### Import LUNA"
   ]
  },
  {
   "cell_type": "code",
   "execution_count": 52,
   "metadata": {},
   "outputs": [
    {
     "data": {
      "text/plain": [
       "'0.12.0'"
      ]
     },
     "execution_count": 52,
     "metadata": {},
     "output_type": "execute_result"
    }
   ],
   "source": [
    "import luna\n",
    "\n",
    "luna.version"
   ]
  },
  {
   "cell_type": "markdown",
   "metadata": {},
   "source": [
    "### Note about ligands in PDB files"
   ]
  },
  {
   "cell_type": "markdown",
   "metadata": {},
   "source": [
    "LUNA works with both Open Babel and RDKit. You can switch between both libraries when setting a new project. So, the choice between Open Babel and RDKit depends on the type of molecular file you are working with. If you have ligands in MOL or MOL2 files, for instance, you can use RDKit for your convenience as you will be able to apply RDKit functions directly on the molecular object stored at LUNA entries (as you will see in the next sections). However, if you frequently work with **ligands** in **PDB files**, you may be especially interested in reading this note.\n",
    "\n",
    "Although each library has its own difficulties at parsing PDB files, we identified that Open Babel works better at parsing ligands from PDB files, especially what concerns ligands containing aromatic rings. FYI, it happens because PDB files don't contain information about atomic charges, valences, and bond types. Consequently, it may occur that some ligands are incorrectly perceived by Open Babel and RDKit.\n",
    "\n",
    "For this reason, when working with ligands in PDB files, no matter you choose Open Babel or RDKit, we use Open Babel under the hood for parsing, amending, and converting ligands so that both final Open Babel and RDKit objects reflect at most the original and expected molecular structure.\n",
    "\n",
    "However, in the past, I identified different errors in different Open Babel versions, which can be seen in this [issue thread]( https://github.com/openbabel/openbabel/issues/1925). During that time, I identified that Open Babel 2.3.2 works better for parsing PDB files. For the most common errors identified in this version, I implemented amending solutions like charge correction based on the OpenEye charge model, or valence correction. Since this solution was taken on basis of Open Babel 2.3.2, some errors from other versions may still persist.\n",
    "\n",
    "Having that in mind, I started using two Open Babel versions in my projects, 2.3.2 for parsing/amending/converting molecules and 3.1.1 as the standard Python library to wrap the molecule as a Python object. By default, LUNA is configurated to use only the version 3.1.1 of Open Babel. So, if you work with PDB files and are also interested to use this strategy, you can change the OPENBABEL default executable at **luna/util/default_values.py**. There, modify the OPENBABEL variable to the executable of your preference. \n",
    "For example, in my local environment, you will find OPENBABEL set to \"/usr/bin/obabel\" that is the version 2.3.3."
   ]
  },
  {
   "cell_type": "markdown",
   "metadata": {},
   "source": [
    "## Entries\n",
    "\n",
    "Entries determine the target molecule to which interactions and other properties will be calculated. They can be ligands, chains, etc, and can be defined in a number of ways. \n",
    "Each entry has an associated PDB file that may contain macromolecules (protein, RNA, DNA) and other small molecules, water, and ions. The PDB file provides the context to where the interactions with the target molecule will be calculated.\n",
    "\n",
    "To define new entries, you need to import one of the following classes:\n",
    "\n",
    "- **CompoundEntry**: define one residue, nucleotide, or small molecule in a PDB file;\n",
    "\n",
    "- **MolEntry**: define one small molecule external to the PDB file, i.e., in a separate molecular file (MOL, MOL2, SDF). This is especially useful for molecular files obtained from docking. Thus, for your convenience, you don't need to convert the molecular file to PDB and add it to the PDB file containing the target structure.\n",
    "    - In the case of molecular files containing multiple molecules (multimol file), you need to guarantee that the ligand id provided to the entry matches with the target molecule in the molecular file.\n",
    "    \n",
    "    \n",
    "- **ChainEntry**: define a chain in a PDB file. The entire chain is used for calculating interactions. Thus, depending on the calculation granularity you choose, the calculation may take some time."
   ]
  },
  {
   "cell_type": "code",
   "execution_count": 7,
   "metadata": {},
   "outputs": [],
   "source": [
    "from luna.mol.entry import MolEntry, MolFileEntry, ChainEntry"
   ]
  },
  {
   "cell_type": "markdown",
   "metadata": {},
   "source": [
    "### From a molecular file "
   ]
  },
  {
   "cell_type": "markdown",
   "metadata": {},
   "source": [
    "**MolEntry.from_mol_file()** expects the following parameters:\n",
    "    \n",
    "- **PDB id**: a PDB id or the filename for a local PDB file. In case, a local file does not exist, LUNA will try to download the PDB file from the RCSB protein data bank.\n",
    "- **Ligand id**: a ligand identifier for reference in case of single molecular files or for identifying a corresponding structure at multimol files;\n",
    "- **Path for the molecular file**;\n",
    "- **If the molecular file is multimol or not**;"
   ]
  },
  {
   "cell_type": "code",
   "execution_count": 8,
   "metadata": {},
   "outputs": [],
   "source": [
    "# Single molecular file\n",
    "entry1 = MolFileEntry.from_mol_file(\"D4\", \"ZINC000007786517\", \"./inputs/ZINC000007786517.mol\", \n",
    "                                    mol_obj_type='rdkit', is_multimol_file=False)\n",
    "# Multimol file\n",
    "entry2 = MolFileEntry.from_mol_file(\"D4\", \"ZINC000096459890\", \"./inputs/ligands.mol2\", \n",
    "                                    mol_obj_type='rdkit', is_multimol_file=True)"
   ]
  },
  {
   "cell_type": "markdown",
   "metadata": {},
   "source": [
    "To access the parsed molecule, you can use the property **mol_obj**, which returns a MolWrapper. A MolWrapper wraps Open Babel and RDKit objects and provides helper functions to deal with both libraries.\n",
    "\n",
    "Below, we show how to visualize the molecules directly in the Jupyter notebook."
   ]
  },
  {
   "cell_type": "code",
   "execution_count": 9,
   "metadata": {},
   "outputs": [
    {
     "data": {
      "image/png": "[encoded data removed]",
      "text/plain": [
       "<luna.wrappers.base.MolWrapper at 0x7f389c145b50>"
      ]
     },
     "execution_count": 9,
     "metadata": {},
     "output_type": "execute_result"
    }
   ],
   "source": [
    "entry1.mol_obj"
   ]
  },
  {
   "cell_type": "code",
   "execution_count": 10,
   "metadata": {},
   "outputs": [
    {
     "data": {
      "image/png": "[encoded data removed]",
      "text/plain": [
       "<luna.wrappers.base.MolWrapper at 0x7f389c145cd0>"
      ]
     },
     "execution_count": 10,
     "metadata": {},
     "output_type": "execute_result"
    }
   ],
   "source": [
    "entry2.mol_obj"
   ]
  },
  {
   "cell_type": "markdown",
   "metadata": {},
   "source": [
    "Observe that if you try the same using a molecule parsed with Open Babel, it will fail because Jupyter notebooks only support RDKit out-of-the-box. "
   ]
  },
  {
   "cell_type": "code",
   "execution_count": 11,
   "metadata": {},
   "outputs": [
    {
     "data": {
      "text/plain": [
       "<luna.wrappers.base.MolWrapper at 0x7f389c145d10>"
      ]
     },
     "execution_count": 11,
     "metadata": {},
     "output_type": "execute_result"
    }
   ],
   "source": [
    "entry_ob = MolFileEntry.from_mol_file(\"D4\", \"ZINC000007786517\", \"./inputs/ZINC000007786517.mol\", \n",
    "                                      mol_obj_type='openbabel', is_multimol_file=False)\n",
    "entry_ob.mol_obj"
   ]
  },
  {
   "cell_type": "markdown",
   "metadata": {},
   "source": [
    "To circumvent this, you may use the following helper function available for MolWrapper objects:"
   ]
  },
  {
   "cell_type": "code",
   "execution_count": 12,
   "metadata": {},
   "outputs": [
    {
     "data": {
      "image/png": "[encoded data removed]",
      "text/plain": [
       "<rdkit.Chem.rdchem.Mol at 0x7f389bd953a0>"
      ]
     },
     "execution_count": 12,
     "metadata": {},
     "output_type": "execute_result"
    }
   ],
   "source": [
    "entry_ob.mol_obj.as_rdkit()"
   ]
  },
  {
   "cell_type": "markdown",
   "metadata": {},
   "source": [
    "Below we list other useful functions available at MolWrapper:\n",
    "\n",
    "- get_atoms(): returns all atoms in the molecule as an object AtomWrapper, which also provide helper functions for your convenience;\n",
    "- get_bonds(): returns all bonds in the molecule as an object BondWrapper, which also provide helper functions for your convenience;\n",
    "- to_smiles(): convert a molecule to SMILES;\n",
    "- to_pdb_block(): convert a molecule to PDB and returns it as string;\n",
    "- to_mol_block(): convert a molecule to PDB and returns it as string;\n",
    "- unwrap(): returns the original Open Babel or RDKit object;\n"
   ]
  },
  {
   "cell_type": "markdown",
   "metadata": {},
   "source": [
    "#### Visualize a molecule and the pharmacophoric features of its atoms"
   ]
  },
  {
   "cell_type": "markdown",
   "metadata": {},
   "source": [
    "To depict a molecule with its atoms' pharmacophoric properties, you need to use the class **PharmacophoreDepiction** by passing a **FeatureExtractor** object, which is responsible for perceiving the pharmacophoric properties of the atoms in a given molecule. The example below shows how to create a new **FeatureExtractor** object and how to save an image file with the annotated molecule."
   ]
  },
  {
   "cell_type": "code",
   "execution_count": 13,
   "metadata": {},
   "outputs": [
    {
     "name": "stdout",
     "output_type": "stream",
     "text": [
      "[2022-10-05 23:41:51]    \u001b[32mINFO       \u001b[0m         file.py:191        The directory './outputs' already exists, but it will not be cleared.\u001b[0m\n"
     ]
    },
    {
     "name": "stderr",
     "output_type": "stream",
     "text": [
      "RDKit WARNING: [23:41:51] The new font size 0.5 is below the current minimum (6).\n",
      "[23:41:51] The new font size 0.5 is below the current minimum (6).\n"
     ]
    }
   ],
   "source": [
    "from luna.util.default_values import ATOM_PROP_FILE, ATOM_TYPES_COLOR\n",
    "from rdkit.Chem import ChemicalFeatures\n",
    "from luna.mol.features import FeatureExtractor\n",
    "from luna.mol.depiction import PharmacophoreDepiction\n",
    "\n",
    "# First, create a new ChemicalFeatures object. It expects a configuration file defined by the RDKit feature-typing format.\n",
    "feature_factory = ChemicalFeatures.BuildFeatureFactory(ATOM_PROP_FILE)\n",
    "# Then, instantiate the FeatureExtractor.\n",
    "feature_extractor = FeatureExtractor(feature_factory)\n",
    "\n",
    "# Instantiate a new PharmacophoreDepiction object with the desired parameters. For example, you can provide a color scheme to define the colors for each pharmacophoric property.\n",
    "pd = PharmacophoreDepiction(feature_extractor=feature_extractor, colors=ATOM_TYPES_COLOR, fig_size=(500, 500), format=\"png\")\n",
    "\n",
    "output_path = \"./outputs\"\n",
    "luna.util.file.create_directory(output_path) # Helper function for creating a new directory.\n",
    "output_file = f\"{output_path}/pharm_depiction.png\"\n",
    "\n",
    "# Now, just plot the molecule with the pharmacophoric properties annotated. You can use this in a For loop if there are multiple molecules.\n",
    "pd.plot_fig(entry1.mol_obj, output_file)"
   ]
  },
  {
   "cell_type": "markdown",
   "metadata": {},
   "source": [
    "To use the **PharmacophoreDepiction** in a Jupyter notebook, don't provide an output file to the **plot_fig()** and it will return a Drawer object. Then just plot it with the **Ipython.display** function."
   ]
  },
  {
   "cell_type": "code",
   "execution_count": 14,
   "metadata": {},
   "outputs": [
    {
     "name": "stderr",
     "output_type": "stream",
     "text": [
      "RDKit WARNING: [23:41:53] The new font size 0.5 is below the current minimum (6).\n",
      "[23:41:53] The new font size 0.5 is below the current minimum (6).\n"
     ]
    },
    {
     "data": {
      "image/png": "[encoded data removed]",
      "text/plain": [
       "<IPython.core.display.Image object>"
      ]
     },
     "execution_count": 14,
     "metadata": {},
     "output_type": "execute_result"
    }
   ],
   "source": [
    "from IPython import display\n",
    "\n",
    "pd = PharmacophoreDepiction(feature_extractor=feature_extractor, colors=ATOM_TYPES_COLOR, fig_size=(350, 350), format=\"png\")\n",
    "drawer = pd.plot_fig(entry1.mol_obj)\n",
    "\n",
    "display.Image(drawer.GetDrawingText())"
   ]
  },
  {
   "cell_type": "markdown",
   "metadata": {},
   "source": [
    "### From a PDB file"
   ]
  },
  {
   "cell_type": "markdown",
   "metadata": {},
   "source": [
    "#### Recover entries from PDB files \n",
    "\n",
    "When you don't have the list of entries you want to work with, you can obtain them directly from a PDB file."
   ]
  },
  {
   "cell_type": "markdown",
   "metadata": {},
   "source": [
    "First, let's download a PDB file:"
   ]
  },
  {
   "cell_type": "code",
   "execution_count": 15,
   "metadata": {},
   "outputs": [
    {
     "name": "stdout",
     "output_type": "stream",
     "text": [
      "[2022-10-05 23:41:55]    \u001b[32mINFO       \u001b[0m         file.py:191        The directory './outputs' already exists, but it will not be cleared.\u001b[0m\n"
     ]
    }
   ],
   "source": [
    "pdb_id = '3QQK'\n",
    "output_path = \"./outputs\"\n",
    "\n",
    "luna.util.file.create_directory(output_path) # Helper function for creating a new directory.\n",
    "\n",
    "luna.MyBio.util.download_pdb(pdb_id=pdb_id, output_path=output_path) # Download the PDB file."
   ]
  },
  {
   "cell_type": "code",
   "execution_count": 16,
   "metadata": {},
   "outputs": [
    {
     "data": {
      "text/plain": [
       "True"
      ]
     },
     "execution_count": 16,
     "metadata": {},
     "output_type": "execute_result"
    }
   ],
   "source": [
    "from os.path import exists\n",
    "\n",
    "exists(output_path) # confirm download"
   ]
  },
  {
   "cell_type": "markdown",
   "metadata": {},
   "source": [
    "Now, parse the PDB file and use the function **recover_entries_from_entity** to get all ligands from it."
   ]
  },
  {
   "cell_type": "code",
   "execution_count": 17,
   "metadata": {},
   "outputs": [
    {
     "name": "stdout",
     "output_type": "stream",
     "text": [
      "<MolEntry: 3QQK:A:X02:497>\n"
     ]
    }
   ],
   "source": [
    "pdb_file = '%s/%s.pdb' % (output_path, pdb_id)\n",
    "\n",
    "# BioPython part: parse a pdb file into a structure object.\n",
    "PDB_PARSER = luna.MyBio.PDB.PDBParser(PERMISSIVE=True, QUIET=True, FIX_ATOM_NAME_CONFLICT=False, FIX_OBABEL_FLAGS=False)\n",
    "\n",
    "structure = PDB_PARSER.get_structure(pdb_id, pdb_file)\n",
    "\n",
    "# The function recover_entries_from_entity() allows you to recover all chains and ligands from a PDB file and returns a list of strings. \n",
    "# Setting get_chains = False recovers ligands only.\n",
    "for entity_entry in luna.mol.entry.recover_entries_from_entity(structure, get_chains=False):\n",
    "    print(entity_entry)"
   ]
  },
  {
   "cell_type": "markdown",
   "metadata": {},
   "source": [
    "In case, you are interested in ligands from a specific chain do the following:"
   ]
  },
  {
   "cell_type": "code",
   "execution_count": 18,
   "metadata": {},
   "outputs": [
    {
     "name": "stdout",
     "output_type": "stream",
     "text": [
      "<MolEntry: 3QQK:A:X02:497>\n"
     ]
    }
   ],
   "source": [
    "model_id = 0\n",
    "chain_id = \"A\"\n",
    "\n",
    "for entity_entry in luna.mol.entry.recover_entries_from_entity(structure[model_id][chain_id], get_chains=False):\n",
    "    print(entity_entry)"
   ]
  },
  {
   "cell_type": "markdown",
   "metadata": {},
   "source": [
    "#### Define PDB entries"
   ]
  },
  {
   "cell_type": "markdown",
   "metadata": {},
   "source": [
    "**CompoundEntry** expects the following parameters:\n",
    "    \n",
    "- **PDB id**: a PDB id or the filename for a local PDB file. In case, a local file does not exist, LUNA will try to download the PDB file from the RCSB protein data bank.\n",
    "- **Chain id**: the chain id where the target compound is;\n",
    "- **Compound name**: the compound name as it is in the PDB file;\n",
    "- **Compound number**: the compound number as it is in the PDB file;\n",
    "- **Compound icode**: the compound insertion code if there is any;"
   ]
  },
  {
   "cell_type": "code",
   "execution_count": 19,
   "metadata": {},
   "outputs": [
    {
     "name": "stdout",
     "output_type": "stream",
     "text": [
      "<MolEntry: 3QQK:A:X02:497>\n",
      "<MolEntry: 3QQK:A:X02:497>\n",
      "<MolEntry: 3QQK-A-X02-497>\n"
     ]
    }
   ],
   "source": [
    "# ligand entry - X02\n",
    "X02_entry = MolEntry(\"3QQK\", \"A\", \"X02\", 497)\n",
    "print(X02_entry)\n",
    "\n",
    "# or, if you already have a string representing the entry...\n",
    "X02_entry = MolEntry.from_string(\"3QQK:A:X02:497\")\n",
    "print(X02_entry)\n",
    "\n",
    "# You may also use different separators for your string if you will.\n",
    "X02_entry = MolEntry.from_string(\"3QQK-A-X02-497\", sep=\"-\")\n",
    "print(X02_entry)"
   ]
  },
  {
   "cell_type": "markdown",
   "metadata": {},
   "source": [
    "### From an input file"
   ]
  },
  {
   "cell_type": "markdown",
   "metadata": {},
   "source": [
    "To create entries from an input file, you need to use the function **from_file()**, which exists in both **CompoundEntry** and **MolEntry** classes. Thus, if you are working with ligands in PDB files, call CompoundEntry.from_file(<INPUT_FILE>) or MolEntry.from_file(<INPUT_FILE>) whether you are working with ligands at external molecular files. \n",
    "\n",
    "See the examples below:"
   ]
  },
  {
   "cell_type": "code",
   "execution_count": 20,
   "metadata": {},
   "outputs": [
    {
     "name": "stdout",
     "output_type": "stream",
     "text": [
      "<MolEntry: 3QL8:A:X01:300>\n",
      "<MolEntry: 3QQF:A:X07:543>\n",
      "<MolEntry: 3QQG:A:X06:300>\n",
      "<MolEntry: 3QQH:A:X0A:303>\n",
      "<MolEntry: 3QQJ:A:X11:300>\n"
     ]
    }
   ],
   "source": [
    "input_file = \"./inputs/CompoundEntries.txt\"\n",
    "entries = MolEntry.from_file(input_file)\n",
    "\n",
    "for e in entries:\n",
    "    print(e)"
   ]
  },
  {
   "cell_type": "code",
   "execution_count": 21,
   "metadata": {},
   "outputs": [
    {
     "name": "stdout",
     "output_type": "stream",
     "text": [
      "<MolFileEntry: D4:ZINC000012442563>\n",
      "<MolFileEntry: D4:ZINC000065293174>\n",
      "<MolFileEntry: D4:ZINC000096459890>\n",
      "<MolFileEntry: D4:ZINC000343043015>\n",
      "<MolFileEntry: D4:ZINC000575033470>\n",
      "\n"
     ]
    },
    {
     "data": {
      "image/png": "[encoded data removed]",
      "text/plain": [
       "<rdkit.Chem.rdchem.Mol at 0x7f389ba74940>"
      ]
     },
     "execution_count": 21,
     "metadata": {},
     "output_type": "execute_result"
    }
   ],
   "source": [
    "input_file = \"./inputs/MolEntries.txt\"\n",
    "entries = list(MolFileEntry.from_file(input_file, pdb_id=\"D4\", mol_file=\"./inputs/ligands.mol2\", mol_obj_type=\"openbabel\"))\n",
    "\n",
    "for e in entries:\n",
    "    print(e)\n",
    "print()\n",
    "\n",
    "entries[0].mol_obj.as_rdkit()"
   ]
  },
  {
   "cell_type": "markdown",
   "metadata": {},
   "source": [
    "## Job setup"
   ]
  },
  {
   "cell_type": "markdown",
   "metadata": {},
   "source": [
    "### Setting up parameters"
   ]
  },
  {
   "cell_type": "code",
   "execution_count": 22,
   "metadata": {},
   "outputs": [],
   "source": [
    "opts = {}\n",
    "\n",
    "opts['entries'] = entries  # The list of entries to calculate \n",
    "opts['working_path'] = \"./outputs/luna_results\"  # Where project results will be saved\n",
    "opts['pdb_path'] = \"./inputs\"  # Path containing local PDB files or to where the PDB files will be downloaded. PDB filenames must match that defined for the entries.\n",
    "\n",
    "opts['overwrite_path'] = False  # Allows script to overwrite directory - can remove files from previous project.\n",
    "\n",
    "opts['add_h'] = True  # Define if you need to add Hydrogens or not.\n",
    "opts['ph'] = 7.4  # Controls the pH and how the hydrogens are going to be added - default 7.4. It doesn't modify the protonation of molecular files defined by a MolEntry object.\n",
    "\n",
    "# Whether or not to fix atomic charges, valence, and bond types for small molecules and residues at PDB files. \n",
    "# Only molecules at PDB files are validated because they don't contain charge, valence, and bond types. That causes molecules to be sometimes incorrectly perceived.\n",
    "#\n",
    "# This procedure is only applied for molecules at PDB files. Therefore, molecules from external files (MolEntry objects) won't be modified.\n",
    "#\n",
    "opts['amend_mol'] = True\n",
    "\n",
    "opts['mol_obj_type'] = 'rdkit'  # What type of mol object, options are 'rdkit' and 'openbabel' - default rdkit\n",
    "opts['calc_ifp'] = False  # Whether or not to calculate interaction fingerprints\n",
    "\n",
    "# Define how many processors to use. \n",
    "# If you set it to -1, LUNA will use all available CPUs -1. \n",
    "# If you set it to None, LUNA will be run serially.\n",
    "opts['nproc'] = -1\n",
    "\n",
    "opts['binding_mode_filter'] = None  # Provide a BindingModeFilter object that specifies how to filter binding modes.\n",
    "\n",
    "opts['logging_enabled'] = True  # Enable logger\n",
    "opts['verbosity'] = 2  # How verbose is the logger"
   ]
  },
  {
   "cell_type": "markdown",
   "metadata": {},
   "source": [
    "## Specifying what interactions to consider"
   ]
  },
  {
   "cell_type": "markdown",
   "metadata": {},
   "source": [
    "### Interaction Configuration\n",
    "This is the set of rules that define the distances and angles used to define the different types of interactions. The default configuration can be found in luna/interaction/calc.py. This can be modified to support different interaction definitions."
   ]
  },
  {
   "cell_type": "code",
   "execution_count": 23,
   "metadata": {},
   "outputs": [],
   "source": [
    "from luna.interaction.config import DefaultInteractionConfig"
   ]
  },
  {
   "cell_type": "code",
   "execution_count": 24,
   "metadata": {},
   "outputs": [
    {
     "name": "stdout",
     "output_type": "stream",
     "text": [
      "3.9\n"
     ]
    }
   ],
   "source": [
    "inter_config = DefaultInteractionConfig()\n",
    "print(inter_config[\"max_da_dist_hb_inter\"])"
   ]
  },
  {
   "cell_type": "code",
   "execution_count": 25,
   "metadata": {},
   "outputs": [
    {
     "name": "stdout",
     "output_type": "stream",
     "text": [
      "4.0\n"
     ]
    }
   ],
   "source": [
    "inter_config[\"max_da_dist_hb_inter\"] = 4.0\n",
    "print(inter_config[\"max_da_dist_hb_inter\"])"
   ]
  },
  {
   "cell_type": "code",
   "execution_count": 26,
   "metadata": {},
   "outputs": [],
   "source": [
    "inter_config['inter_conf'] = inter_config"
   ]
  },
  {
   "cell_type": "markdown",
   "metadata": {},
   "source": [
    "### Interaction Filters\n",
    "InteractionFilters can be used to define what interactions to include in the result. Each filter has a specific set of default parameters. Modifying these filter parameters further specifies which of those interactions to include, ex. \"ignore_self_inter\" to ignore intra-molecular interactions."
   ]
  },
  {
   "cell_type": "code",
   "execution_count": 27,
   "metadata": {},
   "outputs": [],
   "source": [
    "from luna.interaction.filter import InteractionFilter"
   ]
  },
  {
   "cell_type": "code",
   "execution_count": 28,
   "metadata": {},
   "outputs": [],
   "source": [
    "pli_filter = InteractionFilter.new_pli_filter(ignore_self_inter = False) # protein-ligand interactions, including intra-molecular interactions\n",
    "ppi_filter = InteractionFilter.new_ppi_filter() # protein-protein interactions\n",
    "pni_filter = InteractionFilter.new_pni_filter() # protein-nucleotide interactions"
   ]
  },
  {
   "cell_type": "markdown",
   "metadata": {},
   "source": [
    "### Interaction Calculator\n",
    "Create an interaction calculator with the desired filter and add that to the project options. Like filters, calculators have parameters to control interaction granularity. These include add_non_cov, add_cov, and add_proximal. "
   ]
  },
  {
   "cell_type": "code",
   "execution_count": 29,
   "metadata": {},
   "outputs": [],
   "source": [
    "from luna.interaction.calc import InteractionCalculator"
   ]
  },
  {
   "cell_type": "code",
   "execution_count": 30,
   "metadata": {},
   "outputs": [],
   "source": [
    "custom_filter = InteractionFilter.new_pli_filter() # protein-ligand interactions\n",
    "inter_calc = InteractionCalculator(inter_filter=custom_filter, add_proximal=False)\n",
    "opts['inter_calc'] = inter_calc"
   ]
  },
  {
   "cell_type": "markdown",
   "metadata": {},
   "source": [
    "## Run project\n",
    "This produces a chunks directory, logs directory, and a results directory"
   ]
  },
  {
   "cell_type": "code",
   "execution_count": 31,
   "metadata": {},
   "outputs": [
    {
     "name": "stdout",
     "output_type": "stream",
     "text": [
      "[2022-10-05 23:42:27]    \u001b[32mINFO       \u001b[0m     projects.py:557        LUNA version: 0.12.0.\u001b[0m\n",
      "[2022-10-05 23:42:27]    \u001b[33mWARNING    \u001b[0m     projects.py:557        The number of processes was set to 'None'. Therefore, LUNA will run jobs sequentially.\u001b[0m\n",
      "[2022-10-05 23:42:27]    \u001b[32mINFO       \u001b[0m     projects.py:557        Verbosity set to: 2 (WARNING).\u001b[0m\n",
      "[2022-10-05 23:42:27]    \u001b[32mINFO       \u001b[0m     projects.py:557        Preparing project directory './outputs/luna_results'.\u001b[0m\n",
      "[2022-10-05 23:42:27]    \u001b[32mINFO       \u001b[0m         file.py:191        The directory './outputs/luna_results/results' already exists, but it will not be cleared.\u001b[0m\n",
      "[2022-10-05 23:42:27]    \u001b[32mINFO       \u001b[0m     projects.py:557        Project directory './outputs/luna_results' created successfully.\u001b[0m\n",
      "[2022-10-05 23:42:28]    \u001b[35mPROGRESS   \u001b[0m                            0% [                                                  ] 0/5 [Avg: 0.00s/task; Errors: 0] - Entries processing."
     ]
    },
    {
     "name": "stderr",
     "output_type": "stream",
     "text": [
      "/media/data/Workspace/Keiser lab/LUNA/luna/projects.py:317: LUNAWarning: Logging mode was set ON. Logging information will be saved from now on.\n",
      "  self.logging_enabled = logging_enabled\n"
     ]
    },
    {
     "name": "stdout",
     "output_type": "stream",
     "text": [
      "[2022-10-05 23:43:17]    \u001b[35mPROGRESS   \u001b[0m                            100% [■■■■■■■■■■■■■■■■■■■■■■■■■■■■■■■■■■■■■■■■■■■■■■■■■■] 5/5 [Avg: 9.83s/task; Errors: 0] - Entries processing.\n"
     ]
    }
   ],
   "source": [
    "proj_obj = luna.projects.LocalProject(**opts)\n",
    "proj_obj.run()"
   ]
  },
  {
   "cell_type": "code",
   "execution_count": 33,
   "metadata": {},
   "outputs": [
    {
     "name": "stdout",
     "output_type": "stream",
     "text": [
      "chunks\tconfigs  logs  project_v0.12.0.pkl.gz  results\n"
     ]
    }
   ],
   "source": [
    "! ls outputs/luna_results"
   ]
  },
  {
   "cell_type": "markdown",
   "metadata": {},
   "source": [
    "### Evaluate results\n",
    "\n",
    "The results for each individual entry can be accessed through the corresponding EntryResult"
   ]
  },
  {
   "cell_type": "code",
   "execution_count": 34,
   "metadata": {},
   "outputs": [],
   "source": [
    "entry_result = proj_obj.get_entry_results(entries[0])"
   ]
  },
  {
   "cell_type": "code",
   "execution_count": 35,
   "metadata": {},
   "outputs": [
    {
     "name": "stdout",
     "output_type": "stream",
     "text": [
      "Total number of interactions: 68\n"
     ]
    }
   ],
   "source": [
    "print(f\"Total number of interactions: {entry_result.interactions_mngr.size}\")"
   ]
  },
  {
   "cell_type": "markdown",
   "metadata": {},
   "source": [
    "Count only interactions with the ligand."
   ]
  },
  {
   "cell_type": "code",
   "execution_count": 36,
   "metadata": {},
   "outputs": [
    {
     "data": {
      "text/plain": [
       "defaultdict(int,\n",
       "            {'Weak hydrogen bond': 15,\n",
       "             'Single bond': 18,\n",
       "             'Double bond': 9,\n",
       "             'Van der Waals': 11,\n",
       "             'Hydrogen bond': 1,\n",
       "             'Cation-pi': 1,\n",
       "             'Displaced face-to-edge pi-stacking': 3,\n",
       "             'Hydrophobic': 8,\n",
       "             'Tilted multipolar': 1,\n",
       "             'Face-to-edge pi-stacking': 1})"
      ]
     },
     "execution_count": 36,
     "metadata": {},
     "output_type": "execute_result"
    }
   ],
   "source": [
    "entry_result.interactions_mngr.count_interations(must_have_target=True)"
   ]
  },
  {
   "cell_type": "markdown",
   "metadata": {},
   "source": [
    "Count overall number of interactions per residue."
   ]
  },
  {
   "cell_type": "code",
   "execution_count": 37,
   "metadata": {},
   "outputs": [],
   "source": [
    "from luna.analysis.residues import generate_residue_matrix"
   ]
  },
  {
   "cell_type": "code",
   "execution_count": 38,
   "metadata": {},
   "outputs": [
    {
     "data": {
      "text/html": [
       "<div>\n",
       "<style scoped>\n",
       "    .dataframe tbody tr th:only-of-type {\n",
       "        vertical-align: middle;\n",
       "    }\n",
       "\n",
       "    .dataframe tbody tr th {\n",
       "        vertical-align: top;\n",
       "    }\n",
       "\n",
       "    .dataframe thead th {\n",
       "        text-align: right;\n",
       "    }\n",
       "</style>\n",
       "<table border=\"1\" class=\"dataframe\">\n",
       "  <thead>\n",
       "    <tr style=\"text-align: right;\">\n",
       "      <th>residues</th>\n",
       "      <th>A/ARG/186</th>\n",
       "      <th>A/ASP/115</th>\n",
       "      <th>A/CYS/108;A/CYS/185</th>\n",
       "      <th>A/CYS/119</th>\n",
       "      <th>A/CYS/185</th>\n",
       "      <th>A/GLU/95</th>\n",
       "      <th>A/GLY/99</th>\n",
       "      <th>A/HIS/414</th>\n",
       "      <th>A/LEU/187</th>\n",
       "      <th>A/LEU/90</th>\n",
       "      <th>...</th>\n",
       "      <th>A/SER/196</th>\n",
       "      <th>A/SER/431</th>\n",
       "      <th>A/SER/94</th>\n",
       "      <th>A/THR/434</th>\n",
       "      <th>A/TRP/101</th>\n",
       "      <th>A/TYR/438</th>\n",
       "      <th>A/VAL/116</th>\n",
       "      <th>A/VAL/193</th>\n",
       "      <th>A/VAL/430</th>\n",
       "      <th>A/VAL/87</th>\n",
       "    </tr>\n",
       "    <tr>\n",
       "      <th>entry</th>\n",
       "      <th></th>\n",
       "      <th></th>\n",
       "      <th></th>\n",
       "      <th></th>\n",
       "      <th></th>\n",
       "      <th></th>\n",
       "      <th></th>\n",
       "      <th></th>\n",
       "      <th></th>\n",
       "      <th></th>\n",
       "      <th></th>\n",
       "      <th></th>\n",
       "      <th></th>\n",
       "      <th></th>\n",
       "      <th></th>\n",
       "      <th></th>\n",
       "      <th></th>\n",
       "      <th></th>\n",
       "      <th></th>\n",
       "      <th></th>\n",
       "      <th></th>\n",
       "    </tr>\n",
       "  </thead>\n",
       "  <tbody>\n",
       "    <tr>\n",
       "      <th>ZINC000012442563</th>\n",
       "      <td>2</td>\n",
       "      <td>3</td>\n",
       "      <td>0</td>\n",
       "      <td>1</td>\n",
       "      <td>2</td>\n",
       "      <td>1</td>\n",
       "      <td>1</td>\n",
       "      <td>5</td>\n",
       "      <td>2</td>\n",
       "      <td>0</td>\n",
       "      <td>...</td>\n",
       "      <td>0</td>\n",
       "      <td>0</td>\n",
       "      <td>2</td>\n",
       "      <td>3</td>\n",
       "      <td>0</td>\n",
       "      <td>0</td>\n",
       "      <td>2</td>\n",
       "      <td>0</td>\n",
       "      <td>2</td>\n",
       "      <td>0</td>\n",
       "    </tr>\n",
       "    <tr>\n",
       "      <th>ZINC000065293174</th>\n",
       "      <td>3</td>\n",
       "      <td>4</td>\n",
       "      <td>0</td>\n",
       "      <td>0</td>\n",
       "      <td>2</td>\n",
       "      <td>1</td>\n",
       "      <td>0</td>\n",
       "      <td>5</td>\n",
       "      <td>1</td>\n",
       "      <td>0</td>\n",
       "      <td>...</td>\n",
       "      <td>0</td>\n",
       "      <td>0</td>\n",
       "      <td>2</td>\n",
       "      <td>2</td>\n",
       "      <td>0</td>\n",
       "      <td>0</td>\n",
       "      <td>2</td>\n",
       "      <td>0</td>\n",
       "      <td>1</td>\n",
       "      <td>0</td>\n",
       "    </tr>\n",
       "    <tr>\n",
       "      <th>ZINC000096459890</th>\n",
       "      <td>2</td>\n",
       "      <td>0</td>\n",
       "      <td>0</td>\n",
       "      <td>1</td>\n",
       "      <td>0</td>\n",
       "      <td>0</td>\n",
       "      <td>0</td>\n",
       "      <td>6</td>\n",
       "      <td>4</td>\n",
       "      <td>0</td>\n",
       "      <td>...</td>\n",
       "      <td>1</td>\n",
       "      <td>1</td>\n",
       "      <td>0</td>\n",
       "      <td>2</td>\n",
       "      <td>0</td>\n",
       "      <td>0</td>\n",
       "      <td>3</td>\n",
       "      <td>1</td>\n",
       "      <td>2</td>\n",
       "      <td>0</td>\n",
       "    </tr>\n",
       "    <tr>\n",
       "      <th>ZINC000343043015</th>\n",
       "      <td>1</td>\n",
       "      <td>3</td>\n",
       "      <td>0</td>\n",
       "      <td>0</td>\n",
       "      <td>3</td>\n",
       "      <td>1</td>\n",
       "      <td>1</td>\n",
       "      <td>2</td>\n",
       "      <td>3</td>\n",
       "      <td>0</td>\n",
       "      <td>...</td>\n",
       "      <td>0</td>\n",
       "      <td>0</td>\n",
       "      <td>2</td>\n",
       "      <td>6</td>\n",
       "      <td>0</td>\n",
       "      <td>0</td>\n",
       "      <td>2</td>\n",
       "      <td>0</td>\n",
       "      <td>0</td>\n",
       "      <td>0</td>\n",
       "    </tr>\n",
       "    <tr>\n",
       "      <th>ZINC000575033470</th>\n",
       "      <td>6</td>\n",
       "      <td>5</td>\n",
       "      <td>1</td>\n",
       "      <td>0</td>\n",
       "      <td>5</td>\n",
       "      <td>0</td>\n",
       "      <td>0</td>\n",
       "      <td>6</td>\n",
       "      <td>7</td>\n",
       "      <td>1</td>\n",
       "      <td>...</td>\n",
       "      <td>0</td>\n",
       "      <td>0</td>\n",
       "      <td>0</td>\n",
       "      <td>0</td>\n",
       "      <td>1</td>\n",
       "      <td>4</td>\n",
       "      <td>2</td>\n",
       "      <td>0</td>\n",
       "      <td>0</td>\n",
       "      <td>1</td>\n",
       "    </tr>\n",
       "  </tbody>\n",
       "</table>\n",
       "<p>5 rows × 24 columns</p>\n",
       "</div>"
      ],
      "text/plain": [
       "residues          A/ARG/186  A/ASP/115  A/CYS/108;A/CYS/185  A/CYS/119  \\\n",
       "entry                                                                    \n",
       "ZINC000012442563          2          3                    0          1   \n",
       "ZINC000065293174          3          4                    0          0   \n",
       "ZINC000096459890          2          0                    0          1   \n",
       "ZINC000343043015          1          3                    0          0   \n",
       "ZINC000575033470          6          5                    1          0   \n",
       "\n",
       "residues          A/CYS/185  A/GLU/95  A/GLY/99  A/HIS/414  A/LEU/187  \\\n",
       "entry                                                                   \n",
       "ZINC000012442563          2         1         1          5          2   \n",
       "ZINC000065293174          2         1         0          5          1   \n",
       "ZINC000096459890          0         0         0          6          4   \n",
       "ZINC000343043015          3         1         1          2          3   \n",
       "ZINC000575033470          5         0         0          6          7   \n",
       "\n",
       "residues          A/LEU/90  ...  A/SER/196  A/SER/431  A/SER/94  A/THR/434  \\\n",
       "entry                       ...                                              \n",
       "ZINC000012442563         0  ...          0          0         2          3   \n",
       "ZINC000065293174         0  ...          0          0         2          2   \n",
       "ZINC000096459890         0  ...          1          1         0          2   \n",
       "ZINC000343043015         0  ...          0          0         2          6   \n",
       "ZINC000575033470         1  ...          0          0         0          0   \n",
       "\n",
       "residues          A/TRP/101  A/TYR/438  A/VAL/116  A/VAL/193  A/VAL/430  \\\n",
       "entry                                                                     \n",
       "ZINC000012442563          0          0          2          0          2   \n",
       "ZINC000065293174          0          0          2          0          1   \n",
       "ZINC000096459890          0          0          3          1          2   \n",
       "ZINC000343043015          0          0          2          0          0   \n",
       "ZINC000575033470          1          4          2          0          0   \n",
       "\n",
       "residues          A/VAL/87  \n",
       "entry                       \n",
       "ZINC000012442563         0  \n",
       "ZINC000065293174         0  \n",
       "ZINC000096459890         0  \n",
       "ZINC000343043015         0  \n",
       "ZINC000575033470         1  \n",
       "\n",
       "[5 rows x 24 columns]"
      ]
     },
     "execution_count": 38,
     "metadata": {},
     "output_type": "execute_result"
    }
   ],
   "source": [
    "residue_matrix = generate_residue_matrix(proj_obj.interactions_mngrs, by_interaction=False)\n",
    "residue_matrix"
   ]
  },
  {
   "cell_type": "markdown",
   "metadata": {},
   "source": [
    "Count number of each type of interaction per residue."
   ]
  },
  {
   "cell_type": "code",
   "execution_count": 39,
   "metadata": {},
   "outputs": [
    {
     "data": {
      "text/html": [
       "<div>\n",
       "<style scoped>\n",
       "    .dataframe tbody tr th:only-of-type {\n",
       "        vertical-align: middle;\n",
       "    }\n",
       "\n",
       "    .dataframe tbody tr th {\n",
       "        vertical-align: top;\n",
       "    }\n",
       "\n",
       "    .dataframe thead th {\n",
       "        text-align: right;\n",
       "    }\n",
       "</style>\n",
       "<table border=\"1\" class=\"dataframe\">\n",
       "  <thead>\n",
       "    <tr style=\"text-align: right;\">\n",
       "      <th></th>\n",
       "      <th>residues</th>\n",
       "      <th>A/ARG/186</th>\n",
       "      <th>A/ASP/115</th>\n",
       "      <th>A/CYS/108;A/CYS/185</th>\n",
       "      <th>A/CYS/119</th>\n",
       "      <th>A/CYS/185</th>\n",
       "      <th>A/GLU/95</th>\n",
       "      <th>A/GLY/99</th>\n",
       "      <th>A/HIS/414</th>\n",
       "      <th>A/LEU/187</th>\n",
       "      <th>A/LEU/90</th>\n",
       "      <th>...</th>\n",
       "      <th>A/SER/196</th>\n",
       "      <th>A/SER/431</th>\n",
       "      <th>A/SER/94</th>\n",
       "      <th>A/THR/434</th>\n",
       "      <th>A/TRP/101</th>\n",
       "      <th>A/TYR/438</th>\n",
       "      <th>A/VAL/116</th>\n",
       "      <th>A/VAL/193</th>\n",
       "      <th>A/VAL/430</th>\n",
       "      <th>A/VAL/87</th>\n",
       "    </tr>\n",
       "    <tr>\n",
       "      <th>entry</th>\n",
       "      <th>interaction</th>\n",
       "      <th></th>\n",
       "      <th></th>\n",
       "      <th></th>\n",
       "      <th></th>\n",
       "      <th></th>\n",
       "      <th></th>\n",
       "      <th></th>\n",
       "      <th></th>\n",
       "      <th></th>\n",
       "      <th></th>\n",
       "      <th></th>\n",
       "      <th></th>\n",
       "      <th></th>\n",
       "      <th></th>\n",
       "      <th></th>\n",
       "      <th></th>\n",
       "      <th></th>\n",
       "      <th></th>\n",
       "      <th></th>\n",
       "      <th></th>\n",
       "      <th></th>\n",
       "    </tr>\n",
       "  </thead>\n",
       "  <tbody>\n",
       "    <tr>\n",
       "      <th rowspan=\"5\" valign=\"top\">ZINC000012442563</th>\n",
       "      <th>Cation-nucleophile</th>\n",
       "      <td>0</td>\n",
       "      <td>0</td>\n",
       "      <td>0</td>\n",
       "      <td>0</td>\n",
       "      <td>0</td>\n",
       "      <td>0</td>\n",
       "      <td>0</td>\n",
       "      <td>0</td>\n",
       "      <td>0</td>\n",
       "      <td>0</td>\n",
       "      <td>...</td>\n",
       "      <td>0</td>\n",
       "      <td>0</td>\n",
       "      <td>0</td>\n",
       "      <td>0</td>\n",
       "      <td>0</td>\n",
       "      <td>0</td>\n",
       "      <td>0</td>\n",
       "      <td>0</td>\n",
       "      <td>0</td>\n",
       "      <td>0</td>\n",
       "    </tr>\n",
       "    <tr>\n",
       "      <th>Cation-pi</th>\n",
       "      <td>0</td>\n",
       "      <td>0</td>\n",
       "      <td>0</td>\n",
       "      <td>0</td>\n",
       "      <td>0</td>\n",
       "      <td>0</td>\n",
       "      <td>0</td>\n",
       "      <td>1</td>\n",
       "      <td>0</td>\n",
       "      <td>0</td>\n",
       "      <td>...</td>\n",
       "      <td>0</td>\n",
       "      <td>0</td>\n",
       "      <td>0</td>\n",
       "      <td>0</td>\n",
       "      <td>0</td>\n",
       "      <td>0</td>\n",
       "      <td>0</td>\n",
       "      <td>0</td>\n",
       "      <td>0</td>\n",
       "      <td>0</td>\n",
       "    </tr>\n",
       "    <tr>\n",
       "      <th>Chalcogen bond</th>\n",
       "      <td>0</td>\n",
       "      <td>0</td>\n",
       "      <td>0</td>\n",
       "      <td>0</td>\n",
       "      <td>0</td>\n",
       "      <td>0</td>\n",
       "      <td>0</td>\n",
       "      <td>0</td>\n",
       "      <td>0</td>\n",
       "      <td>0</td>\n",
       "      <td>...</td>\n",
       "      <td>0</td>\n",
       "      <td>0</td>\n",
       "      <td>0</td>\n",
       "      <td>0</td>\n",
       "      <td>0</td>\n",
       "      <td>0</td>\n",
       "      <td>0</td>\n",
       "      <td>0</td>\n",
       "      <td>0</td>\n",
       "      <td>0</td>\n",
       "    </tr>\n",
       "    <tr>\n",
       "      <th>Displaced face-to-edge pi-stacking</th>\n",
       "      <td>0</td>\n",
       "      <td>0</td>\n",
       "      <td>0</td>\n",
       "      <td>0</td>\n",
       "      <td>0</td>\n",
       "      <td>0</td>\n",
       "      <td>0</td>\n",
       "      <td>1</td>\n",
       "      <td>0</td>\n",
       "      <td>0</td>\n",
       "      <td>...</td>\n",
       "      <td>0</td>\n",
       "      <td>0</td>\n",
       "      <td>0</td>\n",
       "      <td>0</td>\n",
       "      <td>0</td>\n",
       "      <td>0</td>\n",
       "      <td>0</td>\n",
       "      <td>0</td>\n",
       "      <td>0</td>\n",
       "      <td>0</td>\n",
       "    </tr>\n",
       "    <tr>\n",
       "      <th>Face-to-edge pi-stacking</th>\n",
       "      <td>0</td>\n",
       "      <td>0</td>\n",
       "      <td>0</td>\n",
       "      <td>0</td>\n",
       "      <td>0</td>\n",
       "      <td>0</td>\n",
       "      <td>0</td>\n",
       "      <td>0</td>\n",
       "      <td>0</td>\n",
       "      <td>0</td>\n",
       "      <td>...</td>\n",
       "      <td>0</td>\n",
       "      <td>0</td>\n",
       "      <td>0</td>\n",
       "      <td>0</td>\n",
       "      <td>0</td>\n",
       "      <td>0</td>\n",
       "      <td>0</td>\n",
       "      <td>0</td>\n",
       "      <td>0</td>\n",
       "      <td>0</td>\n",
       "    </tr>\n",
       "    <tr>\n",
       "      <th>...</th>\n",
       "      <th>...</th>\n",
       "      <td>...</td>\n",
       "      <td>...</td>\n",
       "      <td>...</td>\n",
       "      <td>...</td>\n",
       "      <td>...</td>\n",
       "      <td>...</td>\n",
       "      <td>...</td>\n",
       "      <td>...</td>\n",
       "      <td>...</td>\n",
       "      <td>...</td>\n",
       "      <td>...</td>\n",
       "      <td>...</td>\n",
       "      <td>...</td>\n",
       "      <td>...</td>\n",
       "      <td>...</td>\n",
       "      <td>...</td>\n",
       "      <td>...</td>\n",
       "      <td>...</td>\n",
       "      <td>...</td>\n",
       "      <td>...</td>\n",
       "      <td>...</td>\n",
       "    </tr>\n",
       "    <tr>\n",
       "      <th rowspan=\"5\" valign=\"top\">ZINC000575033470</th>\n",
       "      <th>Ionic</th>\n",
       "      <td>0</td>\n",
       "      <td>0</td>\n",
       "      <td>0</td>\n",
       "      <td>0</td>\n",
       "      <td>0</td>\n",
       "      <td>0</td>\n",
       "      <td>0</td>\n",
       "      <td>0</td>\n",
       "      <td>0</td>\n",
       "      <td>0</td>\n",
       "      <td>...</td>\n",
       "      <td>0</td>\n",
       "      <td>0</td>\n",
       "      <td>0</td>\n",
       "      <td>0</td>\n",
       "      <td>0</td>\n",
       "      <td>0</td>\n",
       "      <td>0</td>\n",
       "      <td>0</td>\n",
       "      <td>0</td>\n",
       "      <td>0</td>\n",
       "    </tr>\n",
       "    <tr>\n",
       "      <th>Tilted multipolar</th>\n",
       "      <td>0</td>\n",
       "      <td>0</td>\n",
       "      <td>0</td>\n",
       "      <td>0</td>\n",
       "      <td>1</td>\n",
       "      <td>0</td>\n",
       "      <td>0</td>\n",
       "      <td>0</td>\n",
       "      <td>0</td>\n",
       "      <td>0</td>\n",
       "      <td>...</td>\n",
       "      <td>0</td>\n",
       "      <td>0</td>\n",
       "      <td>0</td>\n",
       "      <td>0</td>\n",
       "      <td>0</td>\n",
       "      <td>0</td>\n",
       "      <td>0</td>\n",
       "      <td>0</td>\n",
       "      <td>0</td>\n",
       "      <td>0</td>\n",
       "    </tr>\n",
       "    <tr>\n",
       "      <th>Unfavorable cation-electrophile</th>\n",
       "      <td>0</td>\n",
       "      <td>0</td>\n",
       "      <td>0</td>\n",
       "      <td>0</td>\n",
       "      <td>0</td>\n",
       "      <td>0</td>\n",
       "      <td>0</td>\n",
       "      <td>0</td>\n",
       "      <td>0</td>\n",
       "      <td>0</td>\n",
       "      <td>...</td>\n",
       "      <td>0</td>\n",
       "      <td>0</td>\n",
       "      <td>0</td>\n",
       "      <td>0</td>\n",
       "      <td>0</td>\n",
       "      <td>0</td>\n",
       "      <td>0</td>\n",
       "      <td>0</td>\n",
       "      <td>0</td>\n",
       "      <td>0</td>\n",
       "    </tr>\n",
       "    <tr>\n",
       "      <th>Van der Waals</th>\n",
       "      <td>4</td>\n",
       "      <td>2</td>\n",
       "      <td>0</td>\n",
       "      <td>0</td>\n",
       "      <td>3</td>\n",
       "      <td>0</td>\n",
       "      <td>0</td>\n",
       "      <td>3</td>\n",
       "      <td>3</td>\n",
       "      <td>1</td>\n",
       "      <td>...</td>\n",
       "      <td>0</td>\n",
       "      <td>0</td>\n",
       "      <td>0</td>\n",
       "      <td>0</td>\n",
       "      <td>0</td>\n",
       "      <td>2</td>\n",
       "      <td>1</td>\n",
       "      <td>0</td>\n",
       "      <td>0</td>\n",
       "      <td>0</td>\n",
       "    </tr>\n",
       "    <tr>\n",
       "      <th>Weak hydrogen bond</th>\n",
       "      <td>1</td>\n",
       "      <td>2</td>\n",
       "      <td>0</td>\n",
       "      <td>0</td>\n",
       "      <td>1</td>\n",
       "      <td>0</td>\n",
       "      <td>0</td>\n",
       "      <td>1</td>\n",
       "      <td>2</td>\n",
       "      <td>0</td>\n",
       "      <td>...</td>\n",
       "      <td>0</td>\n",
       "      <td>0</td>\n",
       "      <td>0</td>\n",
       "      <td>0</td>\n",
       "      <td>0</td>\n",
       "      <td>2</td>\n",
       "      <td>0</td>\n",
       "      <td>0</td>\n",
       "      <td>0</td>\n",
       "      <td>1</td>\n",
       "    </tr>\n",
       "  </tbody>\n",
       "</table>\n",
       "<p>70 rows × 24 columns</p>\n",
       "</div>"
      ],
      "text/plain": [
       "residues                                             A/ARG/186  A/ASP/115  \\\n",
       "entry            interaction                                                \n",
       "ZINC000012442563 Cation-nucleophile                          0          0   \n",
       "                 Cation-pi                                   0          0   \n",
       "                 Chalcogen bond                              0          0   \n",
       "                 Displaced face-to-edge pi-stacking          0          0   \n",
       "                 Face-to-edge pi-stacking                    0          0   \n",
       "...                                                        ...        ...   \n",
       "ZINC000575033470 Ionic                                       0          0   \n",
       "                 Tilted multipolar                           0          0   \n",
       "                 Unfavorable cation-electrophile             0          0   \n",
       "                 Van der Waals                               4          2   \n",
       "                 Weak hydrogen bond                          1          2   \n",
       "\n",
       "residues                                             A/CYS/108;A/CYS/185  \\\n",
       "entry            interaction                                               \n",
       "ZINC000012442563 Cation-nucleophile                                    0   \n",
       "                 Cation-pi                                             0   \n",
       "                 Chalcogen bond                                        0   \n",
       "                 Displaced face-to-edge pi-stacking                    0   \n",
       "                 Face-to-edge pi-stacking                              0   \n",
       "...                                                                  ...   \n",
       "ZINC000575033470 Ionic                                                 0   \n",
       "                 Tilted multipolar                                     0   \n",
       "                 Unfavorable cation-electrophile                       0   \n",
       "                 Van der Waals                                         0   \n",
       "                 Weak hydrogen bond                                    0   \n",
       "\n",
       "residues                                             A/CYS/119  A/CYS/185  \\\n",
       "entry            interaction                                                \n",
       "ZINC000012442563 Cation-nucleophile                          0          0   \n",
       "                 Cation-pi                                   0          0   \n",
       "                 Chalcogen bond                              0          0   \n",
       "                 Displaced face-to-edge pi-stacking          0          0   \n",
       "                 Face-to-edge pi-stacking                    0          0   \n",
       "...                                                        ...        ...   \n",
       "ZINC000575033470 Ionic                                       0          0   \n",
       "                 Tilted multipolar                           0          1   \n",
       "                 Unfavorable cation-electrophile             0          0   \n",
       "                 Van der Waals                               0          3   \n",
       "                 Weak hydrogen bond                          0          1   \n",
       "\n",
       "residues                                             A/GLU/95  A/GLY/99  \\\n",
       "entry            interaction                                              \n",
       "ZINC000012442563 Cation-nucleophile                         0         0   \n",
       "                 Cation-pi                                  0         0   \n",
       "                 Chalcogen bond                             0         0   \n",
       "                 Displaced face-to-edge pi-stacking         0         0   \n",
       "                 Face-to-edge pi-stacking                   0         0   \n",
       "...                                                       ...       ...   \n",
       "ZINC000575033470 Ionic                                      0         0   \n",
       "                 Tilted multipolar                          0         0   \n",
       "                 Unfavorable cation-electrophile            0         0   \n",
       "                 Van der Waals                              0         0   \n",
       "                 Weak hydrogen bond                         0         0   \n",
       "\n",
       "residues                                             A/HIS/414  A/LEU/187  \\\n",
       "entry            interaction                                                \n",
       "ZINC000012442563 Cation-nucleophile                          0          0   \n",
       "                 Cation-pi                                   1          0   \n",
       "                 Chalcogen bond                              0          0   \n",
       "                 Displaced face-to-edge pi-stacking          1          0   \n",
       "                 Face-to-edge pi-stacking                    0          0   \n",
       "...                                                        ...        ...   \n",
       "ZINC000575033470 Ionic                                       0          0   \n",
       "                 Tilted multipolar                           0          0   \n",
       "                 Unfavorable cation-electrophile             0          0   \n",
       "                 Van der Waals                               3          3   \n",
       "                 Weak hydrogen bond                          1          2   \n",
       "\n",
       "residues                                             A/LEU/90  ...  A/SER/196  \\\n",
       "entry            interaction                                   ...              \n",
       "ZINC000012442563 Cation-nucleophile                         0  ...          0   \n",
       "                 Cation-pi                                  0  ...          0   \n",
       "                 Chalcogen bond                             0  ...          0   \n",
       "                 Displaced face-to-edge pi-stacking         0  ...          0   \n",
       "                 Face-to-edge pi-stacking                   0  ...          0   \n",
       "...                                                       ...  ...        ...   \n",
       "ZINC000575033470 Ionic                                      0  ...          0   \n",
       "                 Tilted multipolar                          0  ...          0   \n",
       "                 Unfavorable cation-electrophile            0  ...          0   \n",
       "                 Van der Waals                              1  ...          0   \n",
       "                 Weak hydrogen bond                         0  ...          0   \n",
       "\n",
       "residues                                             A/SER/431  A/SER/94  \\\n",
       "entry            interaction                                               \n",
       "ZINC000012442563 Cation-nucleophile                          0         0   \n",
       "                 Cation-pi                                   0         0   \n",
       "                 Chalcogen bond                              0         0   \n",
       "                 Displaced face-to-edge pi-stacking          0         0   \n",
       "                 Face-to-edge pi-stacking                    0         0   \n",
       "...                                                        ...       ...   \n",
       "ZINC000575033470 Ionic                                       0         0   \n",
       "                 Tilted multipolar                           0         0   \n",
       "                 Unfavorable cation-electrophile             0         0   \n",
       "                 Van der Waals                               0         0   \n",
       "                 Weak hydrogen bond                          0         0   \n",
       "\n",
       "residues                                             A/THR/434  A/TRP/101  \\\n",
       "entry            interaction                                                \n",
       "ZINC000012442563 Cation-nucleophile                          0          0   \n",
       "                 Cation-pi                                   0          0   \n",
       "                 Chalcogen bond                              0          0   \n",
       "                 Displaced face-to-edge pi-stacking          0          0   \n",
       "                 Face-to-edge pi-stacking                    0          0   \n",
       "...                                                        ...        ...   \n",
       "ZINC000575033470 Ionic                                       0          0   \n",
       "                 Tilted multipolar                           0          0   \n",
       "                 Unfavorable cation-electrophile             0          0   \n",
       "                 Van der Waals                               0          0   \n",
       "                 Weak hydrogen bond                          0          0   \n",
       "\n",
       "residues                                             A/TYR/438  A/VAL/116  \\\n",
       "entry            interaction                                                \n",
       "ZINC000012442563 Cation-nucleophile                          0          0   \n",
       "                 Cation-pi                                   0          0   \n",
       "                 Chalcogen bond                              0          0   \n",
       "                 Displaced face-to-edge pi-stacking          0          0   \n",
       "                 Face-to-edge pi-stacking                    0          0   \n",
       "...                                                        ...        ...   \n",
       "ZINC000575033470 Ionic                                       0          0   \n",
       "                 Tilted multipolar                           0          0   \n",
       "                 Unfavorable cation-electrophile             0          0   \n",
       "                 Van der Waals                               2          1   \n",
       "                 Weak hydrogen bond                          2          0   \n",
       "\n",
       "residues                                             A/VAL/193  A/VAL/430  \\\n",
       "entry            interaction                                                \n",
       "ZINC000012442563 Cation-nucleophile                          0          0   \n",
       "                 Cation-pi                                   0          0   \n",
       "                 Chalcogen bond                              0          0   \n",
       "                 Displaced face-to-edge pi-stacking          0          0   \n",
       "                 Face-to-edge pi-stacking                    0          0   \n",
       "...                                                        ...        ...   \n",
       "ZINC000575033470 Ionic                                       0          0   \n",
       "                 Tilted multipolar                           0          0   \n",
       "                 Unfavorable cation-electrophile             0          0   \n",
       "                 Van der Waals                               0          0   \n",
       "                 Weak hydrogen bond                          0          0   \n",
       "\n",
       "residues                                             A/VAL/87  \n",
       "entry            interaction                                   \n",
       "ZINC000012442563 Cation-nucleophile                         0  \n",
       "                 Cation-pi                                  0  \n",
       "                 Chalcogen bond                             0  \n",
       "                 Displaced face-to-edge pi-stacking         0  \n",
       "                 Face-to-edge pi-stacking                   0  \n",
       "...                                                       ...  \n",
       "ZINC000575033470 Ionic                                      0  \n",
       "                 Tilted multipolar                          0  \n",
       "                 Unfavorable cation-electrophile            0  \n",
       "                 Van der Waals                              0  \n",
       "                 Weak hydrogen bond                         1  \n",
       "\n",
       "[70 rows x 24 columns]"
      ]
     },
     "execution_count": 39,
     "metadata": {},
     "output_type": "execute_result"
    }
   ],
   "source": [
    "residue_matrix = generate_residue_matrix(proj_obj.interactions_mngrs, by_interaction=True)\n",
    "residue_matrix"
   ]
  },
  {
   "cell_type": "markdown",
   "metadata": {},
   "source": [
    "Let's visualize which residues established hydrogen bonds."
   ]
  },
  {
   "cell_type": "code",
   "execution_count": 40,
   "metadata": {},
   "outputs": [
    {
     "data": {
      "text/plain": [
       "[Text(0, 0.5, 'ZINC000012442563'),\n",
       " Text(0, 1.5, 'ZINC000065293174'),\n",
       " Text(0, 2.5, 'ZINC000096459890'),\n",
       " Text(0, 3.5, 'ZINC000343043015'),\n",
       " Text(0, 4.5, 'ZINC000575033470')]"
      ]
     },
     "execution_count": 40,
     "metadata": {},
     "output_type": "execute_result"
    },
    {
     "data": {
      "image/png": "[encoded data removed]",
      "text/plain": [
       "<Figure size 576x288 with 2 Axes>"
      ]
     },
     "metadata": {
      "needs_background": "light"
     },
     "output_type": "display_data"
    }
   ],
   "source": [
    "import matplotlib.pyplot as plt\n",
    "import seaborn as sns\n",
    "\n",
    "hb_matrix = residue_matrix.loc[ [i for i in residue_matrix.index if i[1] == \"Hydrogen bond\"] ]\n",
    "hb_matrix = hb_matrix.loc[:, (hb_matrix != 0).any(axis=0)]\n",
    "\n",
    "fig, ax = plt.subplots(figsize=(8, 4))\n",
    "g = sns.heatmap(hb_matrix)\n",
    "\n",
    "g.set_xlabel(\"\")\n",
    "g.set_ylabel(\"\")\n",
    "\n",
    "g.set_yticklabels([i[0] for i in hb_matrix.index])"
   ]
  },
  {
   "cell_type": "markdown",
   "metadata": {},
   "source": [
    "Let's visualize which residues established weak hydrogen bonds."
   ]
  },
  {
   "cell_type": "code",
   "execution_count": 41,
   "metadata": {},
   "outputs": [
    {
     "data": {
      "text/plain": [
       "[Text(0, 0.5, 'ZINC000012442563'),\n",
       " Text(0, 1.5, 'ZINC000065293174'),\n",
       " Text(0, 2.5, 'ZINC000096459890'),\n",
       " Text(0, 3.5, 'ZINC000343043015'),\n",
       " Text(0, 4.5, 'ZINC000575033470')]"
      ]
     },
     "execution_count": 41,
     "metadata": {},
     "output_type": "execute_result"
    },
    {
     "data": {
      "image/png": "[encoded data removed]",
      "text/plain": [
       "<Figure size 576x288 with 2 Axes>"
      ]
     },
     "metadata": {
      "needs_background": "light"
     },
     "output_type": "display_data"
    }
   ],
   "source": [
    "import matplotlib.pyplot as plt\n",
    "import seaborn as sns\n",
    "\n",
    "whb_matrix = residue_matrix.loc[ [i for i in residue_matrix.index if i[1] == \"Weak hydrogen bond\"] ]\n",
    "whb_matrix = whb_matrix.loc[:, (whb_matrix != 0).any(axis=0)]\n",
    "\n",
    "fig, ax = plt.subplots(figsize=(8, 4))\n",
    "g = sns.heatmap(whb_matrix)\n",
    "\n",
    "g.set_xlabel(\"\")\n",
    "g.set_ylabel(\"\")\n",
    "\n",
    "g.set_yticklabels([i[0] for i in whb_matrix.index])"
   ]
  },
  {
   "cell_type": "markdown",
   "metadata": {},
   "source": [
    "#### Filter interactions by type"
   ]
  },
  {
   "cell_type": "code",
   "execution_count": 42,
   "metadata": {},
   "outputs": [
    {
     "data": {
      "text/plain": [
       "[<InteractionType: compounds=(<AtomGroup: [<ExtendedAtom: D4/0/A/HIS/414/NE2>]>, <AtomGroup: [<ExtendedAtom: D4/0/z/LIG/9999/N3>]>) type=Hydrogen bond>]"
      ]
     },
     "execution_count": 42,
     "metadata": {},
     "output_type": "execute_result"
    }
   ],
   "source": [
    "list(entry_result.interactions_mngr.filter_by_types(['Hydrogen bond']))"
   ]
  },
  {
   "cell_type": "markdown",
   "metadata": {},
   "source": [
    "### Plotting interaction heatmaps"
   ]
  },
  {
   "cell_type": "code",
   "execution_count": 43,
   "metadata": {},
   "outputs": [],
   "source": [
    "from luna.analysis.residues import generate_residue_matrix, heatmap"
   ]
  },
  {
   "cell_type": "code",
   "execution_count": 44,
   "metadata": {},
   "outputs": [],
   "source": [
    "residue_matrix = generate_residue_matrix(proj_obj.interactions_mngrs, by_interaction=True)"
   ]
  },
  {
   "cell_type": "code",
   "execution_count": 45,
   "metadata": {},
   "outputs": [
    {
     "name": "stderr",
     "output_type": "stream",
     "text": [
      "/home/afassio/miniconda3/envs/luna-env/lib/python3.7/site-packages/ipykernel_launcher.py:6: UserWarning: FixedFormatter should only be used together with FixedLocator\n",
      "  \n"
     ]
    },
    {
     "data": {
      "image/png": "[encoded data removed]",
      "text/plain": [
       "<Figure size 1440x1296 with 29 Axes>"
      ]
     },
     "metadata": {
      "needs_background": "light"
     },
     "output_type": "display_data"
    }
   ],
   "source": [
    "axs = heatmap(residue_matrix, cmap=\"Blues\", figsize=(20, 18),\n",
    "              heatmap_kw={\"linewidths\": 2},\n",
    "              gridspec_kw={\"wspace\": 0.4, \"hspace\": 1, \"ncols\": 3})\n",
    "\n",
    "for ax in axs.flatten():\n",
    "    ax.set_xticklabels(ax.get_xticklabels(), rotation=30, horizontalalignment=\"right\")"
   ]
  },
  {
   "cell_type": "markdown",
   "metadata": {},
   "source": [
    "### Visualizing interactions in pymol"
   ]
  },
  {
   "cell_type": "code",
   "execution_count": 46,
   "metadata": {},
   "outputs": [],
   "source": [
    "from luna.interaction.view import InteractionViewer"
   ]
  },
  {
   "cell_type": "code",
   "execution_count": 47,
   "metadata": {},
   "outputs": [
    {
     "name": "stdout",
     "output_type": "stream",
     "text": [
      " Using Python 2 compatible legacy pickler\n",
      " Applying pse_export_version=1.800 compatibility\n"
     ]
    }
   ],
   "source": [
    "all_tuples = [(entries[0], entry_result.interactions_mngr, proj_obj.pdb_path)]\n",
    "pse_file = \"./outputs/D4-visualization-all.pse\"\n",
    "\n",
    "inter_view = InteractionViewer()\n",
    "inter_view.new_session(all_tuples, pse_file)"
   ]
  },
  {
   "cell_type": "markdown",
   "metadata": {},
   "source": [
    "### Visualizing specific types of interactions"
   ]
  },
  {
   "cell_type": "code",
   "execution_count": 48,
   "metadata": {},
   "outputs": [
    {
     "name": "stdout",
     "output_type": "stream",
     "text": [
      " Using Python 2 compatible legacy pickler\n",
      " Applying pse_export_version=1.800 compatibility\n"
     ]
    }
   ],
   "source": [
    "hphobe_inter = list(entry_result.interactions_mngr.filter_by_types(['Hydrophobic']))\n",
    "\n",
    "hp_tuples = [(entries[0], hphobe_inter, proj_obj.pdb_path)]\n",
    "pse_file = \"./outputs/D4-visualization-hydrophobic.pse\"\n",
    "\n",
    "# Show Hydrophobic interactions and surfaces in contact.\n",
    "inter_view = InteractionViewer(show_hydrop_surface=True)\n",
    "inter_view.new_session(hp_tuples, pse_file)"
   ]
  },
  {
   "cell_type": "markdown",
   "metadata": {},
   "source": [
    "## Save full project or individual entry result"
   ]
  },
  {
   "cell_type": "code",
   "execution_count": 49,
   "metadata": {},
   "outputs": [],
   "source": [
    "proj_obj.save(output_file = \"./outputs/D4_proj\")\n",
    "entry_result.save(output_file = \"./outputs/ZINC000007786517_entry\")"
   ]
  },
  {
   "cell_type": "markdown",
   "metadata": {},
   "source": [
    "## Reloading projects"
   ]
  },
  {
   "cell_type": "code",
   "execution_count": 51,
   "metadata": {},
   "outputs": [
    {
     "name": "stderr",
     "output_type": "stream",
     "text": [
      "/media/data/Workspace/Keiser lab/LUNA/luna/projects.py:989: LUNAWarning: Logging mode was set ON. Logging information will be saved from now on.\n",
      "  proj_obj.logging_enabled = logging_enabled\n"
     ]
    },
    {
     "name": "stdout",
     "output_type": "stream",
     "text": [
      "# Entries defined previously:  5\n",
      "\n",
      "D4:ZINC000012442563   =>  # interactions:  68\n",
      "D4:ZINC000065293174   =>  # interactions:  61\n",
      "D4:ZINC000096459890   =>  # interactions:  59\n",
      "D4:ZINC000343043015   =>  # interactions:  52\n",
      "D4:ZINC000575033470   =>  # interactions:  76\n"
     ]
    }
   ],
   "source": [
    "reloaded_proj_obj = luna.projects.LocalProject.load(\"./outputs/luna_results\")\n",
    "\n",
    "print(\"# Entries defined previously: \", len(reloaded_proj_obj.entries))\n",
    "print()\n",
    "\n",
    "for res in reloaded_proj_obj.results:\n",
    "    print(res.entry.to_string(), \"  =>  # interactions: \", len(res.interactions_mngr))"
   ]
  }
 ],
 "metadata": {
  "kernelspec": {
   "display_name": "Python (luna-env)",
   "language": "python",
   "name": "luna-env"
  },
  "language_info": {
   "codemirror_mode": {
    "name": "ipython",
    "version": 3
   },
   "file_extension": ".py",
   "mimetype": "text/x-python",
   "name": "python",
   "nbconvert_exporter": "python",
   "pygments_lexer": "ipython3",
   "version": "3.7.6"
  }
 },
 "nbformat": 4,
 "nbformat_minor": 4
}

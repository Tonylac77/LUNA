{
 "cells": [
  {
   "cell_type": "markdown",
   "metadata": {},
   "source": [
    "# Tutorial #2 - Basic - Generating fingerprints and running multiple jobs"
   ]
  },
  {
   "cell_type": "markdown",
   "metadata": {},
   "source": [
    "This tutorial will cover: \n",
    "* Running multiple jobs sequentially vs in parallel\n",
    "* Generate different flavors of IFP and convert them to RDKit-like objects and then compute Tanimoto similarity\n",
    "* Plotting heatmaps for summarizing the interactions\n",
    "* Plotting a Pymol session for superposed complexes"
   ]
  },
  {
   "cell_type": "code",
   "execution_count": 1,
   "metadata": {},
   "outputs": [],
   "source": [
    "import matplotlib.pyplot as plt\n",
    "import multiprocessing as mp\n",
    "import time\n",
    "import os"
   ]
  },
  {
   "cell_type": "markdown",
   "metadata": {},
   "source": [
    "### Import LUNA"
   ]
  },
  {
   "cell_type": "code",
   "execution_count": 15,
   "metadata": {},
   "outputs": [
    {
     "data": {
      "text/plain": [
       "'0.12.0'"
      ]
     },
     "execution_count": 15,
     "metadata": {},
     "output_type": "execute_result"
    }
   ],
   "source": [
    "import luna\n",
    "\n",
    "luna.version"
   ]
  },
  {
   "cell_type": "markdown",
   "metadata": {},
   "source": [
    "### Reload the project created at Tutorial #1"
   ]
  },
  {
   "cell_type": "code",
   "execution_count": 3,
   "metadata": {},
   "outputs": [
    {
     "name": "stdout",
     "output_type": "stream",
     "text": [
      "[2022-10-05 23:48:06]    \u001b[32mINFO       \u001b[0m     projects.py:982        Reloading project saved in './outputs/luna_results/project_v0.12.0.pkl.gz'.\n",
      "\u001b[0m\n",
      "[2022-10-05 23:48:06]    \u001b[32mINFO       \u001b[0m     projects.py:557        Verbosity set to: 3 (INFO).\u001b[0m\n",
      "[2022-10-05 23:48:06]    \u001b[32mINFO       \u001b[0m     projects.py:557        Project reloaded successfully.\u001b[0m\n",
      "# Entries defined previously:  5\n",
      "D4:ZINC000012442563   =>  # interactions:  68\n",
      "D4:ZINC000065293174   =>  # interactions:  61\n"
     ]
    },
    {
     "name": "stderr",
     "output_type": "stream",
     "text": [
      "/media/data/Workspace/Keiser lab/LUNA/luna/projects.py:989: LUNAWarning: Logging mode was set ON. Logging information will be saved from now on.\n",
      "  proj_obj.logging_enabled = logging_enabled\n"
     ]
    },
    {
     "name": "stdout",
     "output_type": "stream",
     "text": [
      "D4:ZINC000096459890   =>  # interactions:  59\n",
      "D4:ZINC000343043015   =>  # interactions:  52\n",
      "D4:ZINC000575033470   =>  # interactions:  76\n"
     ]
    }
   ],
   "source": [
    "proj_obj = luna.projects.LocalProject.load(\"./outputs/luna_results\")\n",
    "\n",
    "print(\"# Entries defined previously: \", len(proj_obj.entries))\n",
    "\n",
    "for res in proj_obj.results:\n",
    "    print(res.entry.to_string(), \"  =>  # interactions: \", len(res.interactions_mngr))"
   ]
  },
  {
   "cell_type": "markdown",
   "metadata": {},
   "source": [
    "### Create new Fingerprints"
   ]
  },
  {
   "cell_type": "markdown",
   "metadata": {},
   "source": [
    "After reloading a project, you can create fingerprints without having to recalculate interactions. By doing so, you can create different fingerprints by varying the IFP parameters if you will."
   ]
  },
  {
   "cell_type": "code",
   "execution_count": 4,
   "metadata": {},
   "outputs": [],
   "source": [
    "from luna.interaction.fp.type import IFPType"
   ]
  },
  {
   "cell_type": "code",
   "execution_count": 5,
   "metadata": {},
   "outputs": [],
   "source": [
    "proj_obj.calc_ifp = True # interaction fingerprint\n",
    "\n",
    "proj_obj.ifp_type = IFPType.EIFP # Type of fingerprints: EIFP, FIFP, or HIFP\n",
    "proj_obj.ifp_count = True # Choose between count and bit fingerprint\n",
    "\n",
    "proj_obj.ifp_num_levels = 6 # IFP parameter: number of levels\n",
    "proj_obj.ifp_radius_step = 2 # IFP parameter: radius growth\n",
    "proj_obj.ifp_length = 4096 # IFP parameter: size of the fingerprint"
   ]
  },
  {
   "cell_type": "markdown",
   "metadata": {},
   "source": [
    "To create the fingerprints with the modified parameters, call the function **generate_ifps()**:"
   ]
  },
  {
   "cell_type": "code",
   "execution_count": 6,
   "metadata": {},
   "outputs": [
    {
     "name": "stdout",
     "output_type": "stream",
     "text": [
      "[2022-10-05 23:48:15]    \u001b[32mINFO       \u001b[0m     projects.py:557        Preparing project directory '/media/data/Workspace/Keiser lab/LUNA/tutorial/outputs/luna_results'.\u001b[0m\n",
      "[2022-10-05 23:48:15]    \u001b[32mINFO       \u001b[0m         file.py:191        The directory '/media/data/Workspace/Keiser lab/LUNA/tutorial/outputs/luna_results' already exists, but it will not be cleared.\u001b[0m\n",
      "[2022-10-05 23:48:15]    \u001b[32mINFO       \u001b[0m         file.py:191        The directory '/media/data/Workspace/Keiser lab/LUNA/tutorial/outputs/luna_results/results' already exists, but it will not be cleared.\u001b[0m\n",
      "[2022-10-05 23:48:15]    \u001b[32mINFO       \u001b[0m     projects.py:557        Project directory '/media/data/Workspace/Keiser lab/LUNA/tutorial/outputs/luna_results' created successfully.\u001b[0m\n"
     ]
    },
    {
     "name": "stderr",
     "output_type": "stream",
     "text": [
      "/home/afassio/miniconda3/envs/luna-env/lib/python3.7/site-packages/ipykernel_launcher.py:1: LUNADeprecationWarning: Function `generate_ifps` was deprecated in 0.12.0 and will be removed in 0.13.0. Use the general `generate_fps` instead.\n",
      "  \"\"\"Entry point for launching an IPython kernel.\n",
      "[2022-10-05 23:48:15]    \u001b[32mINFO       \u001b[0m     projects.py:557        Logging file '/media/data/Workspace/Keiser lab/LUNA/tutorial/outputs/luna_results/logs/project.log' initialized successfully.\u001b[0m\n",
      "[2022-10-05 23:48:15]    \u001b[32mINFO       \u001b[0m     projects.py:557        Fingerprint generation will start. Number of entries to be processed is: 5.\u001b[0m\n",
      "[2022-10-05 23:48:15]    \u001b[32mINFO       \u001b[0m     projects.py:557        The number of processes was set to: None.\u001b[0m\n"
     ]
    },
    {
     "name": "stdout",
     "output_type": "stream",
     "text": [
      "[2022-10-05 23:48:20]    \u001b[35mPROGRESS   \u001b[0m                            100% [■■■■■■■■■■■■■■■■■■■■■■■■■■■■■■■■■■■■■■■■■■■■■■■■■■] 5/5 [Avg: 1.11s/task; Errors: 0] - Fingerprint generation."
     ]
    },
    {
     "name": "stderr",
     "output_type": "stream",
     "text": [
      "[2022-10-05 23:48:20]    \u001b[32mINFO       \u001b[0m     projects.py:557        Fingerprint generation finished successfully.\u001b[0m\n"
     ]
    },
    {
     "name": "stdout",
     "output_type": "stream",
     "text": [
      "\n"
     ]
    },
    {
     "name": "stderr",
     "output_type": "stream",
     "text": [
      "[2022-10-05 23:48:21]    \u001b[32mINFO       \u001b[0m     projects.py:557        Total processing time: 6.05s.\u001b[0m\n",
      "[2022-10-05 23:48:21]    \u001b[32mINFO       \u001b[0m     projects.py:557        Results were saved at /media/data/Workspace/Keiser lab/LUNA/tutorial/outputs/luna_results.\n",
      "\n",
      "\u001b[0m\n"
     ]
    }
   ],
   "source": [
    "proj_obj.generate_ifps()"
   ]
  },
  {
   "cell_type": "markdown",
   "metadata": {},
   "source": [
    "The default output is saved at <WORKING-PATH>/results/fingerprints/ifp.csv, but you can also indicate the output filename if you will.\n"
   ]
  },
  {
   "cell_type": "code",
   "execution_count": 7,
   "metadata": {},
   "outputs": [],
   "source": [
    "proj_obj.ifp_output = \"./outputs/new_output_file.csv\""
   ]
  },
  {
   "cell_type": "markdown",
   "metadata": {},
   "source": [
    "### Evaluate results\n",
    "\n",
    "The results for each individual entry can be accessed through the EntryResult."
   ]
  },
  {
   "cell_type": "code",
   "execution_count": 7,
   "metadata": {},
   "outputs": [
    {
     "data": {
      "text/plain": [
       "<matplotlib.legend.Legend at 0x7f1990434e50>"
      ]
     },
     "execution_count": 7,
     "metadata": {},
     "output_type": "execute_result"
    },
    {
     "data": {
      "image/png": "[encoded data removed]",
      "text/plain": [
       "<Figure size 1440x360 with 1 Axes>"
      ]
     },
     "metadata": {
      "needs_background": "light"
     },
     "output_type": "display_data"
    }
   ],
   "source": [
    "fig, ax = plt.subplots(figsize=(20, 5))\n",
    "\n",
    "for i, entry in enumerate(proj_obj.entries):\n",
    "    fp = proj_obj.get_entry_results(entry).ifp\n",
    "    plot_vals = [fp.counts[i] if i in fp.counts else 0 for i in range(1, fp.fp_length + 1)]\n",
    "    ax.plot(plot_vals, label = f\"FP {i}\")\n",
    "plt.legend()"
   ]
  },
  {
   "cell_type": "markdown",
   "metadata": {},
   "source": [
    "#### Density - how populated is the fingerprint"
   ]
  },
  {
   "cell_type": "code",
   "execution_count": 8,
   "metadata": {},
   "outputs": [
    {
     "data": {
      "text/plain": [
       "(array([1., 1., 0., 0., 1., 0., 1., 0., 0., 1.]),\n",
       " array([0.11254883, 0.11479492, 0.11704102, 0.11928711, 0.1215332 ,\n",
       "        0.1237793 , 0.12602539, 0.12827148, 0.13051758, 0.13276367,\n",
       "        0.13500977]),\n",
       " <BarContainer object of 10 artists>)"
      ]
     },
     "execution_count": 8,
     "metadata": {},
     "output_type": "execute_result"
    },
    {
     "data": {
      "image/png": "[encoded data removed]",
      "text/plain": [
       "<Figure size 432x288 with 1 Axes>"
      ]
     },
     "metadata": {
      "needs_background": "light"
     },
     "output_type": "display_data"
    }
   ],
   "source": [
    "densities = [proj_obj.get_entry_results(entry).ifp.density for entry in proj_obj.entries]\n",
    "plt.hist(densities)"
   ]
  },
  {
   "cell_type": "markdown",
   "metadata": {},
   "source": [
    "#### Tanimoto coefficient - how similar are two fingerprints"
   ]
  },
  {
   "cell_type": "markdown",
   "metadata": {},
   "source": [
    "You can calculate the similarity between two fingerprints using the function **calc_similarity()** from the fingerprint object."
   ]
  },
  {
   "cell_type": "code",
   "execution_count": 9,
   "metadata": {},
   "outputs": [
    {
     "data": {
      "text/plain": [
       "(array([2., 0., 0., 0., 0., 1., 0., 0., 0., 1.]),\n",
       " array([0.22133939, 0.22323457, 0.22512976, 0.22702495, 0.22892014,\n",
       "        0.23081532, 0.23271051, 0.2346057 , 0.23650089, 0.23839607,\n",
       "        0.24029126]),\n",
       " <BarContainer object of 10 artists>)"
      ]
     },
     "execution_count": 9,
     "metadata": {},
     "output_type": "execute_result"
    },
    {
     "data": {
      "image/png": "[encoded data removed]",
      "text/plain": [
       "<Figure size 432x288 with 1 Axes>"
      ]
     },
     "metadata": {
      "needs_background": "light"
     },
     "output_type": "display_data"
    }
   ],
   "source": [
    "# Get a list of tuples where the first element is an entry and the second is an IFP.\n",
    "ifps = list(proj_obj.ifps)\n",
    "\n",
    "tanimotos = [ifps[0][1].calc_similarity(ifps[i][1]) for i in range(1,5)]\n",
    "\n",
    "plt.hist(tanimotos)"
   ]
  },
  {
   "cell_type": "markdown",
   "metadata": {},
   "source": [
    "## Export shells to Pymol sessions"
   ]
  },
  {
   "cell_type": "markdown",
   "metadata": {},
   "source": [
    "To export shells to Pymol, you first need to create a **ShellGenerator** object that create shells for a given entry. As a result, it produces a **ShellManager** object. With a ShellManager you can access the created shells, create fingerprints, and trace back bit positions at a fingerprint back to its original shell."
   ]
  },
  {
   "cell_type": "code",
   "execution_count": 10,
   "metadata": {},
   "outputs": [],
   "source": [
    "from luna.interaction.fp.shell import ShellGenerator\n",
    "from luna.interaction.fp.view import ShellViewer"
   ]
  },
  {
   "cell_type": "code",
   "execution_count": null,
   "metadata": {},
   "outputs": [
    {
     "name": "stdout",
     "output_type": "stream",
     "text": [
      "# shells:  1978\n"
     ]
    }
   ],
   "source": [
    "target_entry = proj_obj.entries[0]\n",
    "agm = proj_obj.get_entry_results(target_entry).atm_grps_mngr\n",
    "\n",
    "sg = ShellGenerator(proj_obj.ifp_num_levels, proj_obj.ifp_radius_step, diff_comp_classes=proj_obj.ifp_diff_comp_classes, ifp_type=proj_obj.ifp_type)\n",
    "sm = sg.create_shells(agm)\n",
    "\n",
    "print(\"# shells: \", len(sm.shells))"
   ]
  },
  {
   "cell_type": "code",
   "execution_count": null,
   "metadata": {},
   "outputs": [
    {
     "name": "stdout",
     "output_type": "stream",
     "text": [
      "# shells at level 4:  69\n",
      " Using Python 2 compatible legacy pickler\n",
      " Applying pse_export_version=1.800 compatibility\n"
     ]
    }
   ],
   "source": [
    "psv = ShellViewer(add_directional_arrows=False)\n",
    "\n",
    "# Let's select some shells. In this example, we are selecting only unique shells at level 4.\n",
    "shells = sm.get_shells_by_level(4, unique_shells=True)\n",
    "print(\"# shells at level 4: \", len(shells))\n",
    "\n",
    "# Create a list of tuples, where the first item is the entry and the second item is the shells you want to visualize.\n",
    "# In this example, let's visualize just the first five selected shells.\n",
    "shell_tuples = [(target_entry, shells[0:6], proj_obj.pdb_path)]\n",
    "\n",
    "# Define the output file. Note that all shells will be saved at the same Pymol session.\n",
    "pse_file = \"./outputs/shells_at_level4.pse\"\n",
    "psv.new_session(shell_tuples, pse_file)"
   ]
  },
  {
   "cell_type": "markdown",
   "metadata": {},
   "source": [
    "## Trace back a feature to its shell"
   ]
  },
  {
   "cell_type": "markdown",
   "metadata": {},
   "source": [
    "To trace a feature in the fingerprint back to its shell, you need to use the function **trace_back_feature()** available at ShellManager objects."
   ]
  },
  {
   "cell_type": "code",
   "execution_count": null,
   "metadata": {},
   "outputs": [
    {
     "name": "stdout",
     "output_type": "stream",
     "text": [
      "Shell id: 1517445126\n",
      "  - Number of shells containing this id: 1.\n",
      "\n"
     ]
    }
   ],
   "source": [
    "ifp = sm.to_fingerprint(fold_to_length=4096, unique_shells=True, count_fp=False)\n",
    "\n",
    "# Trace back the first feature set ON in the fingerprint.\n",
    "recoved_shells = sm.trace_back_feature(ifp.get_on_bits()[0], ifp)\n",
    "\n",
    "# As collisions may occur in a fingerprint, the trace_back_feature returns all shells collided in a given feature id.\n",
    "for ori_feature, found_shells in recoved_shells:\n",
    "    print(\"Shell id: %s\" % ori_feature)\n",
    "    print(\"  - Number of shells containing this id: %d.\" % len(found_shells))\n",
    "    print()"
   ]
  }
 ],
 "metadata": {
  "kernelspec": {
   "display_name": "Python (luna-env)",
   "language": "python",
   "name": "luna-env"
  },
  "language_info": {
   "codemirror_mode": {
    "name": "ipython",
    "version": 3
   },
   "file_extension": ".py",
   "mimetype": "text/x-python",
   "name": "python",
   "nbconvert_exporter": "python",
   "pygments_lexer": "ipython3",
   "version": "3.7.6"
  }
 },
 "nbformat": 4,
 "nbformat_minor": 4
}

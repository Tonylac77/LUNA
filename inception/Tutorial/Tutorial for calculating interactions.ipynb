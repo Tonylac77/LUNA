{
 "cells": [
  {
   "cell_type": "markdown",
   "metadata": {
    "ExecuteTime": {
     "end_time": "2019-07-15T18:25:09.492496Z",
     "start_time": "2019-07-15T18:25:09.490025Z"
    }
   },
   "source": [
    "# Setting the environment"
   ]
  },
  {
   "cell_type": "markdown",
   "metadata": {},
   "source": [
    "## How to run the scripts from your computer"
   ]
  },
  {
   "cell_type": "markdown",
   "metadata": {},
   "source": [
    "-  \n",
    "First of all, you need to install the libraries:\n",
    "\n",
    "> **conda env create -f bioinfo-env.yml**"
   ]
  },
  {
   "cell_type": "markdown",
   "metadata": {
    "ExecuteTime": {
     "end_time": "2019-07-15T18:27:13.464692Z",
     "start_time": "2019-07-15T18:27:13.460872Z"
    }
   },
   "source": [
    "- Then, you need to activate the Conda environment: \n",
    "    \n",
    "> **source activate bioinfo-env**"
   ]
  },
  {
   "cell_type": "markdown",
   "metadata": {},
   "source": [
    "- Finally, in the **scripts** directory, open a terminal and type: \n",
    "    \n",
    "> **python `<SCRIPT.py>`**"
   ]
  },
  {
   "cell_type": "markdown",
   "metadata": {
    "ExecuteTime": {
     "end_time": "2019-07-15T18:45:41.654759Z",
     "start_time": "2019-07-15T18:45:41.651739Z"
    }
   },
   "source": [
    "## How to import napoli.py from everywhere..."
   ]
  },
  {
   "cell_type": "markdown",
   "metadata": {
    "ExecuteTime": {
     "end_time": "2019-07-15T18:49:46.471830Z",
     "start_time": "2019-07-15T18:49:46.464761Z"
    }
   },
   "source": [
    "I would say that the best way to import my scripts from anywhere, it would be by adding the project directory into the ENV python. However, I will not cover it right now.\n",
    "\n",
    "**Note:** by everywhere, I mean: to open a terminal at any directory in your PC and import the library without getting import errors. Usually, I just go to the main directory and open the terminal there as I explained in the previous section."
   ]
  },
  {
   "cell_type": "markdown",
   "metadata": {},
   "source": [
    "Another simple way to do it is:\n",
    "\n",
    "> **import sys**\n",
    ">\n",
    "> **scripts = `<YOUR PATH TO THE SCRIPTS\\>`**\n",
    ">\n",
    "> **sys.path.append(scripts)**"
   ]
  },
  {
   "cell_type": "markdown",
   "metadata": {
    "ExecuteTime": {
     "end_time": "2019-07-15T19:14:46.531959Z",
     "start_time": "2019-07-15T19:14:46.527896Z"
    }
   },
   "source": [
    "### Test..."
   ]
  },
  {
   "cell_type": "code",
   "execution_count": 2,
   "metadata": {
    "ExecuteTime": {
     "end_time": "2019-07-16T00:41:17.842546Z",
     "start_time": "2019-07-16T00:41:17.375477Z"
    }
   },
   "outputs": [
    {
     "name": "stdout",
     "output_type": "stream",
     "text": [
      "Module successfully imported!!!\n"
     ]
    }
   ],
   "source": [
    "import sys\n",
    "\n",
    "scripts = '/media/data/Workspace/nAPOLI_v2/scripts'\n",
    "sys.path.append(scripts)\n",
    "\n",
    "import napoli\n",
    "\n",
    "if 'napoli' in sys.modules:\n",
    "    print(\"Module successfully imported!!!\")\n",
    "else:\n",
    "    print(\"Module not imported!!!\")"
   ]
  },
  {
   "cell_type": "markdown",
   "metadata": {},
   "source": [
    "# How to discover which ligands to use"
   ]
  },
  {
   "cell_type": "code",
   "execution_count": 3,
   "metadata": {
    "ExecuteTime": {
     "end_time": "2019-07-16T00:41:40.534174Z",
     "start_time": "2019-07-16T00:41:19.151648Z"
    }
   },
   "outputs": [
    {
     "name": "stdout",
     "output_type": "stream",
     "text": [
      "Downloading PDB structure '3QQK'...\n",
      "Ligands found in the PDB 3QQK:\n",
      "\n",
      "\t 3QQK:A:EDO:490 \n",
      "\t 3QQK:A:EDO:491 \n",
      "\t 3QQK:A:EDO:492 \n",
      "\t 3QQK:A:EDO:493 \n",
      "\t 3QQK:A:EDO:496 \n",
      "\t 3QQK:A:X02:497 \n",
      "\t 3QQK:A\n"
     ]
    }
   ],
   "source": [
    "from mol.entry import recover_entries_from_entity\n",
    "from MyBio.util import download_pdb\n",
    "from MyBio.PDB.PDBParser import PDBParser\n",
    "\n",
    "# Define a PDB id you want to analyze\n",
    "pdb_id = '3QQK'\n",
    "output_path = \".\"\n",
    "# It will download a PDB, but you can also use one already in your PC.\n",
    "download_pdb(pdb_id=pdb_id, output_path=output_path)\n",
    "\n",
    "pdb_file = '%s/%s.pdb' % (output_path, pdb_id)\n",
    "\n",
    "# BioPython: parse a pdb file into a structure object.\n",
    "PDB_PARSER = PDBParser(PERMISSIVE=True, QUIET=True, FIX_ATOM_NAME_CONFLICT=False, FIX_OBABEL_FLAGS=False)\n",
    "structure = PDB_PARSER.get_structure(pdb_id, pdb_file)\n",
    "\n",
    "# The function recover_entries_from_entity() allows you to recover ligands from a PDB file and return a list\n",
    "# of strings. So, you'll be able to choose which ligands you want to analyze and then create the Entry objects\n",
    "# as I will show later.\n",
    "print(\"Ligands found in the PDB %s:\\n\" % pdb_id)\n",
    "for entry in recover_entries_from_entity(structure):\n",
    "    print(\"\\t\", entry)"
   ]
  },
  {
   "cell_type": "markdown",
   "metadata": {},
   "source": [
    "# Defining your own list of Entry objects"
   ]
  },
  {
   "cell_type": "markdown",
   "metadata": {
    "ExecuteTime": {
     "end_time": "2019-07-15T19:33:33.852356Z",
     "start_time": "2019-07-15T19:33:33.849809Z"
    }
   },
   "source": [
    "## Protein-small molecule entries"
   ]
  },
  {
   "cell_type": "markdown",
   "metadata": {
    "ExecuteTime": {
     "end_time": "2019-07-15T19:28:07.551256Z",
     "start_time": "2019-07-15T19:28:07.546148Z"
    }
   },
   "source": [
    "- Each Protein-Small molecule entry is in the pattern: **`PDB:CHAIN:LIG-NAME:LIG-NUM[+ICODE]`**. The ICODE is only used when this information exists in the PDB file.\n",
    "\n",
    "\n",
    "> Therefore, a small molecule Entry should always have the parameters: **`pdb_id, chain_id, comp_name, comp_num`**. There is also an optional parameter `comp_icode` for setting Icode.\n",
    "\n",
    "**IMPORTANT:** the `pdb_id` parameter must coincide with the PDB filename."
   ]
  },
  {
   "cell_type": "markdown",
   "metadata": {
    "ExecuteTime": {
     "end_time": "2019-07-15T19:34:51.179819Z",
     "start_time": "2019-07-15T19:34:51.176848Z"
    }
   },
   "source": [
    "### Examples"
   ]
  },
  {
   "cell_type": "markdown",
   "metadata": {},
   "source": [
    "- **First, import the Entry objects.**"
   ]
  },
  {
   "cell_type": "code",
   "execution_count": 4,
   "metadata": {
    "ExecuteTime": {
     "end_time": "2019-07-16T00:41:40.539539Z",
     "start_time": "2019-07-16T00:41:40.536528Z"
    }
   },
   "outputs": [],
   "source": [
    "from mol.entry import *"
   ]
  },
  {
   "cell_type": "markdown",
   "metadata": {},
   "source": [
    "- **Then you can define a new small molecule entry either by passing parameters or a string.**"
   ]
  },
  {
   "cell_type": "code",
   "execution_count": 5,
   "metadata": {
    "ExecuteTime": {
     "end_time": "2019-07-16T00:41:40.546588Z",
     "start_time": "2019-07-16T00:41:40.542017Z"
    }
   },
   "outputs": [
    {
     "name": "stdout",
     "output_type": "stream",
     "text": [
      "<CompoundEntry: 3QQK:A:X02:497>\n",
      "Entry as string: 3QQK:A:X02:497\n",
      "\n",
      "<CompoundEntry: 3QQK:A:X02:497>\n",
      "Entry as string: 3QQK:A:X02:497\n"
     ]
    }
   ],
   "source": [
    "# Parameters: \n",
    "entry = CompoundEntry(\"3QQK\", \"A\", \"X02\", 497)\n",
    "print(entry)\n",
    "print(\"Entry as string:\", entry.to_string())\n",
    "print()\n",
    "\n",
    "# String...\n",
    "entry = CompoundEntry.from_string(\"3QQK:A:X02:497\", sep=\":\")\n",
    "print(entry)\n",
    "print(\"Entry as string:\", entry.to_string())"
   ]
  },
  {
   "cell_type": "markdown",
   "metadata": {
    "ExecuteTime": {
     "end_time": "2019-07-15T19:40:07.586485Z",
     "start_time": "2019-07-15T19:40:07.574787Z"
    }
   },
   "source": [
    "- **The previous example covers only the cases in which the ligand and the protein structure is in the same PDB file. However, if these components are in two different files as, for example, in a PDB and molecular file (Mol, Mol2, SDF, PDB, etc), you can use the following entry object.**"
   ]
  },
  {
   "cell_type": "code",
   "execution_count": 6,
   "metadata": {
    "ExecuteTime": {
     "end_time": "2019-07-16T00:41:40.560652Z",
     "start_time": "2019-07-16T00:41:40.548802Z"
    }
   },
   "outputs": [
    {
     "name": "stdout",
     "output_type": "stream",
     "text": [
      "<MolEntry: MY-PDB-ID:MY-LIGAND-ID-IN-THE-FILE>\n"
     ]
    }
   ],
   "source": [
    "# Use PDB + molecule files (Mol, Mol2, SDF, etc):\n",
    "# This option allows you to define a separate ligand file as input. \n",
    "# This is useful when you want to keep the ligand charge information, bond order, valence, etc.\n",
    "entry = MolEntry(\"MY-PDB-ID\", \"MY-LIGAND-ID-IN-THE-FILE\", mol_file=\"/my/dir/file.mol\", mol_obj_type='rdkit')\n",
    "print(entry)"
   ]
  },
  {
   "cell_type": "markdown",
   "metadata": {},
   "source": [
    "- **If you have a file containing strings, you can also create entries automatically as follows:**"
   ]
  },
  {
   "cell_type": "markdown",
   "metadata": {},
   "source": [
    "Let's create a new file for testing..."
   ]
  },
  {
   "cell_type": "code",
   "execution_count": 7,
   "metadata": {
    "ExecuteTime": {
     "end_time": "2019-07-16T00:41:40.569862Z",
     "start_time": "2019-07-16T00:41:40.562001Z"
    }
   },
   "outputs": [
    {
     "name": "stdout",
     "output_type": "stream",
     "text": [
      "File 'input_example' created successfully!!!\n"
     ]
    }
   ],
   "source": [
    "# I imported this module only to check if the file was created.\n",
    "from os.path import exists\n",
    "\n",
    "output_file = \"input_example\"\n",
    "with open(output_file, \"w\") as OUT:\n",
    "    OUT.write(\"3QQK:A:X02:497\\n\")\n",
    "    OUT.write(\"3QL8:A:X01:300\\n\")\n",
    "\n",
    "if exists(output_file):\n",
    "    print(\"File '%s' created successfully!!!\" % output_file)"
   ]
  },
  {
   "cell_type": "markdown",
   "metadata": {
    "ExecuteTime": {
     "end_time": "2019-07-15T20:02:36.322630Z",
     "start_time": "2019-07-15T20:02:36.317877Z"
    }
   },
   "source": [
    "Now, we read the strings from the created file..."
   ]
  },
  {
   "cell_type": "code",
   "execution_count": 8,
   "metadata": {
    "ExecuteTime": {
     "end_time": "2019-07-16T00:41:40.582729Z",
     "start_time": "2019-07-16T00:41:40.571386Z"
    }
   },
   "outputs": [
    {
     "name": "stdout",
     "output_type": "stream",
     "text": [
      "List of entries:\n",
      "\n",
      "[<CompoundEntry: 3QQK:A:X02:497>, <CompoundEntry: 3QL8:A:X01:300>]\n"
     ]
    }
   ],
   "source": [
    "# Entry strings are in the file\n",
    "input_file = \"input_example\"\n",
    "\n",
    "entries = []\n",
    "# In this example, each line in the input file has an entry.\n",
    "with open(input_file, \"r\") as IN:\n",
    "    for entry in IN.readlines():\n",
    "        entries.append(CompoundEntry.from_string(entry.strip()))\n",
    "\n",
    "print(\"List of entries:\\n\")\n",
    "print(entries)"
   ]
  },
  {
   "cell_type": "markdown",
   "metadata": {},
   "source": [
    "- **Another automatic way to initialize a list of entries is by using the module recover_entries_from_entity() as explained in the section 2.**"
   ]
  },
  {
   "cell_type": "markdown",
   "metadata": {},
   "source": [
    "Note that I defined the parameter `get_chains` to False when I called the module `recover_entries_from_entity()`. This parameter defines if Chain entries should be recovered or not. Since, I am working with small molecules in these examples, I ignored all Chain entries."
   ]
  },
  {
   "cell_type": "code",
   "execution_count": 9,
   "metadata": {
    "ExecuteTime": {
     "end_time": "2019-07-16T00:41:40.641178Z",
     "start_time": "2019-07-16T00:41:40.584245Z"
    }
   },
   "outputs": [
    {
     "name": "stdout",
     "output_type": "stream",
     "text": [
      "List of entries found in the PDB 3QQK:\n",
      "\n",
      "[<CompoundEntry: 3QQK:A:EDO:490>, <CompoundEntry: 3QQK:A:EDO:491>, <CompoundEntry: 3QQK:A:EDO:492>, <CompoundEntry: 3QQK:A:EDO:493>, <CompoundEntry: 3QQK:A:EDO:496>, <CompoundEntry: 3QQK:A:X02:497>]\n"
     ]
    }
   ],
   "source": [
    "from mol.entry import recover_entries_from_entity\n",
    "from MyBio.util import download_pdb\n",
    "from MyBio.PDB.PDBParser import PDBParser\n",
    "\n",
    "# Define a PDB id you want to analyze\n",
    "pdb_id = '3QQK'\n",
    "output_path = \".\"\n",
    "# It will download a PDB, but you can also use one already in your PC.\n",
    "download_pdb(pdb_id=pdb_id, output_path=output_path)\n",
    "\n",
    "pdb_file = '%s/%s.pdb' % (output_path, pdb_id)\n",
    "\n",
    "# BioPython: parse a pdb file into a structure object.\n",
    "PDB_PARSER = PDBParser(PERMISSIVE=True, QUIET=True, FIX_ATOM_NAME_CONFLICT=False, FIX_OBABEL_FLAGS=False)\n",
    "structure = PDB_PARSER.get_structure(pdb_id, pdb_file)\n",
    "\n",
    "entries = []\n",
    "for entry in recover_entries_from_entity(structure, get_chains=False):\n",
    "    entries.append(CompoundEntry.from_string(entry.strip()))\n",
    "    \n",
    "print(\"List of entries found in the PDB %s:\\n\" % pdb_id)\n",
    "print(entries)"
   ]
  },
  {
   "cell_type": "markdown",
   "metadata": {},
   "source": [
    "## Protein-chain entries"
   ]
  },
  {
   "cell_type": "markdown",
   "metadata": {
    "ExecuteTime": {
     "end_time": "2019-07-15T19:47:26.542331Z",
     "start_time": "2019-07-15T19:47:26.530054Z"
    }
   },
   "source": [
    "- Each Protein-Chain entry is in the pattern: **`PDB:CHAIN`**.\n",
    "\n",
    "\n",
    "> Therefore, a chain Entry should always have the parameters: **`pdb_id, chain_id`**. \n",
    "\n",
    "**IMPORTANT:** the `pdb_id` parameter must coincide with the PDB filename.\n",
    "\n",
    "**These entries are useful when you want to calculate interactions that a specific protein/dna/rna chain establishes with other molecules.** "
   ]
  },
  {
   "cell_type": "markdown",
   "metadata": {},
   "source": [
    "### Examples"
   ]
  },
  {
   "cell_type": "markdown",
   "metadata": {
    "ExecuteTime": {
     "end_time": "2019-07-15T19:50:19.072114Z",
     "start_time": "2019-07-15T19:50:19.062437Z"
    }
   },
   "source": [
    "- **First, import the Entry objects.**"
   ]
  },
  {
   "cell_type": "code",
   "execution_count": 10,
   "metadata": {
    "ExecuteTime": {
     "end_time": "2019-07-16T00:41:40.645083Z",
     "start_time": "2019-07-16T00:41:40.642901Z"
    }
   },
   "outputs": [],
   "source": [
    "from mol.entry import *"
   ]
  },
  {
   "cell_type": "markdown",
   "metadata": {
    "ExecuteTime": {
     "end_time": "2019-07-15T19:50:39.566391Z",
     "start_time": "2019-07-15T19:50:39.560743Z"
    }
   },
   "source": [
    "- **Then you can define a new small molecule entry either by passing parameters or a string.**"
   ]
  },
  {
   "cell_type": "code",
   "execution_count": 11,
   "metadata": {
    "ExecuteTime": {
     "end_time": "2019-07-16T00:41:40.658871Z",
     "start_time": "2019-07-16T00:41:40.646597Z"
    }
   },
   "outputs": [
    {
     "name": "stdout",
     "output_type": "stream",
     "text": [
      "<ChainEntry: 3QQK:A>\n",
      "Entry as string: 3QQK:A\n",
      "\n",
      "<ChainEntry: 3QQK:A>\n",
      "Entry as string: 3QQK:A\n"
     ]
    }
   ],
   "source": [
    "# Parameters: \n",
    "entry = ChainEntry(\"3QQK\", \"A\")\n",
    "print(entry)\n",
    "print(\"Entry as string:\", entry.to_string())\n",
    "print()\n",
    "\n",
    "# String...\n",
    "entry = ChainEntry.from_string(\"3QQK:A\", sep=\":\")\n",
    "print(entry)\n",
    "print(\"Entry as string:\", entry.to_string())"
   ]
  },
  {
   "cell_type": "markdown",
   "metadata": {},
   "source": [
    "- **As I showed for small molecule entries, it is also possible to automatically read Chain entries from files or by recovering entries from a PDB file.**\n",
    "\n",
    "> **Just remember that you should use ChainEntry instead of CompoundEntry.**"
   ]
  },
  {
   "cell_type": "markdown",
   "metadata": {},
   "source": [
    "Note that I defined the parameter `get_small_molecules` to False when I called the module `recover_entries_from_entity()`. This parameter defines if small molecules entries should be recovered or not. Since, I am working with Chains in these examples, I ignored all small molecule entries."
   ]
  },
  {
   "cell_type": "code",
   "execution_count": 12,
   "metadata": {
    "ExecuteTime": {
     "end_time": "2019-07-16T00:41:40.706663Z",
     "start_time": "2019-07-16T00:41:40.660243Z"
    },
    "cell_style": "center"
   },
   "outputs": [
    {
     "name": "stdout",
     "output_type": "stream",
     "text": [
      "List of entries found in the PDB 3QQK:\n",
      "\n",
      "[<ChainEntry: 3QQK:A>]\n"
     ]
    }
   ],
   "source": [
    "from mol.entry import recover_entries_from_entity\n",
    "from MyBio.util import download_pdb\n",
    "from MyBio.PDB.PDBParser import PDBParser\n",
    "\n",
    "# Define a PDB id you want to analyze\n",
    "pdb_id = '3QQK'\n",
    "output_path = \".\"\n",
    "# It will download a PDB, but you can also use one already in your PC.\n",
    "download_pdb(pdb_id=pdb_id, output_path=output_path)\n",
    "\n",
    "pdb_file = '%s/%s.pdb' % (output_path, pdb_id)\n",
    "\n",
    "# BioPython: parse a pdb file into a structure object.\n",
    "PDB_PARSER = PDBParser(PERMISSIVE=True, QUIET=True, FIX_ATOM_NAME_CONFLICT=False, FIX_OBABEL_FLAGS=False)\n",
    "structure = PDB_PARSER.get_structure(pdb_id, pdb_file)\n",
    "\n",
    "entries = []\n",
    "for entry in recover_entries_from_entity(structure, get_small_molecules=False):\n",
    "    entries.append(ChainEntry.from_string(entry.strip()))\n",
    "    \n",
    "print(\"List of entries found in the PDB %s:\\n\" % pdb_id)\n",
    "print(entries)"
   ]
  },
  {
   "cell_type": "markdown",
   "metadata": {},
   "source": [
    "# Calculate interactions"
   ]
  },
  {
   "cell_type": "markdown",
   "metadata": {
    "ExecuteTime": {
     "end_time": "2019-07-15T20:54:58.385131Z",
     "start_time": "2019-07-15T20:54:58.381426Z"
    }
   },
   "source": [
    "## Set up the parameters to calculate interactions"
   ]
  },
  {
   "cell_type": "markdown",
   "metadata": {},
   "source": [
    "In the below cell, I will describe a list of useful parameters that may be useful for calculating interactions. There are other parameters, but they will not be discussed here."
   ]
  },
  {
   "cell_type": "code",
   "execution_count": 13,
   "metadata": {
    "ExecuteTime": {
     "end_time": "2019-07-16T00:41:40.714415Z",
     "start_time": "2019-07-16T00:41:40.708029Z"
    }
   },
   "outputs": [],
   "source": [
    "import napoli\n",
    "\n",
    "opt = {}\n",
    "\n",
    "entries = [CompoundEntry.from_string(\"3QQK:A:X02:497\", sep=\":\")]\n",
    "\n",
    "# The list of entries you defined previously.\n",
    "opt[\"entries\"] = entries\n",
    "\n",
    "# Where do you want to save your project.\n",
    "opt[\"working_path\"] = \"tmp/example_project\"\n",
    "\n",
    "# In case the working path you defined above already exists, it allows the script to overwrite the directory.\n",
    "# Just be aware that it can remove files from a previous project.\n",
    "opt[\"overwrite_path\"] = True\n",
    "\n",
    "# Set where your PDB files are located if they are already available. If you don't have any PDBs, the tool\n",
    "# will try to download them from the PDB site (https://rcsb.org).\n",
    "opt[\"pdb_path\"] = \"tmp\"\n",
    "\n",
    "# This option is useful only when you work with MolEntry objects and have only one molecular file with multiple \n",
    "# ligands. So, this option allows the program to load all the molecules at once instead of performing an I/O \n",
    "# operation for each ligand. This will save you a lot of processing time.\n",
    "opt[\"preload_mol_files\"] = False\n",
    "\n",
    "# Define if you want to add hydrogens. If the file already has hydrogens as in NMR structure, \n",
    "# it will avoid to add hydrogens.\n",
    "opt[\"try_h_addition\"] = True\n",
    "# Controls the pH and how the hydrogens are going to be added.\n",
    "opt[\"ph\"] = 7.4\n",
    "\n",
    "# This option is useful when you are working with PDB files. As PDB files does not have charge, bond order, \n",
    "# nor valence information. So, basically I implemented a sanitization function to correct charges\n",
    "# and valences for some atoms.\n",
    "opt[\"amend_mol\"] = True\n",
    "\n",
    "# Define if you want to work with RDKit or OpenBabel objects. The default option is RDKit, so you do not\n",
    "# need to define it here.\n",
    "opt[\"mol_obj_type\"] = 'rdkit'\n",
    "\n",
    "# You can define your own interaction configuration.\n",
    "from mol.interaction.conf import InteractionConf\n",
    "opt[\"inter_conf\"] = InteractionConf({\"max_da_dist_hb_inter\": 3.9})\n",
    "\n",
    "# You can define different interaction calculator objects. It is used to control how interactions are \n",
    "# calculated.\n",
    "#\n",
    "# The below example uses a Protein-Ligand interaction filter, but other filters are also available. \n",
    "from mol.interaction.filter import InteractionFilter\n",
    "from mol.interaction.calc import InteractionCalculator\n",
    "inter_calc = InteractionCalculator(inter_filter=InteractionFilter.new_pli_filter())\n",
    "#\n",
    "# It is also possible to define a geometrical configuration by setting the inter_conf/\n",
    "# inter_calc = InteractionCalculator(inter_conf=InteractionConf({\"max_da_dist_hb_inter\": 3.9}), \n",
    "#                                    inter_filter=InteractionFilter.new_pli_filter())\n",
    "opt[\"inter_calc\"] = inter_calc\n",
    "\n",
    "# This flag defines if you want to compute Molecular fingerprints or not.\n",
    "opt[\"calc_mfp\"] = False\n",
    "\n",
    "# This flag defines if you want to compute Interaction fingerprints (IFP) or not.\n",
    "# If your goal is to test different fingerprint parameters, you can set it off and manually create the IFPs \n",
    "# using different parameter combinations.\n",
    "opt[\"calc_ifp\"] = False\n",
    "\n",
    "# IFP parameter: number of levels\n",
    "opt[\"ifp_num_levels\"] = 5\n",
    "# IFP parameter: radius growth\n",
    "opt[\"ifp_radius_step\"] = 1\n",
    "# IFP parameter: size of the fingerprint.\n",
    "opt[\"ifp_length\"] = 2048\n"
   ]
  },
  {
   "cell_type": "markdown",
   "metadata": {},
   "source": [
    "## Then, execute the project defined previously"
   ]
  },
  {
   "cell_type": "code",
   "execution_count": 14,
   "metadata": {
    "ExecuteTime": {
     "end_time": "2019-07-16T00:41:46.434899Z",
     "start_time": "2019-07-16T00:41:40.715888Z"
    },
    "scrolled": true
   },
   "outputs": [
    {
     "name": "stdout",
     "output_type": "stream",
     "text": [
      "Downloading PDB structure '3QQK'...\n",
      "\n",
      "DONE!!!\n"
     ]
    }
   ],
   "source": [
    "from napoli import LocalProject, FingerprintProject\n",
    "\n",
    "# LocalProject: useful if you want to save results locally, and also it is useful if your goal is to work with\n",
    "# the interactions and other results after the processing.\n",
    "#\n",
    "# In a first moment, you can use this option because it will be faster for you just to generate different\n",
    "# fingerprints for pre-computed interactions. So, the idea is: run this cell, and then use the interactions as\n",
    "# I'm going to show in the next examples.\n",
    "proj_obj = LocalProject(**opt)\n",
    "\n",
    "# Fingerprint_Project: useful if you want to generate a lot of fingerprint data into a file. \n",
    "# It uses multiprocessing, so it will be faster than Local_Project but you will not be able to interact with the\n",
    "# results after the files were created...I need to find a way to solve this probs...\n",
    "# proj_obj = Fingerprint_Project(**opt)\n",
    "\n",
    "# Run it like this\n",
    "proj_obj.run()\n",
    "\n",
    "print()\n",
    "print(\"DONE!!!\")"
   ]
  },
  {
   "cell_type": "markdown",
   "metadata": {
    "ExecuteTime": {
     "end_time": "2019-07-15T21:51:28.297170Z",
     "start_time": "2019-07-15T21:51:28.294193Z"
    }
   },
   "source": [
    "## How to interact with the results"
   ]
  },
  {
   "cell_type": "markdown",
   "metadata": {},
   "source": [
    "- **If you need to check which properties you can access inside objects in Python use dir().**\n",
    "\n",
    "With this built-in function you can analyze all objects and see which functions and properties they have."
   ]
  },
  {
   "cell_type": "code",
   "execution_count": 15,
   "metadata": {
    "ExecuteTime": {
     "end_time": "2019-07-16T00:41:46.438557Z",
     "start_time": "2019-07-16T00:41:46.436210Z"
    }
   },
   "outputs": [
    {
     "name": "stdout",
     "output_type": "stream",
     "text": [
      "['__call__', '__class__', '__delattr__', '__dict__', '__dir__', '__doc__', '__eq__', '__format__', '__ge__', '__getattribute__', '__gt__', '__hash__', '__init__', '__init_subclass__', '__le__', '__lt__', '__module__', '__ne__', '__new__', '__reduce__', '__reduce_ex__', '__repr__', '__setattr__', '__sizeof__', '__str__', '__subclasshook__', '__weakref__', 'add_mol_obj_to_entries', 'amend_mol', 'atom_prop_file', 'butina_cutoff', 'calc_ifp', 'calc_mfp', 'clusterize_ligands', 'current_entry', 'db_conf_file', 'decide_hydrogen_addition', 'default_properties', 'entries', 'feature_extractor', 'generate_ligand_figure', 'get_fingerprint', 'get_or_create_task', 'get_pdb_file', 'get_rdkit_mol', 'get_status_id', 'has_local_files', 'ifp_length', 'ifp_num_levels', 'ifp_radius_step', 'ifps', 'init_common_tables', 'init_db_connection', 'init_logging_file', 'inter_calc', 'inter_conf', 'interactions', 'log_preferences', 'mfp_opts', 'mfps', 'mol_obj_type', 'neighborhoods', 'overwrite_path', 'pdb_path', 'pdb_template', 'perceive_chemical_groups', 'ph', 'preload_mol_files', 'prepare_project_path', 'recover_all_entries', 'recover_rcsb_interactions', 'run', 'run_from_step', 'run_until_step', 'set_pharm_objects', 'set_project_id', 'set_status_control', 'set_step_details', 'sig_factory', 'similarity_func', 'step_controls', 'store_comp_type_freq', 'store_compound_statistics', 'store_inter_type_freq', 'store_interaction_statistics', 'try_h_addition', 'update_freq_by_cluster', 'update_res_freq_by_cluster', 'update_step_details', 'validate_entry_format', 'working_path']\n"
     ]
    }
   ],
   "source": [
    "print(dir(proj_obj))"
   ]
  },
  {
   "cell_type": "markdown",
   "metadata": {
    "ExecuteTime": {
     "end_time": "2019-07-15T21:59:46.281762Z",
     "start_time": "2019-07-15T21:59:46.275222Z"
    }
   },
   "source": [
    "## Atom group analysis"
   ]
  },
  {
   "cell_type": "markdown",
   "metadata": {},
   "source": [
    "- To analyze the atom groups present in each binding site obtained departing from the entry objects, you can use the property **`neighborhoods`**, which can be accessed through a project object.\n",
    "\n",
    "> This property stores a list of tuples, in which each tuple contains the entry information and a atom group manager."
   ]
  },
  {
   "cell_type": "code",
   "execution_count": 16,
   "metadata": {
    "ExecuteTime": {
     "end_time": "2019-07-16T00:41:46.447808Z",
     "start_time": "2019-07-16T00:41:46.440462Z"
    }
   },
   "outputs": [
    {
     "data": {
      "text/plain": [
       "[(<CompoundEntry: 3QQK:A:X02:497>,\n",
       "  <mol.groups.AtomGroupsManager at 0x7f2a9046cef0>)]"
      ]
     },
     "execution_count": 16,
     "metadata": {},
     "output_type": "execute_result"
    }
   ],
   "source": [
    "proj_obj.neighborhoods"
   ]
  },
  {
   "cell_type": "markdown",
   "metadata": {},
   "source": [
    "- An atom group manager is an object that provides several functions for working with the atom groups identified for a particular entry. This manager allows one to loop throgh the atom groups, filter by feature, and generate statistics for them."
   ]
  },
  {
   "cell_type": "code",
   "execution_count": 17,
   "metadata": {
    "ExecuteTime": {
     "end_time": "2019-07-16T00:41:46.472607Z",
     "start_time": "2019-07-16T00:41:46.449715Z"
    },
    "scrolled": true
   },
   "outputs": [
    {
     "data": {
      "text/plain": [
       "['__class__',\n",
       " '__delattr__',\n",
       " '__dict__',\n",
       " '__dir__',\n",
       " '__doc__',\n",
       " '__eq__',\n",
       " '__format__',\n",
       " '__ge__',\n",
       " '__getattribute__',\n",
       " '__gt__',\n",
       " '__hash__',\n",
       " '__init__',\n",
       " '__init_subclass__',\n",
       " '__le__',\n",
       " '__len__',\n",
       " '__lt__',\n",
       " '__module__',\n",
       " '__ne__',\n",
       " '__new__',\n",
       " '__reduce__',\n",
       " '__reduce_ex__',\n",
       " '__repr__',\n",
       " '__setattr__',\n",
       " '__sizeof__',\n",
       " '__str__',\n",
       " '__subclasshook__',\n",
       " '__weakref__',\n",
       " '_atm_grps',\n",
       " 'add_atm_grps',\n",
       " 'atm_grps',\n",
       " 'filter_by_types',\n",
       " 'merge_hydrophobic_atoms',\n",
       " 'remove_atm_grps',\n",
       " 'size',\n",
       " 'summary']"
      ]
     },
     "execution_count": 17,
     "metadata": {},
     "output_type": "execute_result"
    }
   ],
   "source": [
    "# Access the atom group manager in the first tuple in the neighborhoods property.\n",
    "dir(proj_obj.neighborhoods[0][1])"
   ]
  },
  {
   "cell_type": "markdown",
   "metadata": {
    "heading_collapsed": true
   },
   "source": [
    "### Loop through a list of atom groups"
   ]
  },
  {
   "cell_type": "code",
   "execution_count": 33,
   "metadata": {
    "ExecuteTime": {
     "end_time": "2019-07-15T22:33:10.466216Z",
     "start_time": "2019-07-15T22:33:10.439807Z"
    },
    "hidden": true
   },
   "outputs": [
    {
     "name": "stdout",
     "output_type": "stream",
     "text": [
      "<AtomGroup: [<ExtendedAtom: 3QQK/0/A/ILE-10/C>, <ExtendedAtom: 3QQK/0/A/ILE-10/O>]>\n",
      "<AtomGroup: [<ExtendedAtom: 3QQK/0/A/THR-14/CG2>]>\n",
      "<AtomGroup: [<ExtendedAtom: 3QQK/0/A/VAL-30/C>, <ExtendedAtom: 3QQK/0/A/VAL-30/O>]>\n",
      "<AtomGroup: [<ExtendedAtom: 3QQK/0/A/TYR-15/N>, <ExtendedAtom: 3QQK/0/A/THR-14/C>, <ExtendedAtom: 3QQK/0/A/THR-14/O>]>\n",
      "<AtomGroup: [<ExtendedAtom: 3QQK/0/A/HOH-321/O>]>\n",
      "<AtomGroup: [<ExtendedAtom: 3QQK/0/A/GLN-85/N>, <ExtendedAtom: 3QQK/0/A/HIS-84/C>, <ExtendedAtom: 3QQK/0/A/HIS-84/O>]>\n",
      "<AtomGroup: [<ExtendedAtom: 3QQK/0/A/HOH-419/O>]>\n",
      "<AtomGroup: [<ExtendedAtom: 3QQK/0/A/VAL-30/N>]>\n",
      "<AtomGroup: [<ExtendedAtom: 3QQK/0/A/GLN-85/N>]>\n",
      "<AtomGroup: [<ExtendedAtom: 3QQK/0/A/VAL-18/CG1>]>\n",
      "<AtomGroup: [<ExtendedAtom: 3QQK/0/A/PHE-80/CG>]>\n",
      "<AtomGroup: [<ExtendedAtom: 3QQK/0/A/GLU-81/C>, <ExtendedAtom: 3QQK/0/A/GLU-81/O>]>\n",
      "<AtomGroup: [<ExtendedAtom: 3QQK/0/A/X02-497/C5>, <ExtendedAtom: 3QQK/0/A/X02-497/S9>]>\n",
      "<AtomGroup: [<ExtendedAtom: 3QQK/0/A/GLN-85/CD>]>\n",
      "<AtomGroup: [<ExtendedAtom: 3QQK/0/A/GLN-85/OE1>]>\n",
      "<AtomGroup: [<ExtendedAtom: 3QQK/0/A/X02-497/C8>]>\n",
      "<AtomGroup: [<ExtendedAtom: 3QQK/0/A/ILE-10/CA>]>\n",
      "<AtomGroup: [<ExtendedAtom: 3QQK/0/A/VAL-30/N>, <ExtendedAtom: 3QQK/0/A/VAL-29/C>, <ExtendedAtom: 3QQK/0/A/VAL-29/O>]>\n",
      "<AtomGroup: [<ExtendedAtom: 3QQK/0/A/VAL-30/C>]>\n",
      "<AtomGroup: [<ExtendedAtom: 3QQK/0/A/GLN-131/CA>]>\n",
      "<AtomGroup: [<ExtendedAtom: 3QQK/0/A/HOH-363/O>]>\n",
      "<AtomGroup: [<ExtendedAtom: 3QQK/0/A/LYS-65/N>, <ExtendedAtom: 3QQK/0/A/VAL-64/C>, <ExtendedAtom: 3QQK/0/A/VAL-64/O>]>\n",
      "<AtomGroup: [<ExtendedAtom: 3QQK/0/A/ASP-86/C>, <ExtendedAtom: 3QQK/0/A/ASP-86/O>]>\n",
      "<AtomGroup: [<ExtendedAtom: 3QQK/0/A/LYS-65/C>]>\n",
      "<AtomGroup: [<ExtendedAtom: 3QQK/0/A/ASN-132/CG>]>\n",
      "<AtomGroup: [<ExtendedAtom: 3QQK/0/A/PHE-82/CA>]>\n",
      "<AtomGroup: [<ExtendedAtom: 3QQK/0/A/ALA-144/O>]>\n",
      "<AtomGroup: [<ExtendedAtom: 3QQK/0/A/PHE-82/C>]>\n",
      "<AtomGroup: [<ExtendedAtom: 3QQK/0/A/PHE-82/O>]>\n",
      "<AtomGroup: [<ExtendedAtom: 3QQK/0/A/PHE-80/N>]>\n",
      "<AtomGroup: [<ExtendedAtom: 3QQK/0/A/HIS-84/N>]>\n",
      "<AtomGroup: [<ExtendedAtom: 3QQK/0/A/GLN-85/O>]>\n",
      "<AtomGroup: [<ExtendedAtom: 3QQK/0/A/PHE-82/CD1>, <ExtendedAtom: 3QQK/0/A/PHE-82/CD2>, <ExtendedAtom: 3QQK/0/A/PHE-82/CE1>, <ExtendedAtom: 3QQK/0/A/PHE-82/CE2>, <ExtendedAtom: 3QQK/0/A/PHE-82/CG>, <ExtendedAtom: 3QQK/0/A/PHE-82/CZ>]>\n",
      "<AtomGroup: [<ExtendedAtom: 3QQK/0/A/VAL-18/CG1>, <ExtendedAtom: 3QQK/0/A/VAL-18/CB>, <ExtendedAtom: 3QQK/0/A/VAL-18/CG2>]>\n",
      "<AtomGroup: [<ExtendedAtom: 3QQK/0/A/LEU-32/N>, <ExtendedAtom: 3QQK/0/A/ALA-31/C>, <ExtendedAtom: 3QQK/0/A/ALA-31/O>]>\n",
      "<AtomGroup: [<ExtendedAtom: 3QQK/0/A/GLY-13/N>, <ExtendedAtom: 3QQK/0/A/GLU-12/C>, <ExtendedAtom: 3QQK/0/A/GLU-12/O>]>\n",
      "<AtomGroup: [<ExtendedAtom: 3QQK/0/A/LYS-33/O>]>\n",
      "<AtomGroup: [<ExtendedAtom: 3QQK/0/A/ASP-145/CB>]>\n",
      "<AtomGroup: [<ExtendedAtom: 3QQK/0/A/ALA-31/C>]>\n",
      "<AtomGroup: [<ExtendedAtom: 3QQK/0/A/X02-497/C1>]>\n",
      "<AtomGroup: [<ExtendedAtom: 3QQK/0/A/VAL-18/C>]>\n",
      "<AtomGroup: [<ExtendedAtom: 3QQK/0/A/HIS-84/C>, <ExtendedAtom: 3QQK/0/A/HIS-84/O>]>\n",
      "<AtomGroup: [<ExtendedAtom: 3QQK/0/A/LYS-65/CE>]>\n",
      "<AtomGroup: [<ExtendedAtom: 3QQK/0/A/X02-497/C2>, <ExtendedAtom: 3QQK/0/A/X02-497/C1>]>\n",
      "<AtomGroup: [<ExtendedAtom: 3QQK/0/A/X02-497/C8>, <ExtendedAtom: 3QQK/0/A/X02-497/S9>]>\n",
      "<AtomGroup: [<ExtendedAtom: 3QQK/0/A/LEU-66/N>, <ExtendedAtom: 3QQK/0/A/LYS-65/C>, <ExtendedAtom: 3QQK/0/A/LYS-65/O>]>\n",
      "<AtomGroup: [<ExtendedAtom: 3QQK/0/A/ASP-86/OD2>]>\n",
      "<AtomGroup: [<ExtendedAtom: 3QQK/0/A/LEU-134/CA>]>\n",
      "<AtomGroup: [<ExtendedAtom: 3QQK/0/A/PHE-80/CD1>, <ExtendedAtom: 3QQK/0/A/PHE-80/CD2>, <ExtendedAtom: 3QQK/0/A/PHE-80/CE1>, <ExtendedAtom: 3QQK/0/A/PHE-80/CE2>, <ExtendedAtom: 3QQK/0/A/PHE-80/CG>, <ExtendedAtom: 3QQK/0/A/PHE-80/CZ>]>\n",
      "<AtomGroup: [<ExtendedAtom: 3QQK/0/A/ASN-132/C>, <ExtendedAtom: 3QQK/0/A/ASN-132/O>]>\n",
      "<AtomGroup: [<ExtendedAtom: 3QQK/0/A/VAL-30/CB>]>\n",
      "<AtomGroup: [<ExtendedAtom: 3QQK/0/A/PHE-82/CD2>]>\n",
      "<AtomGroup: [<ExtendedAtom: 3QQK/0/A/X02-497/C12>]>\n",
      "<AtomGroup: [<ExtendedAtom: 3QQK/0/A/GLN-131/NE2>]>\n",
      "<AtomGroup: [<ExtendedAtom: 3QQK/0/A/ASP-145/CA>]>\n",
      "<AtomGroup: [<ExtendedAtom: 3QQK/0/A/GLN-85/CG>]>\n",
      "<AtomGroup: [<ExtendedAtom: 3QQK/0/A/LYS-33/NZ>]>\n",
      "<AtomGroup: [<ExtendedAtom: 3QQK/0/A/GLY-13/C>, <ExtendedAtom: 3QQK/0/A/GLY-13/O>]>\n",
      "<AtomGroup: [<ExtendedAtom: 3QQK/0/A/X02-497/N6>]>\n",
      "<AtomGroup: [<ExtendedAtom: 3QQK/0/A/GLU-81/C>]>\n",
      "<AtomGroup: [<ExtendedAtom: 3QQK/0/A/HOH-380/O>]>\n",
      "<AtomGroup: [<ExtendedAtom: 3QQK/0/A/ASP-86/N>]>\n",
      "<AtomGroup: [<ExtendedAtom: 3QQK/0/A/ALA-144/C>, <ExtendedAtom: 3QQK/0/A/ALA-144/O>]>\n",
      "<AtomGroup: [<ExtendedAtom: 3QQK/0/A/ILE-10/CG2>]>\n",
      "<AtomGroup: [<ExtendedAtom: 3QQK/0/A/ILE-10/CD1>, <ExtendedAtom: 3QQK/0/A/ILE-10/CB>, <ExtendedAtom: 3QQK/0/A/ILE-10/CG2>, <ExtendedAtom: 3QQK/0/A/ILE-10/CG1>]>\n",
      "<AtomGroup: [<ExtendedAtom: 3QQK/0/A/GLN-131/N>]>\n",
      "<AtomGroup: [<ExtendedAtom: 3QQK/0/A/LYS-65/CD>, <ExtendedAtom: 3QQK/0/A/LYS-65/CG>, <ExtendedAtom: 3QQK/0/A/LYS-65/CB>]>\n",
      "<AtomGroup: [<ExtendedAtom: 3QQK/0/A/GLN-85/C>, <ExtendedAtom: 3QQK/0/A/GLN-85/O>]>\n",
      "<AtomGroup: [<ExtendedAtom: 3QQK/0/A/VAL-64/N>, <ExtendedAtom: 3QQK/0/A/ILE-63/C>, <ExtendedAtom: 3QQK/0/A/ILE-63/O>]>\n",
      "<AtomGroup: [<ExtendedAtom: 3QQK/0/A/X02-497/C2>]>\n",
      "<AtomGroup: [<ExtendedAtom: 3QQK/0/A/ALA-144/CB>]>\n",
      "<AtomGroup: [<ExtendedAtom: 3QQK/0/A/ASN-132/C>]>\n",
      "<AtomGroup: [<ExtendedAtom: 3QQK/0/A/LEU-83/CG>]>\n",
      "<AtomGroup: [<ExtendedAtom: 3QQK/0/A/PHE-80/C>]>\n",
      "<AtomGroup: [<ExtendedAtom: 3QQK/0/A/LYS-33/N>, <ExtendedAtom: 3QQK/0/A/LEU-32/C>, <ExtendedAtom: 3QQK/0/A/LEU-32/O>]>\n",
      "<AtomGroup: [<ExtendedAtom: 3QQK/0/A/ASN-132/CB>]>\n",
      "<AtomGroup: [<ExtendedAtom: 3QQK/0/A/HOH-372/O>]>\n",
      "<AtomGroup: [<ExtendedAtom: 3QQK/0/A/VAL-18/CG2>]>\n",
      "<AtomGroup: [<ExtendedAtom: 3QQK/0/A/X02-497/C17>]>\n",
      "<AtomGroup: [<ExtendedAtom: 3QQK/0/A/GLN-131/OE1>]>\n",
      "<AtomGroup: [<ExtendedAtom: 3QQK/0/A/ALA-31/O>]>\n",
      "<AtomGroup: [<ExtendedAtom: 3QQK/0/A/ASP-86/CA>]>\n",
      "<AtomGroup: [<ExtendedAtom: 3QQK/0/A/LYS-65/NZ>]>\n",
      "<AtomGroup: [<ExtendedAtom: 3QQK/0/A/LEU-133/N>, <ExtendedAtom: 3QQK/0/A/ASN-132/C>, <ExtendedAtom: 3QQK/0/A/ASN-132/O>]>\n",
      "<AtomGroup: [<ExtendedAtom: 3QQK/0/A/GLN-85/CB>, <ExtendedAtom: 3QQK/0/A/GLN-85/CG>]>\n",
      "<AtomGroup: [<ExtendedAtom: 3QQK/0/A/LEU-134/CD2>]>\n",
      "<AtomGroup: [<ExtendedAtom: 3QQK/0/A/GLN-131/CG>]>\n",
      "<AtomGroup: [<ExtendedAtom: 3QQK/0/A/GLY-11/N>, <ExtendedAtom: 3QQK/0/A/ILE-10/C>, <ExtendedAtom: 3QQK/0/A/ILE-10/O>]>\n",
      "<AtomGroup: [<ExtendedAtom: 3QQK/0/A/PHE-80/CA>]>\n",
      "<AtomGroup: [<ExtendedAtom: 3QQK/0/A/THR-14/CB>]>\n",
      "<AtomGroup: [<ExtendedAtom: 3QQK/0/A/HIS-84/CE1>]>\n",
      "<AtomGroup: [<ExtendedAtom: 3QQK/0/A/ALA-144/CA>]>\n",
      "<AtomGroup: [<ExtendedAtom: 3QQK/0/A/HIS-84/CG>]>\n",
      "<AtomGroup: [<ExtendedAtom: 3QQK/0/A/PHE-80/O>]>\n",
      "<AtomGroup: [<ExtendedAtom: 3QQK/0/A/PHE-80/CZ>]>\n",
      "<AtomGroup: [<ExtendedAtom: 3QQK/0/A/PHE-80/N>, <ExtendedAtom: 3QQK/0/A/VAL-79/C>, <ExtendedAtom: 3QQK/0/A/VAL-79/O>]>\n",
      "<AtomGroup: [<ExtendedAtom: 3QQK/0/A/X02-497/C5>]>\n",
      "<AtomGroup: [<ExtendedAtom: 3QQK/0/A/PHE-82/CZ>]>\n",
      "<AtomGroup: [<ExtendedAtom: 3QQK/0/A/VAL-64/CG2>]>\n",
      "<AtomGroup: [<ExtendedAtom: 3QQK/0/A/LYS-33/C>]>\n",
      "<AtomGroup: [<ExtendedAtom: 3QQK/0/A/GLN-131/C>]>\n",
      "<AtomGroup: [<ExtendedAtom: 3QQK/0/A/LEU-83/CD1>]>\n",
      "<AtomGroup: [<ExtendedAtom: 3QQK/0/A/HOH-443/O>]>\n",
      "<AtomGroup: [<ExtendedAtom: 3QQK/0/A/GLN-131/CD>, <ExtendedAtom: 3QQK/0/A/GLN-131/NE2>, <ExtendedAtom: 3QQK/0/A/GLN-131/OE1>]>\n",
      "<AtomGroup: [<ExtendedAtom: 3QQK/0/A/PHE-82/CG>]>\n",
      "<AtomGroup: [<ExtendedAtom: 3QQK/0/A/GLN-131/CG>, <ExtendedAtom: 3QQK/0/A/GLN-131/CB>]>\n",
      "<AtomGroup: [<ExtendedAtom: 3QQK/0/A/GLU-81/CG>, <ExtendedAtom: 3QQK/0/A/GLU-81/CB>]>\n",
      "<AtomGroup: [<ExtendedAtom: 3QQK/0/A/LYS-33/CB>]>\n",
      "<AtomGroup: [<ExtendedAtom: 3QQK/0/A/LYS-65/CB>]>\n",
      "<AtomGroup: [<ExtendedAtom: 3QQK/0/A/LYS-65/CA>]>\n",
      "<AtomGroup: [<ExtendedAtom: 3QQK/0/A/VAL-64/C>, <ExtendedAtom: 3QQK/0/A/VAL-64/O>]>\n",
      "<AtomGroup: [<ExtendedAtom: 3QQK/0/A/ALA-31/N>, <ExtendedAtom: 3QQK/0/A/VAL-30/C>, <ExtendedAtom: 3QQK/0/A/VAL-30/O>]>\n",
      "<AtomGroup: [<ExtendedAtom: 3QQK/0/A/GLN-85/CB>]>\n",
      "<AtomGroup: [<ExtendedAtom: 3QQK/0/A/VAL-64/CB>]>\n",
      "<AtomGroup: [<ExtendedAtom: 3QQK/0/A/VAL-18/N>, <ExtendedAtom: 3QQK/0/A/VAL-17/C>, <ExtendedAtom: 3QQK/0/A/VAL-17/O>]>\n",
      "<AtomGroup: [<ExtendedAtom: 3QQK/0/A/LEU-134/O>]>\n",
      "<AtomGroup: [<ExtendedAtom: 3QQK/0/A/LYS-33/CG>]>\n",
      "<AtomGroup: [<ExtendedAtom: 3QQK/0/A/LEU-134/C>]>\n",
      "<AtomGroup: [<ExtendedAtom: 3QQK/0/A/TYR-19/N>, <ExtendedAtom: 3QQK/0/A/VAL-18/C>, <ExtendedAtom: 3QQK/0/A/VAL-18/O>]>\n",
      "<AtomGroup: [<ExtendedAtom: 3QQK/0/A/LEU-134/C>, <ExtendedAtom: 3QQK/0/A/LEU-134/O>]>\n",
      "<AtomGroup: [<ExtendedAtom: 3QQK/0/A/GLN-131/O>]>\n",
      "<AtomGroup: [<ExtendedAtom: 3QQK/0/A/THR-14/N>, <ExtendedAtom: 3QQK/0/A/GLY-13/C>, <ExtendedAtom: 3QQK/0/A/GLY-13/O>]>\n",
      "<AtomGroup: [<ExtendedAtom: 3QQK/0/A/ASP-86/N>, <ExtendedAtom: 3QQK/0/A/GLN-85/C>, <ExtendedAtom: 3QQK/0/A/GLN-85/O>]>\n",
      "<AtomGroup: [<ExtendedAtom: 3QQK/0/A/PHE-146/N>, <ExtendedAtom: 3QQK/0/A/ASP-145/C>, <ExtendedAtom: 3QQK/0/A/ASP-145/O>]>\n",
      "<AtomGroup: [<ExtendedAtom: 3QQK/0/A/X02-497/S9>]>\n",
      "<AtomGroup: [<ExtendedAtom: 3QQK/0/A/ILE-10/CD1>]>\n",
      "<AtomGroup: [<ExtendedAtom: 3QQK/0/A/PHE-82/N>, <ExtendedAtom: 3QQK/0/A/GLU-81/C>, <ExtendedAtom: 3QQK/0/A/GLU-81/O>]>\n",
      "<AtomGroup: [<ExtendedAtom: 3QQK/0/A/ILE-10/N>]>\n",
      "<AtomGroup: [<ExtendedAtom: 3QQK/0/A/PHE-82/CE1>, <ExtendedAtom: 3QQK/0/A/PHE-82/CZ>, <ExtendedAtom: 3QQK/0/A/PHE-82/CD1>, <ExtendedAtom: 3QQK/0/A/PHE-82/CE2>, <ExtendedAtom: 3QQK/0/A/PHE-82/CB>, <ExtendedAtom: 3QQK/0/A/PHE-82/CD2>, <ExtendedAtom: 3QQK/0/A/PHE-82/CG>]>\n",
      "<AtomGroup: [<ExtendedAtom: 3QQK/0/A/X02-497/C7>]>\n",
      "<AtomGroup: [<ExtendedAtom: 3QQK/0/A/HIS-84/CB>]>\n",
      "<AtomGroup: [<ExtendedAtom: 3QQK/0/A/VAL-64/CA>]>\n",
      "<AtomGroup: [<ExtendedAtom: 3QQK/0/A/LEU-83/C>]>\n",
      "<AtomGroup: [<ExtendedAtom: 3QQK/0/A/VAL-18/N>]>\n",
      "<AtomGroup: [<ExtendedAtom: 3QQK/0/A/ALA-144/C>]>\n",
      "<AtomGroup: [<ExtendedAtom: 3QQK/0/A/PHE-80/CE1>]>\n",
      "<AtomGroup: [<ExtendedAtom: 3QQK/0/A/VAL-18/CA>]>\n",
      "<AtomGroup: [<ExtendedAtom: 3QQK/0/A/PHE-80/CD2>, <ExtendedAtom: 3QQK/0/A/PHE-80/CG>, <ExtendedAtom: 3QQK/0/A/PHE-80/CZ>, <ExtendedAtom: 3QQK/0/A/PHE-80/CE1>, <ExtendedAtom: 3QQK/0/A/PHE-80/CD1>, <ExtendedAtom: 3QQK/0/A/PHE-80/CB>, <ExtendedAtom: 3QQK/0/A/PHE-80/CE2>]>\n",
      "<AtomGroup: [<ExtendedAtom: 3QQK/0/A/HOH-435/O>]>\n",
      "<AtomGroup: [<ExtendedAtom: 3QQK/0/A/VAL-30/CG2>, <ExtendedAtom: 3QQK/0/A/VAL-30/CG1>, <ExtendedAtom: 3QQK/0/A/VAL-30/CB>]>\n",
      "<AtomGroup: [<ExtendedAtom: 3QQK/0/A/ASN-132/N>, <ExtendedAtom: 3QQK/0/A/GLN-131/C>, <ExtendedAtom: 3QQK/0/A/GLN-131/O>]>\n",
      "<AtomGroup: [<ExtendedAtom: 3QQK/0/A/ASP-145/CG>, <ExtendedAtom: 3QQK/0/A/ASP-145/OD1>, <ExtendedAtom: 3QQK/0/A/ASP-145/OD2>]>\n",
      "<AtomGroup: [<ExtendedAtom: 3QQK/0/A/ILE-135/N>, <ExtendedAtom: 3QQK/0/A/LEU-134/C>, <ExtendedAtom: 3QQK/0/A/LEU-134/O>]>\n",
      "<AtomGroup: [<ExtendedAtom: 3QQK/0/A/PHE-80/CD2>]>\n",
      "<AtomGroup: [<ExtendedAtom: 3QQK/0/A/VAL-30/CA>]>\n",
      "<AtomGroup: [<ExtendedAtom: 3QQK/0/A/ILE-10/N>, <ExtendedAtom: 3QQK/0/A/LYS-9/C>, <ExtendedAtom: 3QQK/0/A/LYS-9/O>]>\n",
      "<AtomGroup: [<ExtendedAtom: 3QQK/0/A/LEU-83/O>]>\n",
      "<AtomGroup: [<ExtendedAtom: 3QQK/0/A/LYS-65/CG>]>\n",
      "<AtomGroup: [<ExtendedAtom: 3QQK/0/A/LYS-34/N>, <ExtendedAtom: 3QQK/0/A/LYS-33/C>, <ExtendedAtom: 3QQK/0/A/LYS-33/O>]>\n",
      "<AtomGroup: [<ExtendedAtom: 3QQK/0/A/HOH-385/O>]>\n",
      "<AtomGroup: [<ExtendedAtom: 3QQK/0/A/HIS-84/C>]>\n",
      "<AtomGroup: [<ExtendedAtom: 3QQK/0/A/GLN-131/CD>]>\n",
      "<AtomGroup: [<ExtendedAtom: 3QQK/0/A/PHE-82/N>]>\n",
      "<AtomGroup: [<ExtendedAtom: 3QQK/0/A/VAL-18/C>, <ExtendedAtom: 3QQK/0/A/VAL-18/O>]>\n",
      "<AtomGroup: [<ExtendedAtom: 3QQK/0/A/X02-497/O18>]>\n",
      "<AtomGroup: [<ExtendedAtom: 3QQK/0/A/GLU-81/OE2>]>\n",
      "<AtomGroup: [<ExtendedAtom: 3QQK/0/A/LEU-83/CA>]>\n",
      "<AtomGroup: [<ExtendedAtom: 3QQK/0/A/VAL-30/O>]>\n",
      "<AtomGroup: [<ExtendedAtom: 3QQK/0/A/LYS-33/CE>]>\n",
      "<AtomGroup: [<ExtendedAtom: 3QQK/0/A/ALA-144/N>]>\n",
      "<AtomGroup: [<ExtendedAtom: 3QQK/0/A/ASN-132/ND2>]>\n",
      "<AtomGroup: [<ExtendedAtom: 3QQK/0/A/LEU-134/N>, <ExtendedAtom: 3QQK/0/A/LEU-133/C>, <ExtendedAtom: 3QQK/0/A/LEU-133/O>]>\n",
      "<AtomGroup: [<ExtendedAtom: 3QQK/0/A/PHE-82/CD1>]>\n",
      "<AtomGroup: [<ExtendedAtom: 3QQK/0/A/LEU-83/C>, <ExtendedAtom: 3QQK/0/A/LEU-83/O>]>\n",
      "<AtomGroup: [<ExtendedAtom: 3QQK/0/A/X02-497/C11>, <ExtendedAtom: 3QQK/0/A/X02-497/O18>]>\n",
      "<AtomGroup: [<ExtendedAtom: 3QQK/0/A/GLU-81/O>]>\n",
      "<AtomGroup: [<ExtendedAtom: 3QQK/0/A/X02-497/C12>, <ExtendedAtom: 3QQK/0/A/X02-497/C13>, <ExtendedAtom: 3QQK/0/A/X02-497/C14>, <ExtendedAtom: 3QQK/0/A/X02-497/C15>, <ExtendedAtom: 3QQK/0/A/X02-497/C16>, <ExtendedAtom: 3QQK/0/A/X02-497/C17>]>\n",
      "<AtomGroup: [<ExtendedAtom: 3QQK/0/A/X02-497/S9>, <ExtendedAtom: 3QQK/0/A/X02-497/C8>]>\n",
      "<AtomGroup: [<ExtendedAtom: 3QQK/0/A/THR-14/OG1>]>\n",
      "<AtomGroup: [<ExtendedAtom: 3QQK/0/A/LYS-65/N>]>\n",
      "<AtomGroup: [<ExtendedAtom: 3QQK/0/A/GLY-13/O>]>\n",
      "<AtomGroup: [<ExtendedAtom: 3QQK/0/A/GLY-13/CA>]>\n",
      "<AtomGroup: [<ExtendedAtom: 3QQK/0/A/ASN-132/CG>, <ExtendedAtom: 3QQK/0/A/ASN-132/ND2>, <ExtendedAtom: 3QQK/0/A/ASN-132/OD1>]>\n",
      "<AtomGroup: [<ExtendedAtom: 3QQK/0/A/GLN-85/CD>, <ExtendedAtom: 3QQK/0/A/GLN-85/NE2>, <ExtendedAtom: 3QQK/0/A/GLN-85/OE1>]>\n",
      "<AtomGroup: [<ExtendedAtom: 3QQK/0/A/ASP-145/N>, <ExtendedAtom: 3QQK/0/A/ALA-144/C>, <ExtendedAtom: 3QQK/0/A/ALA-144/O>]>\n",
      "<AtomGroup: [<ExtendedAtom: 3QQK/0/A/GLN-85/NE2>]>\n",
      "<AtomGroup: [<ExtendedAtom: 3QQK/0/A/HOH-315/O>]>\n",
      "<AtomGroup: [<ExtendedAtom: 3QQK/0/A/ASN-132/CB>]>\n",
      "<AtomGroup: [<ExtendedAtom: 3QQK/0/A/PHE-80/C>, <ExtendedAtom: 3QQK/0/A/PHE-80/O>]>\n",
      "<AtomGroup: [<ExtendedAtom: 3QQK/0/A/HIS-84/O>]>\n",
      "<AtomGroup: [<ExtendedAtom: 3QQK/0/A/X02-497/N10>]>\n",
      "<AtomGroup: [<ExtendedAtom: 3QQK/0/A/ALA-31/CA>]>\n",
      "<AtomGroup: [<ExtendedAtom: 3QQK/0/A/ASP-145/OD1>]>\n",
      "<AtomGroup: [<ExtendedAtom: 3QQK/0/A/VAL-64/N>]>\n",
      "<AtomGroup: [<ExtendedAtom: 3QQK/0/A/GLN-131/N>, <ExtendedAtom: 3QQK/0/A/PRO-130/C>, <ExtendedAtom: 3QQK/0/A/PRO-130/O>]>\n",
      "<AtomGroup: [<ExtendedAtom: 3QQK/0/A/THR-14/CG2>]>\n",
      "<AtomGroup: [<ExtendedAtom: 3QQK/0/A/X02-497/C13>]>\n",
      "<AtomGroup: [<ExtendedAtom: 3QQK/0/A/LEU-134/N>]>\n",
      "<AtomGroup: [<ExtendedAtom: 3QQK/0/A/GLU-81/CD>, <ExtendedAtom: 3QQK/0/A/GLU-81/OE1>, <ExtendedAtom: 3QQK/0/A/GLU-81/OE2>]>\n",
      "<AtomGroup: [<ExtendedAtom: 3QQK/0/A/LYS-33/N>]>\n",
      "<AtomGroup: [<ExtendedAtom: 3QQK/0/A/ASP-145/C>]>\n",
      "<AtomGroup: [<ExtendedAtom: 3QQK/0/A/THR-14/N>]>\n",
      "<AtomGroup: [<ExtendedAtom: 3QQK/0/A/THR-14/O>]>\n",
      "<AtomGroup: [<ExtendedAtom: 3QQK/0/A/ASP-86/CB>]>\n",
      "<AtomGroup: [<ExtendedAtom: 3QQK/0/A/X02-497/C16>]>\n",
      "<AtomGroup: [<ExtendedAtom: 3QQK/0/A/ASN-132/N>]>\n",
      "<AtomGroup: [<ExtendedAtom: 3QQK/0/A/LYS-33/CA>]>\n",
      "<AtomGroup: [<ExtendedAtom: 3QQK/0/A/VAL-18/O>]>\n",
      "<AtomGroup: [<ExtendedAtom: 3QQK/0/A/LEU-134/CG>, <ExtendedAtom: 3QQK/0/A/LEU-134/CB>, <ExtendedAtom: 3QQK/0/A/LEU-134/CD2>, <ExtendedAtom: 3QQK/0/A/LEU-134/CD1>]>\n",
      "<AtomGroup: [<ExtendedAtom: 3QQK/0/A/VAL-64/C>]>\n",
      "<AtomGroup: [<ExtendedAtom: 3QQK/0/A/GLN-85/C>]>\n",
      "<AtomGroup: [<ExtendedAtom: 3QQK/0/A/GLN-131/CB>]>\n",
      "<AtomGroup: [<ExtendedAtom: 3QQK/0/A/ILE-10/CG1>]>\n",
      "<AtomGroup: [<ExtendedAtom: 3QQK/0/A/LEU-134/CD1>]>\n",
      "<AtomGroup: [<ExtendedAtom: 3QQK/0/A/ASP-145/N>]>\n",
      "<AtomGroup: [<ExtendedAtom: 3QQK/0/A/LYS-33/CB>, <ExtendedAtom: 3QQK/0/A/LYS-33/CD>, <ExtendedAtom: 3QQK/0/A/LYS-33/CG>]>\n",
      "<AtomGroup: [<ExtendedAtom: 3QQK/0/A/PHE-80/CE2>]>\n",
      "<AtomGroup: [<ExtendedAtom: 3QQK/0/A/VAL-64/CG2>, <ExtendedAtom: 3QQK/0/A/VAL-64/CG1>, <ExtendedAtom: 3QQK/0/A/VAL-64/CB>]>\n",
      "<AtomGroup: [<ExtendedAtom: 3QQK/0/A/X02-497/N4>]>\n",
      "<AtomGroup: [<ExtendedAtom: 3QQK/0/A/VAL-64/CG1>]>\n",
      "<AtomGroup: [<ExtendedAtom: 3QQK/0/A/HIS-84/CD2>]>\n",
      "<AtomGroup: [<ExtendedAtom: 3QQK/0/A/LEU-87/N>, <ExtendedAtom: 3QQK/0/A/ASP-86/C>, <ExtendedAtom: 3QQK/0/A/ASP-86/O>]>\n",
      "<AtomGroup: [<ExtendedAtom: 3QQK/0/A/GLN-131/C>, <ExtendedAtom: 3QQK/0/A/GLN-131/O>]>\n",
      "<AtomGroup: [<ExtendedAtom: 3QQK/0/A/ASP-86/CG>]>\n",
      "<AtomGroup: [<ExtendedAtom: 3QQK/0/A/ALA-31/C>, <ExtendedAtom: 3QQK/0/A/ALA-31/O>]>\n",
      "<AtomGroup: [<ExtendedAtom: 3QQK/0/A/GLU-81/CD>]>\n",
      "<AtomGroup: [<ExtendedAtom: 3QQK/0/A/HIS-84/N>, <ExtendedAtom: 3QQK/0/A/LEU-83/C>, <ExtendedAtom: 3QQK/0/A/LEU-83/O>]>\n",
      "<AtomGroup: [<ExtendedAtom: 3QQK/0/A/VAL-30/CG1>]>\n",
      "<AtomGroup: [<ExtendedAtom: 3QQK/0/A/ASP-145/CB>]>\n",
      "<AtomGroup: [<ExtendedAtom: 3QQK/0/A/THR-14/CB>, <ExtendedAtom: 3QQK/0/A/THR-14/OG1>]>\n",
      "<AtomGroup: [<ExtendedAtom: 3QQK/0/A/VAL-64/O>]>\n",
      "<AtomGroup: [<ExtendedAtom: 3QQK/0/A/PHE-82/CE1>]>\n",
      "<AtomGroup: [<ExtendedAtom: 3QQK/0/A/X02-497/C14>]>\n",
      "<AtomGroup: [<ExtendedAtom: 3QQK/0/A/ILE-10/C>]>\n",
      "<AtomGroup: [<ExtendedAtom: 3QQK/0/A/GLU-81/CB>]>\n",
      "<AtomGroup: [<ExtendedAtom: 3QQK/0/A/THR-14/C>]>\n",
      "<AtomGroup: [<ExtendedAtom: 3QQK/0/A/LEU-83/CD2>, <ExtendedAtom: 3QQK/0/A/LEU-83/CD1>, <ExtendedAtom: 3QQK/0/A/LEU-83/CG>, <ExtendedAtom: 3QQK/0/A/LEU-83/CB>]>\n",
      "<AtomGroup: [<ExtendedAtom: 3QQK/0/A/X02-497/C5>, <ExtendedAtom: 3QQK/0/A/X02-497/N6>, <ExtendedAtom: 3QQK/0/A/X02-497/C7>, <ExtendedAtom: 3QQK/0/A/X02-497/C8>, <ExtendedAtom: 3QQK/0/A/X02-497/S9>]>\n",
      "<AtomGroup: [<ExtendedAtom: 3QQK/0/A/ASP-86/OD1>]>\n",
      "<AtomGroup: [<ExtendedAtom: 3QQK/0/A/LEU-83/CB>]>\n",
      "<AtomGroup: [<ExtendedAtom: 3QQK/0/A/X02-497/C15>, <ExtendedAtom: 3QQK/0/A/X02-497/C13>, <ExtendedAtom: 3QQK/0/A/X02-497/C16>, <ExtendedAtom: 3QQK/0/A/X02-497/C14>, <ExtendedAtom: 3QQK/0/A/X02-497/C12>, <ExtendedAtom: 3QQK/0/A/X02-497/C17>]>\n",
      "<AtomGroup: [<ExtendedAtom: 3QQK/0/A/LYS-33/C>, <ExtendedAtom: 3QQK/0/A/LYS-33/O>]>\n",
      "<AtomGroup: [<ExtendedAtom: 3QQK/0/A/LEU-134/CB>]>\n",
      "<AtomGroup: [<ExtendedAtom: 3QQK/0/A/HOH-418/O>]>\n",
      "<AtomGroup: [<ExtendedAtom: 3QQK/0/A/HIS-84/NE2>]>\n",
      "<AtomGroup: [<ExtendedAtom: 3QQK/0/A/ALA-31/CB>]>\n",
      "<AtomGroup: [<ExtendedAtom: 3QQK/0/A/ASN-132/O>]>\n",
      "<AtomGroup: [<ExtendedAtom: 3QQK/0/A/PHE-82/CB>]>\n",
      "<AtomGroup: [<ExtendedAtom: 3QQK/0/A/THR-14/CA>]>\n",
      "<AtomGroup: [<ExtendedAtom: 3QQK/0/A/PHE-80/CB>]>\n",
      "<AtomGroup: [<ExtendedAtom: 3QQK/0/A/GLN-131/CD>, <ExtendedAtom: 3QQK/0/A/GLN-131/OE1>]>\n",
      "<AtomGroup: [<ExtendedAtom: 3QQK/0/A/ASP-145/C>, <ExtendedAtom: 3QQK/0/A/ASP-145/O>]>\n",
      "<AtomGroup: [<ExtendedAtom: 3QQK/0/A/HIS-84/ND1>]>\n",
      "<AtomGroup: [<ExtendedAtom: 3QQK/0/A/VAL-18/CB>]>\n",
      "<AtomGroup: [<ExtendedAtom: 3QQK/0/A/ASN-132/OD1>]>\n",
      "<AtomGroup: [<ExtendedAtom: 3QQK/0/A/LYS-65/O>]>\n",
      "<AtomGroup: [<ExtendedAtom: 3QQK/0/A/GLY-13/N>]>\n",
      "<AtomGroup: [<ExtendedAtom: 3QQK/0/A/ILE-10/O>]>\n",
      "<AtomGroup: [<ExtendedAtom: 3QQK/0/A/ASP-145/OD2>]>\n",
      "<AtomGroup: [<ExtendedAtom: 3QQK/0/A/LEU-83/N>, <ExtendedAtom: 3QQK/0/A/PHE-82/C>, <ExtendedAtom: 3QQK/0/A/PHE-82/O>]>\n",
      "<AtomGroup: [<ExtendedAtom: 3QQK/0/A/HOH-368/O>]>\n",
      "<AtomGroup: [<ExtendedAtom: 3QQK/0/A/GLU-81/CA>]>\n",
      "<AtomGroup: [<ExtendedAtom: 3QQK/0/A/LEU-83/N>]>\n",
      "<AtomGroup: [<ExtendedAtom: 3QQK/0/A/LYS-65/CD>]>\n",
      "<AtomGroup: [<ExtendedAtom: 3QQK/0/A/GLY-13/C>]>\n",
      "<AtomGroup: [<ExtendedAtom: 3QQK/0/A/HOH-344/O>]>\n",
      "<AtomGroup: [<ExtendedAtom: 3QQK/0/A/ALA-31/CB>]>\n",
      "<AtomGroup: [<ExtendedAtom: 3QQK/0/A/HIS-84/CB>]>\n",
      "<AtomGroup: [<ExtendedAtom: 3QQK/0/A/X02-497/C15>]>\n",
      "<AtomGroup: [<ExtendedAtom: 3QQK/0/A/X02-497/C11>]>\n",
      "<AtomGroup: [<ExtendedAtom: 3QQK/0/A/GLU-81/CG>]>\n",
      "<AtomGroup: [<ExtendedAtom: 3QQK/0/A/PHE-80/CD1>]>\n",
      "<AtomGroup: [<ExtendedAtom: 3QQK/0/A/PHE-82/C>, <ExtendedAtom: 3QQK/0/A/PHE-82/O>]>\n",
      "<AtomGroup: [<ExtendedAtom: 3QQK/0/A/ALA-144/CB>]>\n",
      "<AtomGroup: [<ExtendedAtom: 3QQK/0/A/HIS-84/CD2>, <ExtendedAtom: 3QQK/0/A/HIS-84/CE1>, <ExtendedAtom: 3QQK/0/A/HIS-84/CG>, <ExtendedAtom: 3QQK/0/A/HIS-84/ND1>, <ExtendedAtom: 3QQK/0/A/HIS-84/NE2>]>\n",
      "<AtomGroup: [<ExtendedAtom: 3QQK/0/A/X02-497/C3>]>\n",
      "<AtomGroup: [<ExtendedAtom: 3QQK/0/A/ASN-132/CA>]>\n",
      "<AtomGroup: [<ExtendedAtom: 3QQK/0/A/HOH-442/O>]>\n",
      "<AtomGroup: [<ExtendedAtom: 3QQK/0/A/LEU-134/CG>]>\n",
      "<AtomGroup: [<ExtendedAtom: 3QQK/0/A/ILE-10/CB>]>\n",
      "<AtomGroup: [<ExtendedAtom: 3QQK/0/A/ASP-145/O>]>\n",
      "<AtomGroup: [<ExtendedAtom: 3QQK/0/A/GLU-81/N>]>\n",
      "<AtomGroup: [<ExtendedAtom: 3QQK/0/A/LYS-33/CD>]>\n",
      "<AtomGroup: [<ExtendedAtom: 3QQK/0/A/VAL-30/CG2>]>\n",
      "<AtomGroup: [<ExtendedAtom: 3QQK/0/A/PHE-82/CE2>]>\n",
      "<AtomGroup: [<ExtendedAtom: 3QQK/0/A/ASP-86/O>]>\n",
      "<AtomGroup: [<ExtendedAtom: 3QQK/0/A/ASP-145/CG>]>\n",
      "<AtomGroup: [<ExtendedAtom: 3QQK/0/A/ASP-86/C>]>\n",
      "<AtomGroup: [<ExtendedAtom: 3QQK/0/A/ASN-132/CG>, <ExtendedAtom: 3QQK/0/A/ASN-132/OD1>]>\n",
      "<AtomGroup: [<ExtendedAtom: 3QQK/0/A/GLU-81/OE1>]>\n",
      "<AtomGroup: [<ExtendedAtom: 3QQK/0/A/GLN-85/CA>]>\n",
      "<AtomGroup: [<ExtendedAtom: 3QQK/0/A/ALA-31/N>]>\n",
      "<AtomGroup: [<ExtendedAtom: 3QQK/0/A/ASP-86/CB>]>\n",
      "<AtomGroup: [<ExtendedAtom: 3QQK/0/A/GLN-85/CD>, <ExtendedAtom: 3QQK/0/A/GLN-85/OE1>]>\n",
      "<AtomGroup: [<ExtendedAtom: 3QQK/0/A/LEU-83/CD2>]>\n",
      "<AtomGroup: [<ExtendedAtom: 3QQK/0/A/ALA-144/N>, <ExtendedAtom: 3QQK/0/A/LEU-143/C>, <ExtendedAtom: 3QQK/0/A/LEU-143/O>]>\n",
      "<AtomGroup: [<ExtendedAtom: 3QQK/0/A/GLU-81/N>, <ExtendedAtom: 3QQK/0/A/PHE-80/C>, <ExtendedAtom: 3QQK/0/A/PHE-80/O>]>\n",
      "<AtomGroup: [<ExtendedAtom: 3QQK/0/A/LYS-65/C>, <ExtendedAtom: 3QQK/0/A/LYS-65/O>]>\n",
      "<AtomGroup: [<ExtendedAtom: 3QQK/0/A/THR-14/C>, <ExtendedAtom: 3QQK/0/A/THR-14/O>]>\n",
      "<AtomGroup: [<ExtendedAtom: 3QQK/0/A/HIS-84/CA>]>\n",
      "<AtomGroup: [<ExtendedAtom: 3QQK/0/A/ASP-86/CG>, <ExtendedAtom: 3QQK/0/A/ASP-86/OD1>, <ExtendedAtom: 3QQK/0/A/ASP-86/OD2>]>\n"
     ]
    }
   ],
   "source": [
    "for atm_grp in proj_obj.neighborhoods[0][1].atm_grps:\n",
    "    print(atm_grp)"
   ]
  },
  {
   "cell_type": "markdown",
   "metadata": {
    "heading_collapsed": true
   },
   "source": [
    "### Filtering by features"
   ]
  },
  {
   "cell_type": "code",
   "execution_count": 32,
   "metadata": {
    "ExecuteTime": {
     "end_time": "2019-07-15T22:27:14.759942Z",
     "start_time": "2019-07-15T22:27:14.741979Z"
    },
    "hidden": true,
    "scrolled": true
   },
   "outputs": [
    {
     "name": "stdout",
     "output_type": "stream",
     "text": [
      "<AtomGroup: [<ExtendedAtom: 3QQK/0/A/HOH-321/O>]>\n",
      "<AtomGroup: [<ExtendedAtom: 3QQK/0/A/HOH-419/O>]>\n",
      "<AtomGroup: [<ExtendedAtom: 3QQK/0/A/HOH-363/O>]>\n",
      "<AtomGroup: [<ExtendedAtom: 3QQK/0/A/HOH-380/O>]>\n",
      "<AtomGroup: [<ExtendedAtom: 3QQK/0/A/HOH-372/O>]>\n",
      "<AtomGroup: [<ExtendedAtom: 3QQK/0/A/HOH-443/O>]>\n",
      "<AtomGroup: [<ExtendedAtom: 3QQK/0/A/HOH-435/O>]>\n",
      "<AtomGroup: [<ExtendedAtom: 3QQK/0/A/HOH-385/O>]>\n",
      "<AtomGroup: [<ExtendedAtom: 3QQK/0/A/THR-14/OG1>]>\n",
      "<AtomGroup: [<ExtendedAtom: 3QQK/0/A/HOH-315/O>]>\n",
      "<AtomGroup: [<ExtendedAtom: 3QQK/0/A/HOH-418/O>]>\n",
      "<AtomGroup: [<ExtendedAtom: 3QQK/0/A/HIS-84/NE2>]>\n",
      "<AtomGroup: [<ExtendedAtom: 3QQK/0/A/HIS-84/ND1>]>\n",
      "<AtomGroup: [<ExtendedAtom: 3QQK/0/A/HOH-368/O>]>\n",
      "<AtomGroup: [<ExtendedAtom: 3QQK/0/A/HOH-344/O>]>\n",
      "<AtomGroup: [<ExtendedAtom: 3QQK/0/A/HOH-442/O>]>\n"
     ]
    }
   ],
   "source": [
    "for atm_grp in proj_obj.neighborhoods[0][1].filter_by_types([\"Acceptor\", \"Donor\"]):\n",
    "    print(atm_grp)"
   ]
  },
  {
   "cell_type": "markdown",
   "metadata": {
    "ExecuteTime": {
     "end_time": "2019-07-15T22:33:34.786135Z",
     "start_time": "2019-07-15T22:33:34.780332Z"
    }
   },
   "source": [
    "### Loop through each entry and atom group"
   ]
  },
  {
   "cell_type": "code",
   "execution_count": 27,
   "metadata": {
    "ExecuteTime": {
     "end_time": "2019-07-16T00:42:55.498467Z",
     "start_time": "2019-07-16T00:42:55.398778Z"
    }
   },
   "outputs": [
    {
     "name": "stdout",
     "output_type": "stream",
     "text": [
      "<CompoundEntry: 3QQK:A:X02:497> <AtomGroup: [<ExtendedAtom: 3QQK/0/A/HIS-84/CG>]> [<Feature=Atom>] [<ExtendedAtom: 3QQK/0/A/HIS-84/CG>]\n",
      "<CompoundEntry: 3QQK:A:X02:497> <AtomGroup: [<ExtendedAtom: 3QQK/0/A/GLY-13/C>]> [<Feature=Atom>] [<ExtendedAtom: 3QQK/0/A/GLY-13/C>]\n",
      "<CompoundEntry: 3QQK:A:X02:497> <AtomGroup: [<ExtendedAtom: 3QQK/0/A/LYS-65/N>]> [<Feature=Donor>, <Feature=Atom>] [<ExtendedAtom: 3QQK/0/A/LYS-65/N>]\n",
      "<CompoundEntry: 3QQK:A:X02:497> <AtomGroup: [<ExtendedAtom: 3QQK/0/A/PHE-146/N>, <ExtendedAtom: 3QQK/0/A/ASP-145/C>, <ExtendedAtom: 3QQK/0/A/ASP-145/O>]> [<Feature=Amide>] [<ExtendedAtom: 3QQK/0/A/PHE-146/N>, <ExtendedAtom: 3QQK/0/A/ASP-145/C>, <ExtendedAtom: 3QQK/0/A/ASP-145/O>]\n",
      "<CompoundEntry: 3QQK:A:X02:497> <AtomGroup: [<ExtendedAtom: 3QQK/0/A/GLN-131/N>]> [<Feature=Donor>, <Feature=Atom>] [<ExtendedAtom: 3QQK/0/A/GLN-131/N>]\n",
      "<CompoundEntry: 3QQK:A:X02:497> <AtomGroup: [<ExtendedAtom: 3QQK/0/A/ALA-31/CB>]> [<Feature=Hydrophobe>] [<ExtendedAtom: 3QQK/0/A/ALA-31/CB>]\n",
      "<CompoundEntry: 3QQK:A:X02:497> <AtomGroup: [<ExtendedAtom: 3QQK/0/A/LEU-83/N>, <ExtendedAtom: 3QQK/0/A/PHE-82/C>, <ExtendedAtom: 3QQK/0/A/PHE-82/O>]> [<Feature=Amide>] [<ExtendedAtom: 3QQK/0/A/LEU-83/N>, <ExtendedAtom: 3QQK/0/A/PHE-82/C>, <ExtendedAtom: 3QQK/0/A/PHE-82/O>]\n",
      "<CompoundEntry: 3QQK:A:X02:497> <AtomGroup: [<ExtendedAtom: 3QQK/0/A/LYS-33/NZ>]> [<Feature=Donor>, <Feature=PositivelyIonizable>, <Feature=Atom>] [<ExtendedAtom: 3QQK/0/A/LYS-33/NZ>]\n",
      "<CompoundEntry: 3QQK:A:X02:497> <AtomGroup: [<ExtendedAtom: 3QQK/0/A/THR-14/CB>, <ExtendedAtom: 3QQK/0/A/THR-14/OG1>]> [<Feature=Nucleophile>] [<ExtendedAtom: 3QQK/0/A/THR-14/CB>, <ExtendedAtom: 3QQK/0/A/THR-14/OG1>]\n",
      "<CompoundEntry: 3QQK:A:X02:497> <AtomGroup: [<ExtendedAtom: 3QQK/0/A/LYS-34/N>, <ExtendedAtom: 3QQK/0/A/LYS-33/C>, <ExtendedAtom: 3QQK/0/A/LYS-33/O>]> [<Feature=Amide>] [<ExtendedAtom: 3QQK/0/A/LYS-34/N>, <ExtendedAtom: 3QQK/0/A/LYS-33/C>, <ExtendedAtom: 3QQK/0/A/LYS-33/O>]\n",
      "<CompoundEntry: 3QQK:A:X02:497> <AtomGroup: [<ExtendedAtom: 3QQK/0/A/ALA-31/C>]> [<Feature=Atom>] [<ExtendedAtom: 3QQK/0/A/ALA-31/C>]\n",
      "<CompoundEntry: 3QQK:A:X02:497> <AtomGroup: [<ExtendedAtom: 3QQK/0/A/ILE-10/CG1>]> [<Feature=WeakDonor>, <Feature=Atom>] [<ExtendedAtom: 3QQK/0/A/ILE-10/CG1>]\n",
      "<CompoundEntry: 3QQK:A:X02:497> <AtomGroup: [<ExtendedAtom: 3QQK/0/A/GLY-13/O>]> [<Feature=Acceptor>, <Feature=Atom>] [<ExtendedAtom: 3QQK/0/A/GLY-13/O>]\n",
      "<CompoundEntry: 3QQK:A:X02:497> <AtomGroup: [<ExtendedAtom: 3QQK/0/A/X02-497/S9>, <ExtendedAtom: 3QQK/0/A/X02-497/C8>]> [<Feature=Hydrophobe>] [<ExtendedAtom: 3QQK/0/A/X02-497/S9>, <ExtendedAtom: 3QQK/0/A/X02-497/C8>]\n",
      "<CompoundEntry: 3QQK:A:X02:497> <AtomGroup: [<ExtendedAtom: 3QQK/0/A/ILE-10/C>]> [<Feature=Atom>] [<ExtendedAtom: 3QQK/0/A/ILE-10/C>]\n",
      "<CompoundEntry: 3QQK:A:X02:497> <AtomGroup: [<ExtendedAtom: 3QQK/0/A/ASP-86/C>]> [<Feature=Atom>] [<ExtendedAtom: 3QQK/0/A/ASP-86/C>]\n",
      "<CompoundEntry: 3QQK:A:X02:497> <AtomGroup: [<ExtendedAtom: 3QQK/0/A/ASN-132/CB>]> [<Feature=WeakDonor>, <Feature=Atom>] [<ExtendedAtom: 3QQK/0/A/ASN-132/CB>]\n",
      "<CompoundEntry: 3QQK:A:X02:497> <AtomGroup: [<ExtendedAtom: 3QQK/0/A/X02-497/C8>, <ExtendedAtom: 3QQK/0/A/X02-497/S9>]> [<Feature=Nucleophile>] [<ExtendedAtom: 3QQK/0/A/X02-497/C8>, <ExtendedAtom: 3QQK/0/A/X02-497/S9>]\n",
      "<CompoundEntry: 3QQK:A:X02:497> <AtomGroup: [<ExtendedAtom: 3QQK/0/A/LEU-83/CD2>]> [<Feature=WeakDonor>, <Feature=Atom>] [<ExtendedAtom: 3QQK/0/A/LEU-83/CD2>]\n",
      "<CompoundEntry: 3QQK:A:X02:497> <AtomGroup: [<ExtendedAtom: 3QQK/0/A/GLU-81/C>, <ExtendedAtom: 3QQK/0/A/GLU-81/O>]> [<Feature=Electrophile>, <Feature=Nucleophile>] [<ExtendedAtom: 3QQK/0/A/GLU-81/C>, <ExtendedAtom: 3QQK/0/A/GLU-81/O>]\n",
      "<CompoundEntry: 3QQK:A:X02:497> <AtomGroup: [<ExtendedAtom: 3QQK/0/A/HOH-344/O>]> [<Feature=Acceptor>, <Feature=Nucleophile>, <Feature=Donor>, <Feature=Atom>] [<ExtendedAtom: 3QQK/0/A/HOH-344/O>]\n",
      "<CompoundEntry: 3QQK:A:X02:497> <AtomGroup: [<ExtendedAtom: 3QQK/0/A/GLU-81/CG>, <ExtendedAtom: 3QQK/0/A/GLU-81/CB>]> [<Feature=Hydrophobe>] [<ExtendedAtom: 3QQK/0/A/GLU-81/CG>, <ExtendedAtom: 3QQK/0/A/GLU-81/CB>]\n",
      "<CompoundEntry: 3QQK:A:X02:497> <AtomGroup: [<ExtendedAtom: 3QQK/0/A/HIS-84/CB>]> [<Feature=Hydrophobe>] [<ExtendedAtom: 3QQK/0/A/HIS-84/CB>]\n",
      "<CompoundEntry: 3QQK:A:X02:497> <AtomGroup: [<ExtendedAtom: 3QQK/0/A/ALA-31/O>]> [<Feature=Acceptor>, <Feature=Atom>] [<ExtendedAtom: 3QQK/0/A/ALA-31/O>]\n",
      "<CompoundEntry: 3QQK:A:X02:497> <AtomGroup: [<ExtendedAtom: 3QQK/0/A/X02-497/C5>, <ExtendedAtom: 3QQK/0/A/X02-497/S9>]> [<Feature=Nucleophile>] [<ExtendedAtom: 3QQK/0/A/X02-497/C5>, <ExtendedAtom: 3QQK/0/A/X02-497/S9>]\n",
      "<CompoundEntry: 3QQK:A:X02:497> <AtomGroup: [<ExtendedAtom: 3QQK/0/A/GLN-85/N>]> [<Feature=Donor>, <Feature=Atom>] [<ExtendedAtom: 3QQK/0/A/GLN-85/N>]\n",
      "<CompoundEntry: 3QQK:A:X02:497> <AtomGroup: [<ExtendedAtom: 3QQK/0/A/GLN-131/NE2>]> [<Feature=Donor>, <Feature=Atom>] [<ExtendedAtom: 3QQK/0/A/GLN-131/NE2>]\n",
      "<CompoundEntry: 3QQK:A:X02:497> <AtomGroup: [<ExtendedAtom: 3QQK/0/A/PHE-80/C>]> [<Feature=Atom>] [<ExtendedAtom: 3QQK/0/A/PHE-80/C>]\n",
      "<CompoundEntry: 3QQK:A:X02:497> <AtomGroup: [<ExtendedAtom: 3QQK/0/A/HOH-363/O>]> [<Feature=Acceptor>, <Feature=Nucleophile>, <Feature=Donor>, <Feature=Atom>] [<ExtendedAtom: 3QQK/0/A/HOH-363/O>]\n",
      "<CompoundEntry: 3QQK:A:X02:497> <AtomGroup: [<ExtendedAtom: 3QQK/0/A/HOH-419/O>]> [<Feature=Acceptor>, <Feature=Nucleophile>, <Feature=Donor>, <Feature=Atom>] [<ExtendedAtom: 3QQK/0/A/HOH-419/O>]\n",
      "<CompoundEntry: 3QQK:A:X02:497> <AtomGroup: [<ExtendedAtom: 3QQK/0/A/GLN-131/CG>]> [<Feature=WeakDonor>, <Feature=Atom>] [<ExtendedAtom: 3QQK/0/A/GLN-131/CG>]\n",
      "<CompoundEntry: 3QQK:A:X02:497> <AtomGroup: [<ExtendedAtom: 3QQK/0/A/ALA-31/CB>]> [<Feature=WeakDonor>, <Feature=Atom>] [<ExtendedAtom: 3QQK/0/A/ALA-31/CB>]\n",
      "<CompoundEntry: 3QQK:A:X02:497> <AtomGroup: [<ExtendedAtom: 3QQK/0/A/VAL-30/CB>]> [<Feature=WeakDonor>, <Feature=Atom>] [<ExtendedAtom: 3QQK/0/A/VAL-30/CB>]\n",
      "<CompoundEntry: 3QQK:A:X02:497> <AtomGroup: [<ExtendedAtom: 3QQK/0/A/LYS-33/C>]> [<Feature=Atom>] [<ExtendedAtom: 3QQK/0/A/LYS-33/C>]\n",
      "<CompoundEntry: 3QQK:A:X02:497> <AtomGroup: [<ExtendedAtom: 3QQK/0/A/HOH-385/O>]> [<Feature=Acceptor>, <Feature=Nucleophile>, <Feature=Donor>, <Feature=Atom>] [<ExtendedAtom: 3QQK/0/A/HOH-385/O>]\n",
      "<CompoundEntry: 3QQK:A:X02:497> <AtomGroup: [<ExtendedAtom: 3QQK/0/A/ALA-144/CB>]> [<Feature=WeakDonor>, <Feature=Atom>] [<ExtendedAtom: 3QQK/0/A/ALA-144/CB>]\n",
      "<CompoundEntry: 3QQK:A:X02:497> <AtomGroup: [<ExtendedAtom: 3QQK/0/A/HOH-442/O>]> [<Feature=Acceptor>, <Feature=Nucleophile>, <Feature=Donor>, <Feature=Atom>] [<ExtendedAtom: 3QQK/0/A/HOH-442/O>]\n",
      "<CompoundEntry: 3QQK:A:X02:497> <AtomGroup: [<ExtendedAtom: 3QQK/0/A/GLN-131/CD>]> [<Feature=Atom>] [<ExtendedAtom: 3QQK/0/A/GLN-131/CD>]\n",
      "<CompoundEntry: 3QQK:A:X02:497> <AtomGroup: [<ExtendedAtom: 3QQK/0/A/X02-497/C16>]> [<Feature=Atom>, <Feature=WeakDonor>] [<ExtendedAtom: 3QQK/0/A/X02-497/C16>]\n",
      "<CompoundEntry: 3QQK:A:X02:497> <AtomGroup: [<ExtendedAtom: 3QQK/0/A/ASP-145/N>]> [<Feature=Donor>, <Feature=Atom>] [<ExtendedAtom: 3QQK/0/A/ASP-145/N>]\n",
      "<CompoundEntry: 3QQK:A:X02:497> <AtomGroup: [<ExtendedAtom: 3QQK/0/A/GLN-85/CG>]> [<Feature=WeakDonor>, <Feature=Atom>] [<ExtendedAtom: 3QQK/0/A/GLN-85/CG>]\n",
      "<CompoundEntry: 3QQK:A:X02:497> <AtomGroup: [<ExtendedAtom: 3QQK/0/A/THR-14/OG1>]> [<Feature=Acceptor>, <Feature=Donor>, <Feature=Atom>] [<ExtendedAtom: 3QQK/0/A/THR-14/OG1>]\n",
      "<CompoundEntry: 3QQK:A:X02:497> <AtomGroup: [<ExtendedAtom: 3QQK/0/A/GLN-131/C>]> [<Feature=Atom>] [<ExtendedAtom: 3QQK/0/A/GLN-131/C>]\n",
      "<CompoundEntry: 3QQK:A:X02:497> <AtomGroup: [<ExtendedAtom: 3QQK/0/A/LYS-65/CA>]> [<Feature=WeakDonor>, <Feature=Atom>] [<ExtendedAtom: 3QQK/0/A/LYS-65/CA>]\n",
      "<CompoundEntry: 3QQK:A:X02:497> <AtomGroup: [<ExtendedAtom: 3QQK/0/A/GLN-131/C>, <ExtendedAtom: 3QQK/0/A/GLN-131/O>]> [<Feature=Electrophile>, <Feature=Nucleophile>] [<ExtendedAtom: 3QQK/0/A/GLN-131/C>, <ExtendedAtom: 3QQK/0/A/GLN-131/O>]\n",
      "<CompoundEntry: 3QQK:A:X02:497> <AtomGroup: [<ExtendedAtom: 3QQK/0/A/X02-497/C5>]> [<Feature=Atom>] [<ExtendedAtom: 3QQK/0/A/X02-497/C5>]\n",
      "<CompoundEntry: 3QQK:A:X02:497> <AtomGroup: [<ExtendedAtom: 3QQK/0/A/ASN-132/CG>, <ExtendedAtom: 3QQK/0/A/ASN-132/OD1>]> [<Feature=Electrophile>, <Feature=Nucleophile>] [<ExtendedAtom: 3QQK/0/A/ASN-132/CG>, <ExtendedAtom: 3QQK/0/A/ASN-132/OD1>]\n",
      "<CompoundEntry: 3QQK:A:X02:497> <AtomGroup: [<ExtendedAtom: 3QQK/0/A/TYR-15/N>, <ExtendedAtom: 3QQK/0/A/THR-14/C>, <ExtendedAtom: 3QQK/0/A/THR-14/O>]> [<Feature=Amide>] [<ExtendedAtom: 3QQK/0/A/TYR-15/N>, <ExtendedAtom: 3QQK/0/A/THR-14/C>, <ExtendedAtom: 3QQK/0/A/THR-14/O>]\n",
      "<CompoundEntry: 3QQK:A:X02:497> <AtomGroup: [<ExtendedAtom: 3QQK/0/A/LYS-65/C>, <ExtendedAtom: 3QQK/0/A/LYS-65/O>]> [<Feature=Electrophile>, <Feature=Nucleophile>] [<ExtendedAtom: 3QQK/0/A/LYS-65/C>, <ExtendedAtom: 3QQK/0/A/LYS-65/O>]\n",
      "<CompoundEntry: 3QQK:A:X02:497> <AtomGroup: [<ExtendedAtom: 3QQK/0/A/HOH-435/O>]> [<Feature=Acceptor>, <Feature=Nucleophile>, <Feature=Donor>, <Feature=Atom>] [<ExtendedAtom: 3QQK/0/A/HOH-435/O>]\n",
      "<CompoundEntry: 3QQK:A:X02:497> <AtomGroup: [<ExtendedAtom: 3QQK/0/A/HOH-380/O>]> [<Feature=Acceptor>, <Feature=Nucleophile>, <Feature=Donor>, <Feature=Atom>] [<ExtendedAtom: 3QQK/0/A/HOH-380/O>]\n",
      "<CompoundEntry: 3QQK:A:X02:497> <AtomGroup: [<ExtendedAtom: 3QQK/0/A/LYS-65/NZ>]> [<Feature=Donor>, <Feature=PositivelyIonizable>, <Feature=Atom>] [<ExtendedAtom: 3QQK/0/A/LYS-65/NZ>]\n",
      "<CompoundEntry: 3QQK:A:X02:497> <AtomGroup: [<ExtendedAtom: 3QQK/0/A/PHE-82/O>]> [<Feature=Acceptor>, <Feature=Atom>] [<ExtendedAtom: 3QQK/0/A/PHE-82/O>]\n",
      "<CompoundEntry: 3QQK:A:X02:497> <AtomGroup: [<ExtendedAtom: 3QQK/0/A/VAL-64/N>, <ExtendedAtom: 3QQK/0/A/ILE-63/C>, <ExtendedAtom: 3QQK/0/A/ILE-63/O>]> [<Feature=Amide>] [<ExtendedAtom: 3QQK/0/A/VAL-64/N>, <ExtendedAtom: 3QQK/0/A/ILE-63/C>, <ExtendedAtom: 3QQK/0/A/ILE-63/O>]\n",
      "<CompoundEntry: 3QQK:A:X02:497> <AtomGroup: [<ExtendedAtom: 3QQK/0/A/PHE-82/CE2>]> [<Feature=WeakDonor>, <Feature=Atom>] [<ExtendedAtom: 3QQK/0/A/PHE-82/CE2>]\n",
      "<CompoundEntry: 3QQK:A:X02:497> <AtomGroup: [<ExtendedAtom: 3QQK/0/A/ASN-132/C>]> [<Feature=Atom>] [<ExtendedAtom: 3QQK/0/A/ASN-132/C>]\n",
      "<CompoundEntry: 3QQK:A:X02:497> <AtomGroup: [<ExtendedAtom: 3QQK/0/A/X02-497/N10>]> [<Feature=Donor>, <Feature=Atom>] [<ExtendedAtom: 3QQK/0/A/X02-497/N10>]\n",
      "<CompoundEntry: 3QQK:A:X02:497> <AtomGroup: [<ExtendedAtom: 3QQK/0/A/LEU-83/CB>]> [<Feature=WeakDonor>, <Feature=Atom>] [<ExtendedAtom: 3QQK/0/A/LEU-83/CB>]\n",
      "<CompoundEntry: 3QQK:A:X02:497> <AtomGroup: [<ExtendedAtom: 3QQK/0/A/ALA-31/C>, <ExtendedAtom: 3QQK/0/A/ALA-31/O>]> [<Feature=Electrophile>, <Feature=Nucleophile>] [<ExtendedAtom: 3QQK/0/A/ALA-31/C>, <ExtendedAtom: 3QQK/0/A/ALA-31/O>]\n",
      "<CompoundEntry: 3QQK:A:X02:497> <AtomGroup: [<ExtendedAtom: 3QQK/0/A/HIS-84/N>, <ExtendedAtom: 3QQK/0/A/LEU-83/C>, <ExtendedAtom: 3QQK/0/A/LEU-83/O>]> [<Feature=Amide>] [<ExtendedAtom: 3QQK/0/A/HIS-84/N>, <ExtendedAtom: 3QQK/0/A/LEU-83/C>, <ExtendedAtom: 3QQK/0/A/LEU-83/O>]\n",
      "<CompoundEntry: 3QQK:A:X02:497> <AtomGroup: [<ExtendedAtom: 3QQK/0/A/VAL-18/N>, <ExtendedAtom: 3QQK/0/A/VAL-17/C>, <ExtendedAtom: 3QQK/0/A/VAL-17/O>]> [<Feature=Amide>] [<ExtendedAtom: 3QQK/0/A/VAL-18/N>, <ExtendedAtom: 3QQK/0/A/VAL-17/C>, <ExtendedAtom: 3QQK/0/A/VAL-17/O>]\n",
      "<CompoundEntry: 3QQK:A:X02:497> <AtomGroup: [<ExtendedAtom: 3QQK/0/A/GLN-85/CA>]> [<Feature=WeakDonor>, <Feature=Atom>] [<ExtendedAtom: 3QQK/0/A/GLN-85/CA>]\n",
      "<CompoundEntry: 3QQK:A:X02:497> <AtomGroup: [<ExtendedAtom: 3QQK/0/A/PHE-80/CG>, <ExtendedAtom: 3QQK/0/A/PHE-80/CZ>, <ExtendedAtom: 3QQK/0/A/PHE-80/CE1>, <ExtendedAtom: 3QQK/0/A/PHE-80/CD1>, <ExtendedAtom: 3QQK/0/A/PHE-80/CE2>, <ExtendedAtom: 3QQK/0/A/PHE-80/CB>, <ExtendedAtom: 3QQK/0/A/PHE-80/CD2>]> [<Feature=Hydrophobe>] [<ExtendedAtom: 3QQK/0/A/PHE-80/CG>, <ExtendedAtom: 3QQK/0/A/PHE-80/CZ>, <ExtendedAtom: 3QQK/0/A/PHE-80/CE1>, <ExtendedAtom: 3QQK/0/A/PHE-80/CD1>, <ExtendedAtom: 3QQK/0/A/PHE-80/CE2>, <ExtendedAtom: 3QQK/0/A/PHE-80/CB>, <ExtendedAtom: 3QQK/0/A/PHE-80/CD2>]\n",
      "<CompoundEntry: 3QQK:A:X02:497> <AtomGroup: [<ExtendedAtom: 3QQK/0/A/PHE-82/CA>]> [<Feature=WeakDonor>, <Feature=Atom>] [<ExtendedAtom: 3QQK/0/A/PHE-82/CA>]\n",
      "<CompoundEntry: 3QQK:A:X02:497> <AtomGroup: [<ExtendedAtom: 3QQK/0/A/GLU-81/C>]> [<Feature=Atom>] [<ExtendedAtom: 3QQK/0/A/GLU-81/C>]\n",
      "<CompoundEntry: 3QQK:A:X02:497> <AtomGroup: [<ExtendedAtom: 3QQK/0/A/X02-497/C17>]> [<Feature=Atom>, <Feature=WeakDonor>] [<ExtendedAtom: 3QQK/0/A/X02-497/C17>]\n",
      "<CompoundEntry: 3QQK:A:X02:497> <AtomGroup: [<ExtendedAtom: 3QQK/0/A/ASP-145/CB>]> [<Feature=WeakDonor>, <Feature=Atom>] [<ExtendedAtom: 3QQK/0/A/ASP-145/CB>]\n",
      "<CompoundEntry: 3QQK:A:X02:497> <AtomGroup: [<ExtendedAtom: 3QQK/0/A/ASP-145/OD1>]> [<Feature=Acceptor>, <Feature=Atom>] [<ExtendedAtom: 3QQK/0/A/ASP-145/OD1>]\n",
      "<CompoundEntry: 3QQK:A:X02:497> <AtomGroup: [<ExtendedAtom: 3QQK/0/A/LYS-33/N>, <ExtendedAtom: 3QQK/0/A/LEU-32/C>, <ExtendedAtom: 3QQK/0/A/LEU-32/O>]> [<Feature=Amide>] [<ExtendedAtom: 3QQK/0/A/LYS-33/N>, <ExtendedAtom: 3QQK/0/A/LEU-32/C>, <ExtendedAtom: 3QQK/0/A/LEU-32/O>]\n",
      "<CompoundEntry: 3QQK:A:X02:497> <AtomGroup: [<ExtendedAtom: 3QQK/0/A/LEU-134/N>]> [<Feature=Donor>, <Feature=Atom>] [<ExtendedAtom: 3QQK/0/A/LEU-134/N>]\n",
      "<CompoundEntry: 3QQK:A:X02:497> <AtomGroup: [<ExtendedAtom: 3QQK/0/A/PHE-80/CZ>]> [<Feature=WeakDonor>, <Feature=Atom>] [<ExtendedAtom: 3QQK/0/A/PHE-80/CZ>]\n",
      "<CompoundEntry: 3QQK:A:X02:497> <AtomGroup: [<ExtendedAtom: 3QQK/0/A/LYS-65/CG>]> [<Feature=WeakDonor>, <Feature=Atom>] [<ExtendedAtom: 3QQK/0/A/LYS-65/CG>]\n",
      "<CompoundEntry: 3QQK:A:X02:497> <AtomGroup: [<ExtendedAtom: 3QQK/0/A/VAL-64/O>]> [<Feature=Acceptor>, <Feature=Atom>] [<ExtendedAtom: 3QQK/0/A/VAL-64/O>]\n",
      "<CompoundEntry: 3QQK:A:X02:497> <AtomGroup: [<ExtendedAtom: 3QQK/0/A/PHE-82/C>]> [<Feature=Atom>] [<ExtendedAtom: 3QQK/0/A/PHE-82/C>]\n",
      "<CompoundEntry: 3QQK:A:X02:497> <AtomGroup: [<ExtendedAtom: 3QQK/0/A/PHE-80/N>, <ExtendedAtom: 3QQK/0/A/VAL-79/C>, <ExtendedAtom: 3QQK/0/A/VAL-79/O>]> [<Feature=Amide>] [<ExtendedAtom: 3QQK/0/A/PHE-80/N>, <ExtendedAtom: 3QQK/0/A/VAL-79/C>, <ExtendedAtom: 3QQK/0/A/VAL-79/O>]\n",
      "<CompoundEntry: 3QQK:A:X02:497> <AtomGroup: [<ExtendedAtom: 3QQK/0/A/GLU-81/CG>]> [<Feature=WeakDonor>, <Feature=Atom>] [<ExtendedAtom: 3QQK/0/A/GLU-81/CG>]\n",
      "<CompoundEntry: 3QQK:A:X02:497> <AtomGroup: [<ExtendedAtom: 3QQK/0/A/X02-497/C15>]> [<Feature=Atom>, <Feature=WeakDonor>] [<ExtendedAtom: 3QQK/0/A/X02-497/C15>]\n",
      "<CompoundEntry: 3QQK:A:X02:497> <AtomGroup: [<ExtendedAtom: 3QQK/0/A/ASN-132/N>]> [<Feature=Donor>, <Feature=Atom>] [<ExtendedAtom: 3QQK/0/A/ASN-132/N>]\n",
      "<CompoundEntry: 3QQK:A:X02:497> <AtomGroup: [<ExtendedAtom: 3QQK/0/A/ASP-145/C>]> [<Feature=Atom>] [<ExtendedAtom: 3QQK/0/A/ASP-145/C>]\n",
      "<CompoundEntry: 3QQK:A:X02:497> <AtomGroup: [<ExtendedAtom: 3QQK/0/A/GLN-85/CB>]> [<Feature=WeakDonor>, <Feature=Atom>] [<ExtendedAtom: 3QQK/0/A/GLN-85/CB>]\n",
      "<CompoundEntry: 3QQK:A:X02:497> <AtomGroup: [<ExtendedAtom: 3QQK/0/A/PHE-80/CD1>]> [<Feature=WeakDonor>, <Feature=Atom>] [<ExtendedAtom: 3QQK/0/A/PHE-80/CD1>]\n",
      "<CompoundEntry: 3QQK:A:X02:497> <AtomGroup: [<ExtendedAtom: 3QQK/0/A/X02-497/C3>]> [<Feature=Atom>, <Feature=WeakDonor>] [<ExtendedAtom: 3QQK/0/A/X02-497/C3>]\n",
      "<CompoundEntry: 3QQK:A:X02:497> <AtomGroup: [<ExtendedAtom: 3QQK/0/A/ILE-10/N>]> [<Feature=Donor>, <Feature=Atom>] [<ExtendedAtom: 3QQK/0/A/ILE-10/N>]\n",
      "<CompoundEntry: 3QQK:A:X02:497> <AtomGroup: [<ExtendedAtom: 3QQK/0/A/ASP-86/N>]> [<Feature=Donor>, <Feature=Atom>] [<ExtendedAtom: 3QQK/0/A/ASP-86/N>]\n",
      "<CompoundEntry: 3QQK:A:X02:497> <AtomGroup: [<ExtendedAtom: 3QQK/0/A/X02-497/C12>]> [<Feature=Atom>] [<ExtendedAtom: 3QQK/0/A/X02-497/C12>]\n",
      "<CompoundEntry: 3QQK:A:X02:497> <AtomGroup: [<ExtendedAtom: 3QQK/0/A/LEU-66/N>, <ExtendedAtom: 3QQK/0/A/LYS-65/C>, <ExtendedAtom: 3QQK/0/A/LYS-65/O>]> [<Feature=Amide>] [<ExtendedAtom: 3QQK/0/A/LEU-66/N>, <ExtendedAtom: 3QQK/0/A/LYS-65/C>, <ExtendedAtom: 3QQK/0/A/LYS-65/O>]\n",
      "<CompoundEntry: 3QQK:A:X02:497> <AtomGroup: [<ExtendedAtom: 3QQK/0/A/HOH-315/O>]> [<Feature=Acceptor>, <Feature=Nucleophile>, <Feature=Donor>, <Feature=Atom>] [<ExtendedAtom: 3QQK/0/A/HOH-315/O>]\n",
      "<CompoundEntry: 3QQK:A:X02:497> <AtomGroup: [<ExtendedAtom: 3QQK/0/A/LYS-65/CB>]> [<Feature=WeakDonor>, <Feature=Atom>] [<ExtendedAtom: 3QQK/0/A/LYS-65/CB>]\n",
      "<CompoundEntry: 3QQK:A:X02:497> <AtomGroup: [<ExtendedAtom: 3QQK/0/A/PHE-82/CE1>]> [<Feature=WeakDonor>, <Feature=Atom>] [<ExtendedAtom: 3QQK/0/A/PHE-82/CE1>]\n",
      "<CompoundEntry: 3QQK:A:X02:497> <AtomGroup: [<ExtendedAtom: 3QQK/0/A/GLN-85/N>, <ExtendedAtom: 3QQK/0/A/HIS-84/C>, <ExtendedAtom: 3QQK/0/A/HIS-84/O>]> [<Feature=Amide>] [<ExtendedAtom: 3QQK/0/A/GLN-85/N>, <ExtendedAtom: 3QQK/0/A/HIS-84/C>, <ExtendedAtom: 3QQK/0/A/HIS-84/O>]\n",
      "<CompoundEntry: 3QQK:A:X02:497> <AtomGroup: [<ExtendedAtom: 3QQK/0/A/ILE-10/CD1>]> [<Feature=WeakDonor>, <Feature=Atom>] [<ExtendedAtom: 3QQK/0/A/ILE-10/CD1>]\n",
      "<CompoundEntry: 3QQK:A:X02:497> <AtomGroup: [<ExtendedAtom: 3QQK/0/A/X02-497/C13>, <ExtendedAtom: 3QQK/0/A/X02-497/C16>, <ExtendedAtom: 3QQK/0/A/X02-497/C14>, <ExtendedAtom: 3QQK/0/A/X02-497/C12>, <ExtendedAtom: 3QQK/0/A/X02-497/C17>, <ExtendedAtom: 3QQK/0/A/X02-497/C15>]> [<Feature=Hydrophobe>] [<ExtendedAtom: 3QQK/0/A/X02-497/C13>, <ExtendedAtom: 3QQK/0/A/X02-497/C16>, <ExtendedAtom: 3QQK/0/A/X02-497/C14>, <ExtendedAtom: 3QQK/0/A/X02-497/C12>, <ExtendedAtom: 3QQK/0/A/X02-497/C17>, <ExtendedAtom: 3QQK/0/A/X02-497/C15>]\n",
      "<CompoundEntry: 3QQK:A:X02:497> <AtomGroup: [<ExtendedAtom: 3QQK/0/A/ASN-132/ND2>]> [<Feature=Donor>, <Feature=Atom>] [<ExtendedAtom: 3QQK/0/A/ASN-132/ND2>]\n",
      "<CompoundEntry: 3QQK:A:X02:497> <AtomGroup: [<ExtendedAtom: 3QQK/0/A/X02-497/N4>]> [<Feature=Donor>, <Feature=Atom>] [<ExtendedAtom: 3QQK/0/A/X02-497/N4>]\n",
      "<CompoundEntry: 3QQK:A:X02:497> <AtomGroup: [<ExtendedAtom: 3QQK/0/A/ALA-144/C>, <ExtendedAtom: 3QQK/0/A/ALA-144/O>]> [<Feature=Electrophile>, <Feature=Nucleophile>] [<ExtendedAtom: 3QQK/0/A/ALA-144/C>, <ExtendedAtom: 3QQK/0/A/ALA-144/O>]\n",
      "<CompoundEntry: 3QQK:A:X02:497> <AtomGroup: [<ExtendedAtom: 3QQK/0/A/GLN-131/CB>]> [<Feature=WeakDonor>, <Feature=Atom>] [<ExtendedAtom: 3QQK/0/A/GLN-131/CB>]\n",
      "<CompoundEntry: 3QQK:A:X02:497> <AtomGroup: [<ExtendedAtom: 3QQK/0/A/LEU-133/N>, <ExtendedAtom: 3QQK/0/A/ASN-132/C>, <ExtendedAtom: 3QQK/0/A/ASN-132/O>]> [<Feature=Amide>] [<ExtendedAtom: 3QQK/0/A/LEU-133/N>, <ExtendedAtom: 3QQK/0/A/ASN-132/C>, <ExtendedAtom: 3QQK/0/A/ASN-132/O>]\n",
      "<CompoundEntry: 3QQK:A:X02:497> <AtomGroup: [<ExtendedAtom: 3QQK/0/A/HIS-84/ND1>]> [<Feature=Acceptor>, <Feature=Donor>, <Feature=Atom>] [<ExtendedAtom: 3QQK/0/A/HIS-84/ND1>]\n",
      "<CompoundEntry: 3QQK:A:X02:497> <AtomGroup: [<ExtendedAtom: 3QQK/0/A/GLY-11/N>, <ExtendedAtom: 3QQK/0/A/ILE-10/C>, <ExtendedAtom: 3QQK/0/A/ILE-10/O>]> [<Feature=Amide>] [<ExtendedAtom: 3QQK/0/A/GLY-11/N>, <ExtendedAtom: 3QQK/0/A/ILE-10/C>, <ExtendedAtom: 3QQK/0/A/ILE-10/O>]\n",
      "<CompoundEntry: 3QQK:A:X02:497> <AtomGroup: [<ExtendedAtom: 3QQK/0/A/LEU-134/N>, <ExtendedAtom: 3QQK/0/A/LEU-133/C>, <ExtendedAtom: 3QQK/0/A/LEU-133/O>]> [<Feature=Amide>] [<ExtendedAtom: 3QQK/0/A/LEU-134/N>, <ExtendedAtom: 3QQK/0/A/LEU-133/C>, <ExtendedAtom: 3QQK/0/A/LEU-133/O>]\n",
      "<CompoundEntry: 3QQK:A:X02:497> <AtomGroup: [<ExtendedAtom: 3QQK/0/A/GLN-85/CD>, <ExtendedAtom: 3QQK/0/A/GLN-85/NE2>, <ExtendedAtom: 3QQK/0/A/GLN-85/OE1>]> [<Feature=Amide>] [<ExtendedAtom: 3QQK/0/A/GLN-85/CD>, <ExtendedAtom: 3QQK/0/A/GLN-85/NE2>, <ExtendedAtom: 3QQK/0/A/GLN-85/OE1>]\n",
      "<CompoundEntry: 3QQK:A:X02:497> <AtomGroup: [<ExtendedAtom: 3QQK/0/A/X02-497/N6>]> [<Feature=Acceptor>, <Feature=Atom>] [<ExtendedAtom: 3QQK/0/A/X02-497/N6>]\n",
      "<CompoundEntry: 3QQK:A:X02:497> <AtomGroup: [<ExtendedAtom: 3QQK/0/A/VAL-30/C>, <ExtendedAtom: 3QQK/0/A/VAL-30/O>]> [<Feature=Electrophile>, <Feature=Nucleophile>] [<ExtendedAtom: 3QQK/0/A/VAL-30/C>, <ExtendedAtom: 3QQK/0/A/VAL-30/O>]\n",
      "<CompoundEntry: 3QQK:A:X02:497> <AtomGroup: [<ExtendedAtom: 3QQK/0/A/GLN-85/C>, <ExtendedAtom: 3QQK/0/A/GLN-85/O>]> [<Feature=Electrophile>, <Feature=Nucleophile>] [<ExtendedAtom: 3QQK/0/A/GLN-85/C>, <ExtendedAtom: 3QQK/0/A/GLN-85/O>]\n",
      "<CompoundEntry: 3QQK:A:X02:497> <AtomGroup: [<ExtendedAtom: 3QQK/0/A/ALA-31/N>, <ExtendedAtom: 3QQK/0/A/VAL-30/C>, <ExtendedAtom: 3QQK/0/A/VAL-30/O>]> [<Feature=Amide>] [<ExtendedAtom: 3QQK/0/A/ALA-31/N>, <ExtendedAtom: 3QQK/0/A/VAL-30/C>, <ExtendedAtom: 3QQK/0/A/VAL-30/O>]\n",
      "<CompoundEntry: 3QQK:A:X02:497> <AtomGroup: [<ExtendedAtom: 3QQK/0/A/LYS-65/N>, <ExtendedAtom: 3QQK/0/A/VAL-64/C>, <ExtendedAtom: 3QQK/0/A/VAL-64/O>]> [<Feature=Amide>] [<ExtendedAtom: 3QQK/0/A/LYS-65/N>, <ExtendedAtom: 3QQK/0/A/VAL-64/C>, <ExtendedAtom: 3QQK/0/A/VAL-64/O>]\n",
      "<CompoundEntry: 3QQK:A:X02:497> <AtomGroup: [<ExtendedAtom: 3QQK/0/A/PHE-80/CE2>]> [<Feature=WeakDonor>, <Feature=Atom>] [<ExtendedAtom: 3QQK/0/A/PHE-80/CE2>]\n",
      "<CompoundEntry: 3QQK:A:X02:497> <AtomGroup: [<ExtendedAtom: 3QQK/0/A/GLU-81/CA>]> [<Feature=WeakDonor>, <Feature=Atom>] [<ExtendedAtom: 3QQK/0/A/GLU-81/CA>]\n",
      "<CompoundEntry: 3QQK:A:X02:497> <AtomGroup: [<ExtendedAtom: 3QQK/0/A/LEU-134/C>]> [<Feature=Atom>] [<ExtendedAtom: 3QQK/0/A/LEU-134/C>]\n",
      "<CompoundEntry: 3QQK:A:X02:497> <AtomGroup: [<ExtendedAtom: 3QQK/0/A/LEU-134/CD1>]> [<Feature=WeakDonor>, <Feature=Atom>] [<ExtendedAtom: 3QQK/0/A/LEU-134/CD1>]\n",
      "<CompoundEntry: 3QQK:A:X02:497> <AtomGroup: [<ExtendedAtom: 3QQK/0/A/LEU-83/O>]> [<Feature=Acceptor>, <Feature=Atom>] [<ExtendedAtom: 3QQK/0/A/LEU-83/O>]\n",
      "<CompoundEntry: 3QQK:A:X02:497> <AtomGroup: [<ExtendedAtom: 3QQK/0/A/HIS-84/CD2>, <ExtendedAtom: 3QQK/0/A/HIS-84/CE1>, <ExtendedAtom: 3QQK/0/A/HIS-84/CG>, <ExtendedAtom: 3QQK/0/A/HIS-84/ND1>, <ExtendedAtom: 3QQK/0/A/HIS-84/NE2>]> [<Feature=Aromatic>, <Feature=PositivelyIonizable>] [<ExtendedAtom: 3QQK/0/A/HIS-84/CD2>, <ExtendedAtom: 3QQK/0/A/HIS-84/CE1>, <ExtendedAtom: 3QQK/0/A/HIS-84/CG>, <ExtendedAtom: 3QQK/0/A/HIS-84/ND1>, <ExtendedAtom: 3QQK/0/A/HIS-84/NE2>]\n",
      "<CompoundEntry: 3QQK:A:X02:497> <AtomGroup: [<ExtendedAtom: 3QQK/0/A/VAL-18/CG1>]> [<Feature=WeakDonor>, <Feature=Atom>] [<ExtendedAtom: 3QQK/0/A/VAL-18/CG1>]\n",
      "<CompoundEntry: 3QQK:A:X02:497> <AtomGroup: [<ExtendedAtom: 3QQK/0/A/HIS-84/C>]> [<Feature=Atom>] [<ExtendedAtom: 3QQK/0/A/HIS-84/C>]\n",
      "<CompoundEntry: 3QQK:A:X02:497> <AtomGroup: [<ExtendedAtom: 3QQK/0/A/VAL-64/CB>]> [<Feature=WeakDonor>, <Feature=Atom>] [<ExtendedAtom: 3QQK/0/A/VAL-64/CB>]\n",
      "<CompoundEntry: 3QQK:A:X02:497> <AtomGroup: [<ExtendedAtom: 3QQK/0/A/THR-14/CG2>]> [<Feature=Hydrophobe>] [<ExtendedAtom: 3QQK/0/A/THR-14/CG2>]\n",
      "<CompoundEntry: 3QQK:A:X02:497> <AtomGroup: [<ExtendedAtom: 3QQK/0/A/PHE-82/CZ>, <ExtendedAtom: 3QQK/0/A/PHE-82/CE1>, <ExtendedAtom: 3QQK/0/A/PHE-82/CD1>, <ExtendedAtom: 3QQK/0/A/PHE-82/CD2>, <ExtendedAtom: 3QQK/0/A/PHE-82/CB>, <ExtendedAtom: 3QQK/0/A/PHE-82/CE2>, <ExtendedAtom: 3QQK/0/A/PHE-82/CG>]> [<Feature=Hydrophobe>] [<ExtendedAtom: 3QQK/0/A/PHE-82/CZ>, <ExtendedAtom: 3QQK/0/A/PHE-82/CE1>, <ExtendedAtom: 3QQK/0/A/PHE-82/CD1>, <ExtendedAtom: 3QQK/0/A/PHE-82/CD2>, <ExtendedAtom: 3QQK/0/A/PHE-82/CB>, <ExtendedAtom: 3QQK/0/A/PHE-82/CE2>, <ExtendedAtom: 3QQK/0/A/PHE-82/CG>]\n",
      "<CompoundEntry: 3QQK:A:X02:497> <AtomGroup: [<ExtendedAtom: 3QQK/0/A/PHE-80/CE1>]> [<Feature=WeakDonor>, <Feature=Atom>] [<ExtendedAtom: 3QQK/0/A/PHE-80/CE1>]\n",
      "<CompoundEntry: 3QQK:A:X02:497> <AtomGroup: [<ExtendedAtom: 3QQK/0/A/LEU-134/CD2>, <ExtendedAtom: 3QQK/0/A/LEU-134/CD1>, <ExtendedAtom: 3QQK/0/A/LEU-134/CG>, <ExtendedAtom: 3QQK/0/A/LEU-134/CB>]> [<Feature=Hydrophobe>] [<ExtendedAtom: 3QQK/0/A/LEU-134/CD2>, <ExtendedAtom: 3QQK/0/A/LEU-134/CD1>, <ExtendedAtom: 3QQK/0/A/LEU-134/CG>, <ExtendedAtom: 3QQK/0/A/LEU-134/CB>]\n",
      "<CompoundEntry: 3QQK:A:X02:497> <AtomGroup: [<ExtendedAtom: 3QQK/0/A/X02-497/C5>, <ExtendedAtom: 3QQK/0/A/X02-497/N6>, <ExtendedAtom: 3QQK/0/A/X02-497/C7>, <ExtendedAtom: 3QQK/0/A/X02-497/C8>, <ExtendedAtom: 3QQK/0/A/X02-497/S9>]> [<Feature=Aromatic>] [<ExtendedAtom: 3QQK/0/A/X02-497/C5>, <ExtendedAtom: 3QQK/0/A/X02-497/N6>, <ExtendedAtom: 3QQK/0/A/X02-497/C7>, <ExtendedAtom: 3QQK/0/A/X02-497/C8>, <ExtendedAtom: 3QQK/0/A/X02-497/S9>]\n",
      "<CompoundEntry: 3QQK:A:X02:497> <AtomGroup: [<ExtendedAtom: 3QQK/0/A/LYS-33/CE>]> [<Feature=WeakDonor>, <Feature=Atom>] [<ExtendedAtom: 3QQK/0/A/LYS-33/CE>]\n",
      "<CompoundEntry: 3QQK:A:X02:497> <AtomGroup: [<ExtendedAtom: 3QQK/0/A/VAL-64/C>, <ExtendedAtom: 3QQK/0/A/VAL-64/O>]> [<Feature=Electrophile>, <Feature=Nucleophile>] [<ExtendedAtom: 3QQK/0/A/VAL-64/C>, <ExtendedAtom: 3QQK/0/A/VAL-64/O>]\n",
      "<CompoundEntry: 3QQK:A:X02:497> <AtomGroup: [<ExtendedAtom: 3QQK/0/A/VAL-18/N>]> [<Feature=Donor>, <Feature=Atom>] [<ExtendedAtom: 3QQK/0/A/VAL-18/N>]\n",
      "<CompoundEntry: 3QQK:A:X02:497> <AtomGroup: [<ExtendedAtom: 3QQK/0/A/PHE-82/N>, <ExtendedAtom: 3QQK/0/A/GLU-81/C>, <ExtendedAtom: 3QQK/0/A/GLU-81/O>]> [<Feature=Amide>] [<ExtendedAtom: 3QQK/0/A/PHE-82/N>, <ExtendedAtom: 3QQK/0/A/GLU-81/C>, <ExtendedAtom: 3QQK/0/A/GLU-81/O>]\n",
      "<CompoundEntry: 3QQK:A:X02:497> <AtomGroup: [<ExtendedAtom: 3QQK/0/A/LYS-33/CB>, <ExtendedAtom: 3QQK/0/A/LYS-33/CD>, <ExtendedAtom: 3QQK/0/A/LYS-33/CG>]> [<Feature=Hydrophobe>] [<ExtendedAtom: 3QQK/0/A/LYS-33/CB>, <ExtendedAtom: 3QQK/0/A/LYS-33/CD>, <ExtendedAtom: 3QQK/0/A/LYS-33/CG>]\n",
      "<CompoundEntry: 3QQK:A:X02:497> <AtomGroup: [<ExtendedAtom: 3QQK/0/A/HOH-321/O>]> [<Feature=Acceptor>, <Feature=Nucleophile>, <Feature=Donor>, <Feature=Atom>] [<ExtendedAtom: 3QQK/0/A/HOH-321/O>]\n",
      "<CompoundEntry: 3QQK:A:X02:497> <AtomGroup: [<ExtendedAtom: 3QQK/0/A/LEU-134/CB>]> [<Feature=WeakDonor>, <Feature=Atom>] [<ExtendedAtom: 3QQK/0/A/LEU-134/CB>]\n",
      "<CompoundEntry: 3QQK:A:X02:497> <AtomGroup: [<ExtendedAtom: 3QQK/0/A/PHE-80/O>]> [<Feature=Acceptor>, <Feature=Atom>] [<ExtendedAtom: 3QQK/0/A/PHE-80/O>]\n",
      "<CompoundEntry: 3QQK:A:X02:497> <AtomGroup: [<ExtendedAtom: 3QQK/0/A/VAL-64/N>]> [<Feature=Donor>, <Feature=Atom>] [<ExtendedAtom: 3QQK/0/A/VAL-64/N>]\n",
      "<CompoundEntry: 3QQK:A:X02:497> <AtomGroup: [<ExtendedAtom: 3QQK/0/A/LYS-33/N>]> [<Feature=Donor>, <Feature=Atom>] [<ExtendedAtom: 3QQK/0/A/LYS-33/N>]\n",
      "<CompoundEntry: 3QQK:A:X02:497> <AtomGroup: [<ExtendedAtom: 3QQK/0/A/PHE-80/CG>]> [<Feature=Atom>] [<ExtendedAtom: 3QQK/0/A/PHE-80/CG>]\n",
      "<CompoundEntry: 3QQK:A:X02:497> <AtomGroup: [<ExtendedAtom: 3QQK/0/A/GLN-131/CG>, <ExtendedAtom: 3QQK/0/A/GLN-131/CB>]> [<Feature=Hydrophobe>] [<ExtendedAtom: 3QQK/0/A/GLN-131/CG>, <ExtendedAtom: 3QQK/0/A/GLN-131/CB>]\n",
      "<CompoundEntry: 3QQK:A:X02:497> <AtomGroup: [<ExtendedAtom: 3QQK/0/A/LEU-83/CD1>]> [<Feature=WeakDonor>, <Feature=Atom>] [<ExtendedAtom: 3QQK/0/A/LEU-83/CD1>]\n",
      "<CompoundEntry: 3QQK:A:X02:497> <AtomGroup: [<ExtendedAtom: 3QQK/0/A/GLU-81/N>, <ExtendedAtom: 3QQK/0/A/PHE-80/C>, <ExtendedAtom: 3QQK/0/A/PHE-80/O>]> [<Feature=Amide>] [<ExtendedAtom: 3QQK/0/A/GLU-81/N>, <ExtendedAtom: 3QQK/0/A/PHE-80/C>, <ExtendedAtom: 3QQK/0/A/PHE-80/O>]\n",
      "<CompoundEntry: 3QQK:A:X02:497> <AtomGroup: [<ExtendedAtom: 3QQK/0/A/LEU-134/CD2>]> [<Feature=WeakDonor>, <Feature=Atom>] [<ExtendedAtom: 3QQK/0/A/LEU-134/CD2>]\n",
      "<CompoundEntry: 3QQK:A:X02:497> <AtomGroup: [<ExtendedAtom: 3QQK/0/A/VAL-18/CB>]> [<Feature=WeakDonor>, <Feature=Atom>] [<ExtendedAtom: 3QQK/0/A/VAL-18/CB>]\n",
      "<CompoundEntry: 3QQK:A:X02:497> <AtomGroup: [<ExtendedAtom: 3QQK/0/A/VAL-30/CA>]> [<Feature=WeakDonor>, <Feature=Atom>] [<ExtendedAtom: 3QQK/0/A/VAL-30/CA>]\n",
      "<CompoundEntry: 3QQK:A:X02:497> <AtomGroup: [<ExtendedAtom: 3QQK/0/A/X02-497/O18>]> [<Feature=Acceptor>, <Feature=Atom>] [<ExtendedAtom: 3QQK/0/A/X02-497/O18>]\n",
      "<CompoundEntry: 3QQK:A:X02:497> <AtomGroup: [<ExtendedAtom: 3QQK/0/A/GLU-81/OE2>]> [<Feature=Acceptor>, <Feature=Atom>] [<ExtendedAtom: 3QQK/0/A/GLU-81/OE2>]\n",
      "<CompoundEntry: 3QQK:A:X02:497> <AtomGroup: [<ExtendedAtom: 3QQK/0/A/ASP-86/O>]> [<Feature=Acceptor>, <Feature=Atom>] [<ExtendedAtom: 3QQK/0/A/ASP-86/O>]\n",
      "<CompoundEntry: 3QQK:A:X02:497> <AtomGroup: [<ExtendedAtom: 3QQK/0/A/ILE-10/O>]> [<Feature=Acceptor>, <Feature=Atom>] [<ExtendedAtom: 3QQK/0/A/ILE-10/O>]\n",
      "<CompoundEntry: 3QQK:A:X02:497> <AtomGroup: [<ExtendedAtom: 3QQK/0/A/VAL-18/CG2>]> [<Feature=WeakDonor>, <Feature=Atom>] [<ExtendedAtom: 3QQK/0/A/VAL-18/CG2>]\n",
      "<CompoundEntry: 3QQK:A:X02:497> <AtomGroup: [<ExtendedAtom: 3QQK/0/A/GLN-85/OE1>]> [<Feature=Acceptor>, <Feature=Atom>] [<ExtendedAtom: 3QQK/0/A/GLN-85/OE1>]\n",
      "<CompoundEntry: 3QQK:A:X02:497> <AtomGroup: [<ExtendedAtom: 3QQK/0/A/ASP-86/OD1>]> [<Feature=Acceptor>, <Feature=Atom>] [<ExtendedAtom: 3QQK/0/A/ASP-86/OD1>]\n",
      "<CompoundEntry: 3QQK:A:X02:497> <AtomGroup: [<ExtendedAtom: 3QQK/0/A/ASP-145/OD2>]> [<Feature=Acceptor>, <Feature=Atom>] [<ExtendedAtom: 3QQK/0/A/ASP-145/OD2>]\n",
      "<CompoundEntry: 3QQK:A:X02:497> <AtomGroup: [<ExtendedAtom: 3QQK/0/A/HOH-372/O>]> [<Feature=Acceptor>, <Feature=Nucleophile>, <Feature=Donor>, <Feature=Atom>] [<ExtendedAtom: 3QQK/0/A/HOH-372/O>]\n",
      "<CompoundEntry: 3QQK:A:X02:497> <AtomGroup: [<ExtendedAtom: 3QQK/0/A/GLN-131/CD>, <ExtendedAtom: 3QQK/0/A/GLN-131/OE1>]> [<Feature=Electrophile>, <Feature=Nucleophile>] [<ExtendedAtom: 3QQK/0/A/GLN-131/CD>, <ExtendedAtom: 3QQK/0/A/GLN-131/OE1>]\n",
      "<CompoundEntry: 3QQK:A:X02:497> <AtomGroup: [<ExtendedAtom: 3QQK/0/A/GLY-13/CA>]> [<Feature=WeakDonor>, <Feature=Atom>] [<ExtendedAtom: 3QQK/0/A/GLY-13/CA>]\n",
      "<CompoundEntry: 3QQK:A:X02:497> <AtomGroup: [<ExtendedAtom: 3QQK/0/A/ALA-144/N>, <ExtendedAtom: 3QQK/0/A/LEU-143/C>, <ExtendedAtom: 3QQK/0/A/LEU-143/O>]> [<Feature=Amide>] [<ExtendedAtom: 3QQK/0/A/ALA-144/N>, <ExtendedAtom: 3QQK/0/A/LEU-143/C>, <ExtendedAtom: 3QQK/0/A/LEU-143/O>]\n",
      "<CompoundEntry: 3QQK:A:X02:497> <AtomGroup: [<ExtendedAtom: 3QQK/0/A/VAL-30/CB>, <ExtendedAtom: 3QQK/0/A/VAL-30/CG2>, <ExtendedAtom: 3QQK/0/A/VAL-30/CG1>]> [<Feature=Hydrophobe>] [<ExtendedAtom: 3QQK/0/A/VAL-30/CB>, <ExtendedAtom: 3QQK/0/A/VAL-30/CG2>, <ExtendedAtom: 3QQK/0/A/VAL-30/CG1>]\n",
      "<CompoundEntry: 3QQK:A:X02:497> <AtomGroup: [<ExtendedAtom: 3QQK/0/A/ASP-86/N>, <ExtendedAtom: 3QQK/0/A/GLN-85/C>, <ExtendedAtom: 3QQK/0/A/GLN-85/O>]> [<Feature=Amide>] [<ExtendedAtom: 3QQK/0/A/ASP-86/N>, <ExtendedAtom: 3QQK/0/A/GLN-85/C>, <ExtendedAtom: 3QQK/0/A/GLN-85/O>]\n",
      "<CompoundEntry: 3QQK:A:X02:497> <AtomGroup: [<ExtendedAtom: 3QQK/0/A/LYS-33/CG>]> [<Feature=WeakDonor>, <Feature=Atom>] [<ExtendedAtom: 3QQK/0/A/LYS-33/CG>]\n",
      "<CompoundEntry: 3QQK:A:X02:497> <AtomGroup: [<ExtendedAtom: 3QQK/0/A/ASP-86/CG>]> [<Feature=Atom>] [<ExtendedAtom: 3QQK/0/A/ASP-86/CG>]\n",
      "<CompoundEntry: 3QQK:A:X02:497> <AtomGroup: [<ExtendedAtom: 3QQK/0/A/ASP-86/OD2>]> [<Feature=Acceptor>, <Feature=Atom>] [<ExtendedAtom: 3QQK/0/A/ASP-86/OD2>]\n",
      "<CompoundEntry: 3QQK:A:X02:497> <AtomGroup: [<ExtendedAtom: 3QQK/0/A/LEU-134/CG>]> [<Feature=WeakDonor>, <Feature=Atom>] [<ExtendedAtom: 3QQK/0/A/LEU-134/CG>]\n",
      "<CompoundEntry: 3QQK:A:X02:497> <AtomGroup: [<ExtendedAtom: 3QQK/0/A/ILE-10/CG2>, <ExtendedAtom: 3QQK/0/A/ILE-10/CD1>, <ExtendedAtom: 3QQK/0/A/ILE-10/CB>, <ExtendedAtom: 3QQK/0/A/ILE-10/CG1>]> [<Feature=Hydrophobe>] [<ExtendedAtom: 3QQK/0/A/ILE-10/CG2>, <ExtendedAtom: 3QQK/0/A/ILE-10/CD1>, <ExtendedAtom: 3QQK/0/A/ILE-10/CB>, <ExtendedAtom: 3QQK/0/A/ILE-10/CG1>]\n",
      "<CompoundEntry: 3QQK:A:X02:497> <AtomGroup: [<ExtendedAtom: 3QQK/0/A/ALA-144/N>]> [<Feature=Donor>, <Feature=Atom>] [<ExtendedAtom: 3QQK/0/A/ALA-144/N>]\n",
      "<CompoundEntry: 3QQK:A:X02:497> <AtomGroup: [<ExtendedAtom: 3QQK/0/A/HOH-443/O>]> [<Feature=Acceptor>, <Feature=Nucleophile>, <Feature=Donor>, <Feature=Atom>] [<ExtendedAtom: 3QQK/0/A/HOH-443/O>]\n",
      "<CompoundEntry: 3QQK:A:X02:497> <AtomGroup: [<ExtendedAtom: 3QQK/0/A/GLN-85/C>]> [<Feature=Atom>] [<ExtendedAtom: 3QQK/0/A/GLN-85/C>]\n",
      "<CompoundEntry: 3QQK:A:X02:497> <AtomGroup: [<ExtendedAtom: 3QQK/0/A/X02-497/C13>]> [<Feature=Atom>, <Feature=WeakDonor>] [<ExtendedAtom: 3QQK/0/A/X02-497/C13>]\n",
      "<CompoundEntry: 3QQK:A:X02:497> <AtomGroup: [<ExtendedAtom: 3QQK/0/A/PHE-80/C>, <ExtendedAtom: 3QQK/0/A/PHE-80/O>]> [<Feature=Electrophile>, <Feature=Nucleophile>] [<ExtendedAtom: 3QQK/0/A/PHE-80/C>, <ExtendedAtom: 3QQK/0/A/PHE-80/O>]\n",
      "<CompoundEntry: 3QQK:A:X02:497> <AtomGroup: [<ExtendedAtom: 3QQK/0/A/X02-497/C1>]> [<Feature=Atom>, <Feature=WeakDonor>] [<ExtendedAtom: 3QQK/0/A/X02-497/C1>]\n",
      "<CompoundEntry: 3QQK:A:X02:497> <AtomGroup: [<ExtendedAtom: 3QQK/0/A/GLN-85/CG>, <ExtendedAtom: 3QQK/0/A/GLN-85/CB>]> [<Feature=Hydrophobe>] [<ExtendedAtom: 3QQK/0/A/GLN-85/CG>, <ExtendedAtom: 3QQK/0/A/GLN-85/CB>]\n",
      "<CompoundEntry: 3QQK:A:X02:497> <AtomGroup: [<ExtendedAtom: 3QQK/0/A/VAL-30/N>, <ExtendedAtom: 3QQK/0/A/VAL-29/C>, <ExtendedAtom: 3QQK/0/A/VAL-29/O>]> [<Feature=Amide>] [<ExtendedAtom: 3QQK/0/A/VAL-30/N>, <ExtendedAtom: 3QQK/0/A/VAL-29/C>, <ExtendedAtom: 3QQK/0/A/VAL-29/O>]\n",
      "<CompoundEntry: 3QQK:A:X02:497> <AtomGroup: [<ExtendedAtom: 3QQK/0/A/HIS-84/CE1>]> [<Feature=WeakDonor>, <Feature=Atom>] [<ExtendedAtom: 3QQK/0/A/HIS-84/CE1>]\n",
      "<CompoundEntry: 3QQK:A:X02:497> <AtomGroup: [<ExtendedAtom: 3QQK/0/A/GLU-81/OE1>]> [<Feature=Acceptor>, <Feature=Atom>] [<ExtendedAtom: 3QQK/0/A/GLU-81/OE1>]\n",
      "<CompoundEntry: 3QQK:A:X02:497> <AtomGroup: [<ExtendedAtom: 3QQK/0/A/ASN-132/N>, <ExtendedAtom: 3QQK/0/A/GLN-131/C>, <ExtendedAtom: 3QQK/0/A/GLN-131/O>]> [<Feature=Amide>] [<ExtendedAtom: 3QQK/0/A/ASN-132/N>, <ExtendedAtom: 3QQK/0/A/GLN-131/C>, <ExtendedAtom: 3QQK/0/A/GLN-131/O>]\n",
      "<CompoundEntry: 3QQK:A:X02:497> <AtomGroup: [<ExtendedAtom: 3QQK/0/A/HIS-84/N>]> [<Feature=Donor>, <Feature=Atom>] [<ExtendedAtom: 3QQK/0/A/HIS-84/N>]\n",
      "<CompoundEntry: 3QQK:A:X02:497> <AtomGroup: [<ExtendedAtom: 3QQK/0/A/PHE-80/CA>]> [<Feature=WeakDonor>, <Feature=Atom>] [<ExtendedAtom: 3QQK/0/A/PHE-80/CA>]\n",
      "<CompoundEntry: 3QQK:A:X02:497> <AtomGroup: [<ExtendedAtom: 3QQK/0/A/ASP-86/CB>]> [<Feature=Hydrophobe>] [<ExtendedAtom: 3QQK/0/A/ASP-86/CB>]\n",
      "<CompoundEntry: 3QQK:A:X02:497> <AtomGroup: [<ExtendedAtom: 3QQK/0/A/ALA-31/CA>]> [<Feature=WeakDonor>, <Feature=Atom>] [<ExtendedAtom: 3QQK/0/A/ALA-31/CA>]\n",
      "<CompoundEntry: 3QQK:A:X02:497> <AtomGroup: [<ExtendedAtom: 3QQK/0/A/PHE-82/CD2>]> [<Feature=WeakDonor>, <Feature=Atom>] [<ExtendedAtom: 3QQK/0/A/PHE-82/CD2>]\n",
      "<CompoundEntry: 3QQK:A:X02:497> <AtomGroup: [<ExtendedAtom: 3QQK/0/A/ILE-10/CG2>]> [<Feature=WeakDonor>, <Feature=Atom>] [<ExtendedAtom: 3QQK/0/A/ILE-10/CG2>]\n",
      "<CompoundEntry: 3QQK:A:X02:497> <AtomGroup: [<ExtendedAtom: 3QQK/0/A/ASP-145/N>, <ExtendedAtom: 3QQK/0/A/ALA-144/C>, <ExtendedAtom: 3QQK/0/A/ALA-144/O>]> [<Feature=Amide>] [<ExtendedAtom: 3QQK/0/A/ASP-145/N>, <ExtendedAtom: 3QQK/0/A/ALA-144/C>, <ExtendedAtom: 3QQK/0/A/ALA-144/O>]\n",
      "<CompoundEntry: 3QQK:A:X02:497> <AtomGroup: [<ExtendedAtom: 3QQK/0/A/GLN-85/NE2>]> [<Feature=Donor>, <Feature=Atom>] [<ExtendedAtom: 3QQK/0/A/GLN-85/NE2>]\n",
      "<CompoundEntry: 3QQK:A:X02:497> <AtomGroup: [<ExtendedAtom: 3QQK/0/A/LYS-65/CD>]> [<Feature=WeakDonor>, <Feature=Atom>] [<ExtendedAtom: 3QQK/0/A/LYS-65/CD>]\n",
      "<CompoundEntry: 3QQK:A:X02:497> <AtomGroup: [<ExtendedAtom: 3QQK/0/A/LYS-33/CB>]> [<Feature=WeakDonor>, <Feature=Atom>] [<ExtendedAtom: 3QQK/0/A/LYS-33/CB>]\n",
      "<CompoundEntry: 3QQK:A:X02:497> <AtomGroup: [<ExtendedAtom: 3QQK/0/A/LYS-33/CD>]> [<Feature=WeakDonor>, <Feature=Atom>] [<ExtendedAtom: 3QQK/0/A/LYS-33/CD>]\n",
      "<CompoundEntry: 3QQK:A:X02:497> <AtomGroup: [<ExtendedAtom: 3QQK/0/A/VAL-64/CG1>]> [<Feature=WeakDonor>, <Feature=Atom>] [<ExtendedAtom: 3QQK/0/A/VAL-64/CG1>]\n",
      "<CompoundEntry: 3QQK:A:X02:497> <AtomGroup: [<ExtendedAtom: 3QQK/0/A/PHE-82/CD1>]> [<Feature=WeakDonor>, <Feature=Atom>] [<ExtendedAtom: 3QQK/0/A/PHE-82/CD1>]\n",
      "<CompoundEntry: 3QQK:A:X02:497> <AtomGroup: [<ExtendedAtom: 3QQK/0/A/LEU-83/C>]> [<Feature=Atom>] [<ExtendedAtom: 3QQK/0/A/LEU-83/C>]\n",
      "<CompoundEntry: 3QQK:A:X02:497> <AtomGroup: [<ExtendedAtom: 3QQK/0/A/GLY-13/C>, <ExtendedAtom: 3QQK/0/A/GLY-13/O>]> [<Feature=Electrophile>, <Feature=Nucleophile>] [<ExtendedAtom: 3QQK/0/A/GLY-13/C>, <ExtendedAtom: 3QQK/0/A/GLY-13/O>]\n",
      "<CompoundEntry: 3QQK:A:X02:497> <AtomGroup: [<ExtendedAtom: 3QQK/0/A/LEU-83/CA>]> [<Feature=WeakDonor>, <Feature=Atom>] [<ExtendedAtom: 3QQK/0/A/LEU-83/CA>]\n",
      "<CompoundEntry: 3QQK:A:X02:497> <AtomGroup: [<ExtendedAtom: 3QQK/0/A/X02-497/C7>]> [<Feature=Atom>] [<ExtendedAtom: 3QQK/0/A/X02-497/C7>]\n",
      "<CompoundEntry: 3QQK:A:X02:497> <AtomGroup: [<ExtendedAtom: 3QQK/0/A/ASP-145/CG>]> [<Feature=Atom>] [<ExtendedAtom: 3QQK/0/A/ASP-145/CG>]\n",
      "<CompoundEntry: 3QQK:A:X02:497> <AtomGroup: [<ExtendedAtom: 3QQK/0/A/ASP-145/O>]> [<Feature=Acceptor>, <Feature=Atom>] [<ExtendedAtom: 3QQK/0/A/ASP-145/O>]\n",
      "<CompoundEntry: 3QQK:A:X02:497> <AtomGroup: [<ExtendedAtom: 3QQK/0/A/X02-497/C12>, <ExtendedAtom: 3QQK/0/A/X02-497/C13>, <ExtendedAtom: 3QQK/0/A/X02-497/C14>, <ExtendedAtom: 3QQK/0/A/X02-497/C15>, <ExtendedAtom: 3QQK/0/A/X02-497/C16>, <ExtendedAtom: 3QQK/0/A/X02-497/C17>]> [<Feature=Aromatic>] [<ExtendedAtom: 3QQK/0/A/X02-497/C12>, <ExtendedAtom: 3QQK/0/A/X02-497/C13>, <ExtendedAtom: 3QQK/0/A/X02-497/C14>, <ExtendedAtom: 3QQK/0/A/X02-497/C15>, <ExtendedAtom: 3QQK/0/A/X02-497/C16>, <ExtendedAtom: 3QQK/0/A/X02-497/C17>]\n",
      "<CompoundEntry: 3QQK:A:X02:497> <AtomGroup: [<ExtendedAtom: 3QQK/0/A/X02-497/C2>]> [<Feature=Atom>, <Feature=WeakDonor>] [<ExtendedAtom: 3QQK/0/A/X02-497/C2>]\n",
      "<CompoundEntry: 3QQK:A:X02:497> <AtomGroup: [<ExtendedAtom: 3QQK/0/A/LYS-65/CB>, <ExtendedAtom: 3QQK/0/A/LYS-65/CD>, <ExtendedAtom: 3QQK/0/A/LYS-65/CG>]> [<Feature=Hydrophobe>] [<ExtendedAtom: 3QQK/0/A/LYS-65/CB>, <ExtendedAtom: 3QQK/0/A/LYS-65/CD>, <ExtendedAtom: 3QQK/0/A/LYS-65/CG>]\n",
      "<CompoundEntry: 3QQK:A:X02:497> <AtomGroup: [<ExtendedAtom: 3QQK/0/A/VAL-18/O>]> [<Feature=Acceptor>, <Feature=Atom>] [<ExtendedAtom: 3QQK/0/A/VAL-18/O>]\n",
      "<CompoundEntry: 3QQK:A:X02:497> <AtomGroup: [<ExtendedAtom: 3QQK/0/A/LEU-32/N>, <ExtendedAtom: 3QQK/0/A/ALA-31/C>, <ExtendedAtom: 3QQK/0/A/ALA-31/O>]> [<Feature=Amide>] [<ExtendedAtom: 3QQK/0/A/LEU-32/N>, <ExtendedAtom: 3QQK/0/A/ALA-31/C>, <ExtendedAtom: 3QQK/0/A/ALA-31/O>]\n",
      "<CompoundEntry: 3QQK:A:X02:497> <AtomGroup: [<ExtendedAtom: 3QQK/0/A/X02-497/S9>]> [<Feature=ChalcogenDonor>, <Feature=WeakAcceptor>, <Feature=Atom>] [<ExtendedAtom: 3QQK/0/A/X02-497/S9>]\n",
      "<CompoundEntry: 3QQK:A:X02:497> <AtomGroup: [<ExtendedAtom: 3QQK/0/A/VAL-30/CG2>]> [<Feature=WeakDonor>, <Feature=Atom>] [<ExtendedAtom: 3QQK/0/A/VAL-30/CG2>]\n",
      "<CompoundEntry: 3QQK:A:X02:497> <AtomGroup: [<ExtendedAtom: 3QQK/0/A/TYR-19/N>, <ExtendedAtom: 3QQK/0/A/VAL-18/C>, <ExtendedAtom: 3QQK/0/A/VAL-18/O>]> [<Feature=Amide>] [<ExtendedAtom: 3QQK/0/A/TYR-19/N>, <ExtendedAtom: 3QQK/0/A/VAL-18/C>, <ExtendedAtom: 3QQK/0/A/VAL-18/O>]\n",
      "<CompoundEntry: 3QQK:A:X02:497> <AtomGroup: [<ExtendedAtom: 3QQK/0/A/ALA-144/O>]> [<Feature=Acceptor>, <Feature=Atom>] [<ExtendedAtom: 3QQK/0/A/ALA-144/O>]\n",
      "<CompoundEntry: 3QQK:A:X02:497> <AtomGroup: [<ExtendedAtom: 3QQK/0/A/GLU-81/CB>]> [<Feature=WeakDonor>, <Feature=Atom>] [<ExtendedAtom: 3QQK/0/A/GLU-81/CB>]\n",
      "<CompoundEntry: 3QQK:A:X02:497> <AtomGroup: [<ExtendedAtom: 3QQK/0/A/X02-497/C14>]> [<Feature=Atom>, <Feature=WeakDonor>] [<ExtendedAtom: 3QQK/0/A/X02-497/C14>]\n",
      "<CompoundEntry: 3QQK:A:X02:497> <AtomGroup: [<ExtendedAtom: 3QQK/0/A/LYS-65/CE>]> [<Feature=WeakDonor>, <Feature=Atom>] [<ExtendedAtom: 3QQK/0/A/LYS-65/CE>]\n",
      "<CompoundEntry: 3QQK:A:X02:497> <AtomGroup: [<ExtendedAtom: 3QQK/0/A/GLU-81/CD>, <ExtendedAtom: 3QQK/0/A/GLU-81/OE1>, <ExtendedAtom: 3QQK/0/A/GLU-81/OE2>]> [<Feature=NegativelyIonizable>] [<ExtendedAtom: 3QQK/0/A/GLU-81/CD>, <ExtendedAtom: 3QQK/0/A/GLU-81/OE1>, <ExtendedAtom: 3QQK/0/A/GLU-81/OE2>]\n",
      "<CompoundEntry: 3QQK:A:X02:497> <AtomGroup: [<ExtendedAtom: 3QQK/0/A/ASP-145/C>, <ExtendedAtom: 3QQK/0/A/ASP-145/O>]> [<Feature=Electrophile>, <Feature=Nucleophile>] [<ExtendedAtom: 3QQK/0/A/ASP-145/C>, <ExtendedAtom: 3QQK/0/A/ASP-145/O>]\n",
      "<CompoundEntry: 3QQK:A:X02:497> <AtomGroup: [<ExtendedAtom: 3QQK/0/A/PHE-82/CD1>, <ExtendedAtom: 3QQK/0/A/PHE-82/CD2>, <ExtendedAtom: 3QQK/0/A/PHE-82/CE1>, <ExtendedAtom: 3QQK/0/A/PHE-82/CE2>, <ExtendedAtom: 3QQK/0/A/PHE-82/CG>, <ExtendedAtom: 3QQK/0/A/PHE-82/CZ>]> [<Feature=Aromatic>] [<ExtendedAtom: 3QQK/0/A/PHE-82/CD1>, <ExtendedAtom: 3QQK/0/A/PHE-82/CD2>, <ExtendedAtom: 3QQK/0/A/PHE-82/CE1>, <ExtendedAtom: 3QQK/0/A/PHE-82/CE2>, <ExtendedAtom: 3QQK/0/A/PHE-82/CG>, <ExtendedAtom: 3QQK/0/A/PHE-82/CZ>]\n",
      "<CompoundEntry: 3QQK:A:X02:497> <AtomGroup: [<ExtendedAtom: 3QQK/0/A/GLU-81/CD>]> [<Feature=Atom>] [<ExtendedAtom: 3QQK/0/A/GLU-81/CD>]\n",
      "<CompoundEntry: 3QQK:A:X02:497> <AtomGroup: [<ExtendedAtom: 3QQK/0/A/GLN-131/N>, <ExtendedAtom: 3QQK/0/A/PRO-130/C>, <ExtendedAtom: 3QQK/0/A/PRO-130/O>]> [<Feature=Amide>] [<ExtendedAtom: 3QQK/0/A/GLN-131/N>, <ExtendedAtom: 3QQK/0/A/PRO-130/C>, <ExtendedAtom: 3QQK/0/A/PRO-130/O>]\n",
      "<CompoundEntry: 3QQK:A:X02:497> <AtomGroup: [<ExtendedAtom: 3QQK/0/A/GLN-85/CD>, <ExtendedAtom: 3QQK/0/A/GLN-85/OE1>]> [<Feature=Electrophile>, <Feature=Nucleophile>] [<ExtendedAtom: 3QQK/0/A/GLN-85/CD>, <ExtendedAtom: 3QQK/0/A/GLN-85/OE1>]\n",
      "<CompoundEntry: 3QQK:A:X02:497> <AtomGroup: [<ExtendedAtom: 3QQK/0/A/GLU-81/N>]> [<Feature=Donor>, <Feature=Atom>] [<ExtendedAtom: 3QQK/0/A/GLU-81/N>]\n",
      "<CompoundEntry: 3QQK:A:X02:497> <AtomGroup: [<ExtendedAtom: 3QQK/0/A/X02-497/C2>, <ExtendedAtom: 3QQK/0/A/X02-497/C1>]> [<Feature=Hydrophobe>] [<ExtendedAtom: 3QQK/0/A/X02-497/C2>, <ExtendedAtom: 3QQK/0/A/X02-497/C1>]\n",
      "<CompoundEntry: 3QQK:A:X02:497> <AtomGroup: [<ExtendedAtom: 3QQK/0/A/ASN-132/OD1>]> [<Feature=Acceptor>, <Feature=Atom>] [<ExtendedAtom: 3QQK/0/A/ASN-132/OD1>]\n",
      "<CompoundEntry: 3QQK:A:X02:497> <AtomGroup: [<ExtendedAtom: 3QQK/0/A/VAL-18/CA>]> [<Feature=WeakDonor>, <Feature=Atom>] [<ExtendedAtom: 3QQK/0/A/VAL-18/CA>]\n",
      "<CompoundEntry: 3QQK:A:X02:497> <AtomGroup: [<ExtendedAtom: 3QQK/0/A/LYS-65/O>]> [<Feature=Acceptor>, <Feature=Atom>] [<ExtendedAtom: 3QQK/0/A/LYS-65/O>]\n",
      "<CompoundEntry: 3QQK:A:X02:497> <AtomGroup: [<ExtendedAtom: 3QQK/0/A/ILE-10/C>, <ExtendedAtom: 3QQK/0/A/ILE-10/O>]> [<Feature=Electrophile>, <Feature=Nucleophile>] [<ExtendedAtom: 3QQK/0/A/ILE-10/C>, <ExtendedAtom: 3QQK/0/A/ILE-10/O>]\n",
      "<CompoundEntry: 3QQK:A:X02:497> <AtomGroup: [<ExtendedAtom: 3QQK/0/A/ASP-86/C>, <ExtendedAtom: 3QQK/0/A/ASP-86/O>]> [<Feature=Electrophile>, <Feature=Nucleophile>] [<ExtendedAtom: 3QQK/0/A/ASP-86/C>, <ExtendedAtom: 3QQK/0/A/ASP-86/O>]\n",
      "<CompoundEntry: 3QQK:A:X02:497> <AtomGroup: [<ExtendedAtom: 3QQK/0/A/GLN-131/O>]> [<Feature=Acceptor>, <Feature=Atom>] [<ExtendedAtom: 3QQK/0/A/GLN-131/O>]\n",
      "<CompoundEntry: 3QQK:A:X02:497> <AtomGroup: [<ExtendedAtom: 3QQK/0/A/ALA-144/CB>]> [<Feature=Hydrophobe>] [<ExtendedAtom: 3QQK/0/A/ALA-144/CB>]\n",
      "<CompoundEntry: 3QQK:A:X02:497> <AtomGroup: [<ExtendedAtom: 3QQK/0/A/LYS-33/O>]> [<Feature=Acceptor>, <Feature=Atom>] [<ExtendedAtom: 3QQK/0/A/LYS-33/O>]\n",
      "<CompoundEntry: 3QQK:A:X02:497> <AtomGroup: [<ExtendedAtom: 3QQK/0/A/GLN-85/O>]> [<Feature=Acceptor>, <Feature=Atom>] [<ExtendedAtom: 3QQK/0/A/GLN-85/O>]\n",
      "<CompoundEntry: 3QQK:A:X02:497> <AtomGroup: [<ExtendedAtom: 3QQK/0/A/THR-14/O>]> [<Feature=Acceptor>, <Feature=Atom>] [<ExtendedAtom: 3QQK/0/A/THR-14/O>]\n",
      "<CompoundEntry: 3QQK:A:X02:497> <AtomGroup: [<ExtendedAtom: 3QQK/0/A/VAL-64/C>]> [<Feature=Atom>] [<ExtendedAtom: 3QQK/0/A/VAL-64/C>]\n",
      "<CompoundEntry: 3QQK:A:X02:497> <AtomGroup: [<ExtendedAtom: 3QQK/0/A/ASP-145/CG>, <ExtendedAtom: 3QQK/0/A/ASP-145/OD1>, <ExtendedAtom: 3QQK/0/A/ASP-145/OD2>]> [<Feature=NegativelyIonizable>] [<ExtendedAtom: 3QQK/0/A/ASP-145/CG>, <ExtendedAtom: 3QQK/0/A/ASP-145/OD1>, <ExtendedAtom: 3QQK/0/A/ASP-145/OD2>]\n",
      "<CompoundEntry: 3QQK:A:X02:497> <AtomGroup: [<ExtendedAtom: 3QQK/0/A/LYS-33/C>, <ExtendedAtom: 3QQK/0/A/LYS-33/O>]> [<Feature=Electrophile>, <Feature=Nucleophile>] [<ExtendedAtom: 3QQK/0/A/LYS-33/C>, <ExtendedAtom: 3QQK/0/A/LYS-33/O>]\n",
      "<CompoundEntry: 3QQK:A:X02:497> <AtomGroup: [<ExtendedAtom: 3QQK/0/A/GLN-131/CD>, <ExtendedAtom: 3QQK/0/A/GLN-131/NE2>, <ExtendedAtom: 3QQK/0/A/GLN-131/OE1>]> [<Feature=Amide>] [<ExtendedAtom: 3QQK/0/A/GLN-131/CD>, <ExtendedAtom: 3QQK/0/A/GLN-131/NE2>, <ExtendedAtom: 3QQK/0/A/GLN-131/OE1>]\n",
      "<CompoundEntry: 3QQK:A:X02:497> <AtomGroup: [<ExtendedAtom: 3QQK/0/A/ASN-132/CG>]> [<Feature=Atom>] [<ExtendedAtom: 3QQK/0/A/ASN-132/CG>]\n",
      "<CompoundEntry: 3QQK:A:X02:497> <AtomGroup: [<ExtendedAtom: 3QQK/0/A/HIS-84/CD2>]> [<Feature=WeakDonor>, <Feature=Atom>] [<ExtendedAtom: 3QQK/0/A/HIS-84/CD2>]\n",
      "<CompoundEntry: 3QQK:A:X02:497> <AtomGroup: [<ExtendedAtom: 3QQK/0/A/LEU-83/C>, <ExtendedAtom: 3QQK/0/A/LEU-83/O>]> [<Feature=Electrophile>, <Feature=Nucleophile>] [<ExtendedAtom: 3QQK/0/A/LEU-83/C>, <ExtendedAtom: 3QQK/0/A/LEU-83/O>]\n",
      "<CompoundEntry: 3QQK:A:X02:497> <AtomGroup: [<ExtendedAtom: 3QQK/0/A/LYS-65/C>]> [<Feature=Atom>] [<ExtendedAtom: 3QQK/0/A/LYS-65/C>]\n",
      "<CompoundEntry: 3QQK:A:X02:497> <AtomGroup: [<ExtendedAtom: 3QQK/0/A/VAL-18/C>]> [<Feature=Atom>] [<ExtendedAtom: 3QQK/0/A/VAL-18/C>]\n",
      "<CompoundEntry: 3QQK:A:X02:497> <AtomGroup: [<ExtendedAtom: 3QQK/0/A/ASN-132/C>, <ExtendedAtom: 3QQK/0/A/ASN-132/O>]> [<Feature=Electrophile>, <Feature=Nucleophile>] [<ExtendedAtom: 3QQK/0/A/ASN-132/C>, <ExtendedAtom: 3QQK/0/A/ASN-132/O>]\n",
      "<CompoundEntry: 3QQK:A:X02:497> <AtomGroup: [<ExtendedAtom: 3QQK/0/A/PHE-82/CZ>]> [<Feature=WeakDonor>, <Feature=Atom>] [<ExtendedAtom: 3QQK/0/A/PHE-82/CZ>]\n",
      "<CompoundEntry: 3QQK:A:X02:497> <AtomGroup: [<ExtendedAtom: 3QQK/0/A/PHE-82/C>, <ExtendedAtom: 3QQK/0/A/PHE-82/O>]> [<Feature=Electrophile>, <Feature=Nucleophile>] [<ExtendedAtom: 3QQK/0/A/PHE-82/C>, <ExtendedAtom: 3QQK/0/A/PHE-82/O>]\n",
      "<CompoundEntry: 3QQK:A:X02:497> <AtomGroup: [<ExtendedAtom: 3QQK/0/A/VAL-18/C>, <ExtendedAtom: 3QQK/0/A/VAL-18/O>]> [<Feature=Electrophile>, <Feature=Nucleophile>] [<ExtendedAtom: 3QQK/0/A/VAL-18/C>, <ExtendedAtom: 3QQK/0/A/VAL-18/O>]\n",
      "<CompoundEntry: 3QQK:A:X02:497> <AtomGroup: [<ExtendedAtom: 3QQK/0/A/HIS-84/NE2>]> [<Feature=Acceptor>, <Feature=Donor>, <Feature=Atom>] [<ExtendedAtom: 3QQK/0/A/HIS-84/NE2>]\n",
      "<CompoundEntry: 3QQK:A:X02:497> <AtomGroup: [<ExtendedAtom: 3QQK/0/A/HIS-84/CB>]> [<Feature=WeakDonor>, <Feature=Atom>] [<ExtendedAtom: 3QQK/0/A/HIS-84/CB>]\n",
      "<CompoundEntry: 3QQK:A:X02:497> <AtomGroup: [<ExtendedAtom: 3QQK/0/A/LEU-83/N>]> [<Feature=Donor>, <Feature=Atom>] [<ExtendedAtom: 3QQK/0/A/LEU-83/N>]\n",
      "<CompoundEntry: 3QQK:A:X02:497> <AtomGroup: [<ExtendedAtom: 3QQK/0/A/ASP-145/CB>]> [<Feature=Hydrophobe>] [<ExtendedAtom: 3QQK/0/A/ASP-145/CB>]\n",
      "<CompoundEntry: 3QQK:A:X02:497> <AtomGroup: [<ExtendedAtom: 3QQK/0/A/ASN-132/CA>]> [<Feature=WeakDonor>, <Feature=Atom>] [<ExtendedAtom: 3QQK/0/A/ASN-132/CA>]\n",
      "<CompoundEntry: 3QQK:A:X02:497> <AtomGroup: [<ExtendedAtom: 3QQK/0/A/ILE-10/N>, <ExtendedAtom: 3QQK/0/A/LYS-9/C>, <ExtendedAtom: 3QQK/0/A/LYS-9/O>]> [<Feature=Amide>] [<ExtendedAtom: 3QQK/0/A/ILE-10/N>, <ExtendedAtom: 3QQK/0/A/LYS-9/C>, <ExtendedAtom: 3QQK/0/A/LYS-9/O>]\n",
      "<CompoundEntry: 3QQK:A:X02:497> <AtomGroup: [<ExtendedAtom: 3QQK/0/A/LEU-83/CG>]> [<Feature=WeakDonor>, <Feature=Atom>] [<ExtendedAtom: 3QQK/0/A/LEU-83/CG>]\n",
      "<CompoundEntry: 3QQK:A:X02:497> <AtomGroup: [<ExtendedAtom: 3QQK/0/A/ASN-132/CB>]> [<Feature=Hydrophobe>] [<ExtendedAtom: 3QQK/0/A/ASN-132/CB>]\n",
      "<CompoundEntry: 3QQK:A:X02:497> <AtomGroup: [<ExtendedAtom: 3QQK/0/A/ILE-135/N>, <ExtendedAtom: 3QQK/0/A/LEU-134/C>, <ExtendedAtom: 3QQK/0/A/LEU-134/O>]> [<Feature=Amide>] [<ExtendedAtom: 3QQK/0/A/ILE-135/N>, <ExtendedAtom: 3QQK/0/A/LEU-134/C>, <ExtendedAtom: 3QQK/0/A/LEU-134/O>]\n",
      "<CompoundEntry: 3QQK:A:X02:497> <AtomGroup: [<ExtendedAtom: 3QQK/0/A/VAL-30/C>]> [<Feature=Atom>] [<ExtendedAtom: 3QQK/0/A/VAL-30/C>]\n",
      "<CompoundEntry: 3QQK:A:X02:497> <AtomGroup: [<ExtendedAtom: 3QQK/0/A/PHE-80/N>]> [<Feature=Donor>, <Feature=Atom>] [<ExtendedAtom: 3QQK/0/A/PHE-80/N>]\n",
      "<CompoundEntry: 3QQK:A:X02:497> <AtomGroup: [<ExtendedAtom: 3QQK/0/A/ASN-132/O>]> [<Feature=Acceptor>, <Feature=Atom>] [<ExtendedAtom: 3QQK/0/A/ASN-132/O>]\n",
      "<CompoundEntry: 3QQK:A:X02:497> <AtomGroup: [<ExtendedAtom: 3QQK/0/A/GLN-85/CD>]> [<Feature=Atom>] [<ExtendedAtom: 3QQK/0/A/GLN-85/CD>]\n",
      "<CompoundEntry: 3QQK:A:X02:497> <AtomGroup: [<ExtendedAtom: 3QQK/0/A/LYS-33/CA>]> [<Feature=WeakDonor>, <Feature=Atom>] [<ExtendedAtom: 3QQK/0/A/LYS-33/CA>]\n",
      "<CompoundEntry: 3QQK:A:X02:497> <AtomGroup: [<ExtendedAtom: 3QQK/0/A/VAL-30/CG1>]> [<Feature=WeakDonor>, <Feature=Atom>] [<ExtendedAtom: 3QQK/0/A/VAL-30/CG1>]\n",
      "<CompoundEntry: 3QQK:A:X02:497> <AtomGroup: [<ExtendedAtom: 3QQK/0/A/THR-14/C>]> [<Feature=Atom>] [<ExtendedAtom: 3QQK/0/A/THR-14/C>]\n",
      "<CompoundEntry: 3QQK:A:X02:497> <AtomGroup: [<ExtendedAtom: 3QQK/0/A/THR-14/CG2>]> [<Feature=WeakDonor>, <Feature=Atom>] [<ExtendedAtom: 3QQK/0/A/THR-14/CG2>]\n",
      "<CompoundEntry: 3QQK:A:X02:497> <AtomGroup: [<ExtendedAtom: 3QQK/0/A/VAL-30/O>]> [<Feature=Acceptor>, <Feature=Atom>] [<ExtendedAtom: 3QQK/0/A/VAL-30/O>]\n",
      "<CompoundEntry: 3QQK:A:X02:497> <AtomGroup: [<ExtendedAtom: 3QQK/0/A/THR-14/N>, <ExtendedAtom: 3QQK/0/A/GLY-13/C>, <ExtendedAtom: 3QQK/0/A/GLY-13/O>]> [<Feature=Amide>] [<ExtendedAtom: 3QQK/0/A/THR-14/N>, <ExtendedAtom: 3QQK/0/A/GLY-13/C>, <ExtendedAtom: 3QQK/0/A/GLY-13/O>]\n",
      "<CompoundEntry: 3QQK:A:X02:497> <AtomGroup: [<ExtendedAtom: 3QQK/0/A/VAL-64/CA>]> [<Feature=WeakDonor>, <Feature=Atom>] [<ExtendedAtom: 3QQK/0/A/VAL-64/CA>]\n",
      "<CompoundEntry: 3QQK:A:X02:497> <AtomGroup: [<ExtendedAtom: 3QQK/0/A/ILE-10/CA>]> [<Feature=WeakDonor>, <Feature=Atom>] [<ExtendedAtom: 3QQK/0/A/ILE-10/CA>]\n",
      "<CompoundEntry: 3QQK:A:X02:497> <AtomGroup: [<ExtendedAtom: 3QQK/0/A/ASP-86/CA>]> [<Feature=WeakDonor>, <Feature=Atom>] [<ExtendedAtom: 3QQK/0/A/ASP-86/CA>]\n",
      "<CompoundEntry: 3QQK:A:X02:497> <AtomGroup: [<ExtendedAtom: 3QQK/0/A/VAL-18/CB>, <ExtendedAtom: 3QQK/0/A/VAL-18/CG2>, <ExtendedAtom: 3QQK/0/A/VAL-18/CG1>]> [<Feature=Hydrophobe>] [<ExtendedAtom: 3QQK/0/A/VAL-18/CB>, <ExtendedAtom: 3QQK/0/A/VAL-18/CG2>, <ExtendedAtom: 3QQK/0/A/VAL-18/CG1>]\n",
      "<CompoundEntry: 3QQK:A:X02:497> <AtomGroup: [<ExtendedAtom: 3QQK/0/A/X02-497/C8>]> [<Feature=Atom>] [<ExtendedAtom: 3QQK/0/A/X02-497/C8>]\n",
      "<CompoundEntry: 3QQK:A:X02:497> <AtomGroup: [<ExtendedAtom: 3QQK/0/A/LEU-83/CG>, <ExtendedAtom: 3QQK/0/A/LEU-83/CB>, <ExtendedAtom: 3QQK/0/A/LEU-83/CD2>, <ExtendedAtom: 3QQK/0/A/LEU-83/CD1>]> [<Feature=Hydrophobe>] [<ExtendedAtom: 3QQK/0/A/LEU-83/CG>, <ExtendedAtom: 3QQK/0/A/LEU-83/CB>, <ExtendedAtom: 3QQK/0/A/LEU-83/CD2>, <ExtendedAtom: 3QQK/0/A/LEU-83/CD1>]\n",
      "<CompoundEntry: 3QQK:A:X02:497> <AtomGroup: [<ExtendedAtom: 3QQK/0/A/GLY-13/N>]> [<Feature=Donor>, <Feature=Atom>] [<ExtendedAtom: 3QQK/0/A/GLY-13/N>]\n",
      "<CompoundEntry: 3QQK:A:X02:497> <AtomGroup: [<ExtendedAtom: 3QQK/0/A/GLY-13/N>, <ExtendedAtom: 3QQK/0/A/GLU-12/C>, <ExtendedAtom: 3QQK/0/A/GLU-12/O>]> [<Feature=Amide>] [<ExtendedAtom: 3QQK/0/A/GLY-13/N>, <ExtendedAtom: 3QQK/0/A/GLU-12/C>, <ExtendedAtom: 3QQK/0/A/GLU-12/O>]\n",
      "<CompoundEntry: 3QQK:A:X02:497> <AtomGroup: [<ExtendedAtom: 3QQK/0/A/HIS-84/O>]> [<Feature=Acceptor>, <Feature=Atom>] [<ExtendedAtom: 3QQK/0/A/HIS-84/O>]\n",
      "<CompoundEntry: 3QQK:A:X02:497> <AtomGroup: [<ExtendedAtom: 3QQK/0/A/PHE-80/CD2>]> [<Feature=WeakDonor>, <Feature=Atom>] [<ExtendedAtom: 3QQK/0/A/PHE-80/CD2>]\n",
      "<CompoundEntry: 3QQK:A:X02:497> <AtomGroup: [<ExtendedAtom: 3QQK/0/A/HIS-84/CA>]> [<Feature=WeakDonor>, <Feature=Atom>] [<ExtendedAtom: 3QQK/0/A/HIS-84/CA>]\n",
      "<CompoundEntry: 3QQK:A:X02:497> <AtomGroup: [<ExtendedAtom: 3QQK/0/A/VAL-30/N>]> [<Feature=Donor>, <Feature=Atom>] [<ExtendedAtom: 3QQK/0/A/VAL-30/N>]\n",
      "<CompoundEntry: 3QQK:A:X02:497> <AtomGroup: [<ExtendedAtom: 3QQK/0/A/LEU-87/N>, <ExtendedAtom: 3QQK/0/A/ASP-86/C>, <ExtendedAtom: 3QQK/0/A/ASP-86/O>]> [<Feature=Amide>] [<ExtendedAtom: 3QQK/0/A/LEU-87/N>, <ExtendedAtom: 3QQK/0/A/ASP-86/C>, <ExtendedAtom: 3QQK/0/A/ASP-86/O>]\n",
      "<CompoundEntry: 3QQK:A:X02:497> <AtomGroup: [<ExtendedAtom: 3QQK/0/A/LEU-134/CA>]> [<Feature=WeakDonor>, <Feature=Atom>] [<ExtendedAtom: 3QQK/0/A/LEU-134/CA>]\n",
      "<CompoundEntry: 3QQK:A:X02:497> <AtomGroup: [<ExtendedAtom: 3QQK/0/A/THR-14/N>]> [<Feature=Donor>, <Feature=Atom>] [<ExtendedAtom: 3QQK/0/A/THR-14/N>]\n",
      "<CompoundEntry: 3QQK:A:X02:497> <AtomGroup: [<ExtendedAtom: 3QQK/0/A/VAL-64/CG2>]> [<Feature=WeakDonor>, <Feature=Atom>] [<ExtendedAtom: 3QQK/0/A/VAL-64/CG2>]\n",
      "<CompoundEntry: 3QQK:A:X02:497> <AtomGroup: [<ExtendedAtom: 3QQK/0/A/GLU-81/O>]> [<Feature=Acceptor>, <Feature=Atom>] [<ExtendedAtom: 3QQK/0/A/GLU-81/O>]\n",
      "<CompoundEntry: 3QQK:A:X02:497> <AtomGroup: [<ExtendedAtom: 3QQK/0/A/ALA-144/CA>]> [<Feature=WeakDonor>, <Feature=Atom>] [<ExtendedAtom: 3QQK/0/A/ALA-144/CA>]\n",
      "<CompoundEntry: 3QQK:A:X02:497> <AtomGroup: [<ExtendedAtom: 3QQK/0/A/PHE-82/CG>]> [<Feature=Atom>] [<ExtendedAtom: 3QQK/0/A/PHE-82/CG>]\n",
      "<CompoundEntry: 3QQK:A:X02:497> <AtomGroup: [<ExtendedAtom: 3QQK/0/A/ASP-86/CB>]> [<Feature=WeakDonor>, <Feature=Atom>] [<ExtendedAtom: 3QQK/0/A/ASP-86/CB>]\n",
      "<CompoundEntry: 3QQK:A:X02:497> <AtomGroup: [<ExtendedAtom: 3QQK/0/A/GLN-131/OE1>]> [<Feature=Acceptor>, <Feature=Atom>] [<ExtendedAtom: 3QQK/0/A/GLN-131/OE1>]\n",
      "<CompoundEntry: 3QQK:A:X02:497> <AtomGroup: [<ExtendedAtom: 3QQK/0/A/X02-497/C11>]> [<Feature=Atom>] [<ExtendedAtom: 3QQK/0/A/X02-497/C11>]\n",
      "<CompoundEntry: 3QQK:A:X02:497> <AtomGroup: [<ExtendedAtom: 3QQK/0/A/ILE-10/CB>]> [<Feature=WeakDonor>, <Feature=Atom>] [<ExtendedAtom: 3QQK/0/A/ILE-10/CB>]\n",
      "<CompoundEntry: 3QQK:A:X02:497> <AtomGroup: [<ExtendedAtom: 3QQK/0/A/X02-497/C11>, <ExtendedAtom: 3QQK/0/A/X02-497/O18>]> [<Feature=Electrophile>, <Feature=Nucleophile>] [<ExtendedAtom: 3QQK/0/A/X02-497/C11>, <ExtendedAtom: 3QQK/0/A/X02-497/O18>]\n",
      "<CompoundEntry: 3QQK:A:X02:497> <AtomGroup: [<ExtendedAtom: 3QQK/0/A/THR-14/C>, <ExtendedAtom: 3QQK/0/A/THR-14/O>]> [<Feature=Electrophile>, <Feature=Nucleophile>] [<ExtendedAtom: 3QQK/0/A/THR-14/C>, <ExtendedAtom: 3QQK/0/A/THR-14/O>]\n",
      "<CompoundEntry: 3QQK:A:X02:497> <AtomGroup: [<ExtendedAtom: 3QQK/0/A/ALA-31/N>]> [<Feature=Donor>, <Feature=Atom>] [<ExtendedAtom: 3QQK/0/A/ALA-31/N>]\n",
      "<CompoundEntry: 3QQK:A:X02:497> <AtomGroup: [<ExtendedAtom: 3QQK/0/A/HIS-84/C>, <ExtendedAtom: 3QQK/0/A/HIS-84/O>]> [<Feature=Electrophile>, <Feature=Nucleophile>] [<ExtendedAtom: 3QQK/0/A/HIS-84/C>, <ExtendedAtom: 3QQK/0/A/HIS-84/O>]\n",
      "<CompoundEntry: 3QQK:A:X02:497> <AtomGroup: [<ExtendedAtom: 3QQK/0/A/LEU-134/C>, <ExtendedAtom: 3QQK/0/A/LEU-134/O>]> [<Feature=Electrophile>, <Feature=Nucleophile>] [<ExtendedAtom: 3QQK/0/A/LEU-134/C>, <ExtendedAtom: 3QQK/0/A/LEU-134/O>]\n",
      "<CompoundEntry: 3QQK:A:X02:497> <AtomGroup: [<ExtendedAtom: 3QQK/0/A/ASN-132/CG>, <ExtendedAtom: 3QQK/0/A/ASN-132/ND2>, <ExtendedAtom: 3QQK/0/A/ASN-132/OD1>]> [<Feature=Amide>] [<ExtendedAtom: 3QQK/0/A/ASN-132/CG>, <ExtendedAtom: 3QQK/0/A/ASN-132/ND2>, <ExtendedAtom: 3QQK/0/A/ASN-132/OD1>]\n",
      "<CompoundEntry: 3QQK:A:X02:497> <AtomGroup: [<ExtendedAtom: 3QQK/0/A/VAL-64/CB>, <ExtendedAtom: 3QQK/0/A/VAL-64/CG2>, <ExtendedAtom: 3QQK/0/A/VAL-64/CG1>]> [<Feature=Hydrophobe>] [<ExtendedAtom: 3QQK/0/A/VAL-64/CB>, <ExtendedAtom: 3QQK/0/A/VAL-64/CG2>, <ExtendedAtom: 3QQK/0/A/VAL-64/CG1>]\n",
      "<CompoundEntry: 3QQK:A:X02:497> <AtomGroup: [<ExtendedAtom: 3QQK/0/A/GLN-131/CA>]> [<Feature=WeakDonor>, <Feature=Atom>] [<ExtendedAtom: 3QQK/0/A/GLN-131/CA>]\n",
      "<CompoundEntry: 3QQK:A:X02:497> <AtomGroup: [<ExtendedAtom: 3QQK/0/A/PHE-82/N>]> [<Feature=Donor>, <Feature=Atom>] [<ExtendedAtom: 3QQK/0/A/PHE-82/N>]\n",
      "<CompoundEntry: 3QQK:A:X02:497> <AtomGroup: [<ExtendedAtom: 3QQK/0/A/THR-14/CB>]> [<Feature=WeakDonor>, <Feature=Atom>] [<ExtendedAtom: 3QQK/0/A/THR-14/CB>]\n",
      "<CompoundEntry: 3QQK:A:X02:497> <AtomGroup: [<ExtendedAtom: 3QQK/0/A/LEU-134/O>]> [<Feature=Acceptor>, <Feature=Atom>] [<ExtendedAtom: 3QQK/0/A/LEU-134/O>]\n",
      "<CompoundEntry: 3QQK:A:X02:497> <AtomGroup: [<ExtendedAtom: 3QQK/0/A/ASP-86/CG>, <ExtendedAtom: 3QQK/0/A/ASP-86/OD1>, <ExtendedAtom: 3QQK/0/A/ASP-86/OD2>]> [<Feature=NegativelyIonizable>] [<ExtendedAtom: 3QQK/0/A/ASP-86/CG>, <ExtendedAtom: 3QQK/0/A/ASP-86/OD1>, <ExtendedAtom: 3QQK/0/A/ASP-86/OD2>]\n",
      "<CompoundEntry: 3QQK:A:X02:497> <AtomGroup: [<ExtendedAtom: 3QQK/0/A/HOH-368/O>]> [<Feature=Acceptor>, <Feature=Nucleophile>, <Feature=Donor>, <Feature=Atom>] [<ExtendedAtom: 3QQK/0/A/HOH-368/O>]\n",
      "<CompoundEntry: 3QQK:A:X02:497> <AtomGroup: [<ExtendedAtom: 3QQK/0/A/ALA-144/C>]> [<Feature=Atom>] [<ExtendedAtom: 3QQK/0/A/ALA-144/C>]\n",
      "<CompoundEntry: 3QQK:A:X02:497> <AtomGroup: [<ExtendedAtom: 3QQK/0/A/THR-14/CA>]> [<Feature=WeakDonor>, <Feature=Atom>] [<ExtendedAtom: 3QQK/0/A/THR-14/CA>]\n",
      "<CompoundEntry: 3QQK:A:X02:497> <AtomGroup: [<ExtendedAtom: 3QQK/0/A/ASP-145/CA>]> [<Feature=WeakDonor>, <Feature=Atom>] [<ExtendedAtom: 3QQK/0/A/ASP-145/CA>]\n",
      "<CompoundEntry: 3QQK:A:X02:497> <AtomGroup: [<ExtendedAtom: 3QQK/0/A/PHE-80/CB>]> [<Feature=WeakDonor>, <Feature=Atom>] [<ExtendedAtom: 3QQK/0/A/PHE-80/CB>]\n",
      "<CompoundEntry: 3QQK:A:X02:497> <AtomGroup: [<ExtendedAtom: 3QQK/0/A/PHE-82/CB>]> [<Feature=WeakDonor>, <Feature=Atom>] [<ExtendedAtom: 3QQK/0/A/PHE-82/CB>]\n",
      "<CompoundEntry: 3QQK:A:X02:497> <AtomGroup: [<ExtendedAtom: 3QQK/0/A/HOH-418/O>]> [<Feature=Acceptor>, <Feature=Nucleophile>, <Feature=Donor>, <Feature=Atom>] [<ExtendedAtom: 3QQK/0/A/HOH-418/O>]\n",
      "<CompoundEntry: 3QQK:A:X02:497> <AtomGroup: [<ExtendedAtom: 3QQK/0/A/PHE-80/CD1>, <ExtendedAtom: 3QQK/0/A/PHE-80/CD2>, <ExtendedAtom: 3QQK/0/A/PHE-80/CE1>, <ExtendedAtom: 3QQK/0/A/PHE-80/CE2>, <ExtendedAtom: 3QQK/0/A/PHE-80/CG>, <ExtendedAtom: 3QQK/0/A/PHE-80/CZ>]> [<Feature=Aromatic>] [<ExtendedAtom: 3QQK/0/A/PHE-80/CD1>, <ExtendedAtom: 3QQK/0/A/PHE-80/CD2>, <ExtendedAtom: 3QQK/0/A/PHE-80/CE1>, <ExtendedAtom: 3QQK/0/A/PHE-80/CE2>, <ExtendedAtom: 3QQK/0/A/PHE-80/CG>, <ExtendedAtom: 3QQK/0/A/PHE-80/CZ>]\n"
     ]
    }
   ],
   "source": [
    "for entry, atm_grp_mngr in proj_obj.neighborhoods:\n",
    "    for atm_grp in atm_grp_mngr.atm_grps:\n",
    "        print(entry, atm_grp, atm_grp.features, atm_grp.atoms)"
   ]
  },
  {
   "cell_type": "markdown",
   "metadata": {},
   "source": [
    "## Interaction analysis"
   ]
  },
  {
   "cell_type": "markdown",
   "metadata": {},
   "source": [
    "- To analyze the interactions present in each binding site obtained departing from the entry objects, you can use the property **`interactions`**, which can be accessed through a project object.\n",
    "\n",
    "> This property stores a list of tuples, in which each tuple contains the entry information and an interaction manager."
   ]
  },
  {
   "cell_type": "code",
   "execution_count": 19,
   "metadata": {
    "ExecuteTime": {
     "end_time": "2019-07-16T00:41:46.576898Z",
     "start_time": "2019-07-16T00:41:46.570878Z"
    },
    "scrolled": true
   },
   "outputs": [
    {
     "data": {
      "text/plain": [
       "['__class__',\n",
       " '__delattr__',\n",
       " '__dict__',\n",
       " '__dir__',\n",
       " '__doc__',\n",
       " '__eq__',\n",
       " '__format__',\n",
       " '__ge__',\n",
       " '__getattribute__',\n",
       " '__gt__',\n",
       " '__hash__',\n",
       " '__init__',\n",
       " '__init_subclass__',\n",
       " '__le__',\n",
       " '__len__',\n",
       " '__lt__',\n",
       " '__module__',\n",
       " '__ne__',\n",
       " '__new__',\n",
       " '__reduce__',\n",
       " '__reduce_ex__',\n",
       " '__repr__',\n",
       " '__setattr__',\n",
       " '__sizeof__',\n",
       " '__str__',\n",
       " '__subclasshook__',\n",
       " '__weakref__',\n",
       " '_interactions',\n",
       " 'add_interactions',\n",
       " 'filter_by_types',\n",
       " 'find',\n",
       " 'interactions',\n",
       " 'remove_interactions',\n",
       " 'size',\n",
       " 'summary']"
      ]
     },
     "execution_count": 19,
     "metadata": {},
     "output_type": "execute_result"
    }
   ],
   "source": [
    "# Access the interaction manager in the first tuple in the interactions property.\n",
    "dir(proj_obj.interactions[0][1])"
   ]
  },
  {
   "cell_type": "markdown",
   "metadata": {},
   "source": [
    "### Loop through a list of atom groups"
   ]
  },
  {
   "cell_type": "code",
   "execution_count": 21,
   "metadata": {
    "ExecuteTime": {
     "end_time": "2019-07-16T00:41:48.848963Z",
     "start_time": "2019-07-16T00:41:48.821141Z"
    }
   },
   "outputs": [
    {
     "name": "stdout",
     "output_type": "stream",
     "text": [
      "<InteractionType: compounds=(<AtomGroup: [<ExtendedAtom: 3QQK/0/A/GLN-85/CA>]>, <AtomGroup: [<ExtendedAtom: 3QQK/0/A/HOH-344/O>]>) type=Weak hydrogen bond>\n",
      "<InteractionType: compounds=(<AtomGroup: [<ExtendedAtom: 3QQK/0/A/LEU-134/CD2>, <ExtendedAtom: 3QQK/0/A/LEU-134/CD1>, <ExtendedAtom: 3QQK/0/A/LEU-134/CG>, <ExtendedAtom: 3QQK/0/A/LEU-134/CB>]>, <AtomGroup: [<ExtendedAtom: 3QQK/0/A/X02-497/S9>, <ExtendedAtom: 3QQK/0/A/X02-497/C8>]>) type=Hydrophobic>\n",
      "<InteractionType: compounds=(<AtomGroup: [<ExtendedAtom: 3QQK/0/A/ALA-31/CB>]>, <AtomGroup: [<ExtendedAtom: 3QQK/0/A/X02-497/C5>, <ExtendedAtom: 3QQK/0/A/X02-497/N6>, <ExtendedAtom: 3QQK/0/A/X02-497/C7>, <ExtendedAtom: 3QQK/0/A/X02-497/C8>, <ExtendedAtom: 3QQK/0/A/X02-497/S9>]>) type=Weak hydrogen bond>\n",
      "<InteractionType: compounds=(<AtomGroup: [<ExtendedAtom: 3QQK/0/A/PHE-82/CD1>, <ExtendedAtom: 3QQK/0/A/PHE-82/CD2>, <ExtendedAtom: 3QQK/0/A/PHE-82/CE1>, <ExtendedAtom: 3QQK/0/A/PHE-82/CE2>, <ExtendedAtom: 3QQK/0/A/PHE-82/CG>, <ExtendedAtom: 3QQK/0/A/PHE-82/CZ>]>, <AtomGroup: [<ExtendedAtom: 3QQK/0/A/X02-497/C5>, <ExtendedAtom: 3QQK/0/A/X02-497/N6>, <ExtendedAtom: 3QQK/0/A/X02-497/C7>, <ExtendedAtom: 3QQK/0/A/X02-497/C8>, <ExtendedAtom: 3QQK/0/A/X02-497/S9>]>) type=Displaced face-to-face pi-stacking>\n",
      "<InteractionType: compounds=(<AtomGroup: [<ExtendedAtom: 3QQK/0/A/ALA-144/CB>]>, <AtomGroup: [<ExtendedAtom: 3QQK/0/A/X02-497/C13>, <ExtendedAtom: 3QQK/0/A/X02-497/C16>, <ExtendedAtom: 3QQK/0/A/X02-497/C14>, <ExtendedAtom: 3QQK/0/A/X02-497/C12>, <ExtendedAtom: 3QQK/0/A/X02-497/C17>, <ExtendedAtom: 3QQK/0/A/X02-497/C15>]>) type=Hydrophobic>\n",
      "<InteractionType: compounds=(<AtomGroup: [<ExtendedAtom: 3QQK/0/A/HOH-321/O>]>, <AtomGroup: [<ExtendedAtom: 3QQK/0/A/PHE-80/CD1>, <ExtendedAtom: 3QQK/0/A/PHE-80/CD2>, <ExtendedAtom: 3QQK/0/A/PHE-80/CE1>, <ExtendedAtom: 3QQK/0/A/PHE-80/CE2>, <ExtendedAtom: 3QQK/0/A/PHE-80/CG>, <ExtendedAtom: 3QQK/0/A/PHE-80/CZ>]>) type=Weak hydrogen bond>\n",
      "<InteractionType: compounds=(<AtomGroup: [<ExtendedAtom: 3QQK/0/A/ALA-31/CB>]>, <AtomGroup: [<ExtendedAtom: 3QQK/0/A/X02-497/C7>]>) type=Van der Waals>\n",
      "<InteractionType: compounds=(<AtomGroup: [<ExtendedAtom: 3QQK/0/A/LEU-134/CD2>, <ExtendedAtom: 3QQK/0/A/LEU-134/CD1>, <ExtendedAtom: 3QQK/0/A/LEU-134/CG>, <ExtendedAtom: 3QQK/0/A/LEU-134/CB>]>, <AtomGroup: [<ExtendedAtom: 3QQK/0/A/X02-497/C13>, <ExtendedAtom: 3QQK/0/A/X02-497/C16>, <ExtendedAtom: 3QQK/0/A/X02-497/C14>, <ExtendedAtom: 3QQK/0/A/X02-497/C12>, <ExtendedAtom: 3QQK/0/A/X02-497/C17>, <ExtendedAtom: 3QQK/0/A/X02-497/C15>]>) type=Hydrophobic>\n",
      "<InteractionType: compounds=(<AtomGroup: [<ExtendedAtom: 3QQK/0/A/PHE-82/CA>]>, <AtomGroup: [<ExtendedAtom: 3QQK/0/A/X02-497/N6>]>) type=Weak hydrogen bond>\n",
      "<InteractionType: compounds=(<AtomGroup: [<ExtendedAtom: 3QQK/0/A/X02-497/N10>]>, <AtomGroup: [<ExtendedAtom: 3QQK/0/A/X02-497/O18>]>) type=Van der Waals>\n",
      "<InteractionType: compounds=(<AtomGroup: [<ExtendedAtom: 3QQK/0/A/HOH-321/O>]>, <AtomGroup: [<ExtendedAtom: 3QQK/0/A/X02-497/O18>]>) type=Van der Waals>\n",
      "<InteractionType: compounds=(<AtomGroup: [<ExtendedAtom: 3QQK/0/A/X02-497/C7>]>, <AtomGroup: [<ExtendedAtom: 3QQK/0/A/X02-497/C8>]>) type=Covalent bond>\n",
      "<InteractionType: compounds=(<AtomGroup: [<ExtendedAtom: 3QQK/0/A/X02-497/C5>]>, <AtomGroup: [<ExtendedAtom: 3QQK/0/A/X02-497/N4>]>) type=Covalent bond>\n",
      "<InteractionType: compounds=(<AtomGroup: [<ExtendedAtom: 3QQK/0/A/X02-497/N4>]>, <AtomGroup: [<ExtendedAtom: 3QQK/0/A/LEU-83/O>]>) type=Hydrogen bond>\n",
      "<InteractionType: compounds=(<AtomGroup: [<ExtendedAtom: 3QQK/0/A/X02-497/C12>]>, <AtomGroup: [<ExtendedAtom: 3QQK/0/A/X02-497/C11>]>) type=Covalent bond>\n",
      "<InteractionType: compounds=(<AtomGroup: [<ExtendedAtom: 3QQK/0/A/LEU-83/N>]>, <AtomGroup: [<ExtendedAtom: 3QQK/0/A/X02-497/N6>]>) type=Hydrogen bond>\n",
      "<InteractionType: compounds=(<AtomGroup: [<ExtendedAtom: 3QQK/0/A/HOH-435/O>]>, <AtomGroup: [<ExtendedAtom: 3QQK/0/A/X02-497/C2>]>) type=Van der Waals>\n",
      "<InteractionType: compounds=(<AtomGroup: [<ExtendedAtom: 3QQK/0/A/X02-497/C3>]>, <AtomGroup: [<ExtendedAtom: 3QQK/0/A/X02-497/N4>]>) type=Covalent bond>\n",
      "<InteractionType: compounds=(<AtomGroup: [<ExtendedAtom: 3QQK/0/A/X02-497/N10>]>, <AtomGroup: [<ExtendedAtom: 3QQK/0/A/X02-497/O18>]>) type=Hydrogen bond>\n",
      "<InteractionType: compounds=(<AtomGroup: [<ExtendedAtom: 3QQK/0/A/X02-497/C5>]>, <AtomGroup: [<ExtendedAtom: 3QQK/0/A/X02-497/N6>]>) type=Covalent bond>\n",
      "<InteractionType: compounds=(<AtomGroup: [<ExtendedAtom: 3QQK/0/A/X02-497/C3>]>, <AtomGroup: [<ExtendedAtom: 3QQK/0/A/X02-497/C2>]>) type=Covalent bond>\n",
      "<InteractionType: compounds=(<AtomGroup: [<ExtendedAtom: 3QQK/0/A/X02-497/N10>]>, <AtomGroup: [<ExtendedAtom: 3QQK/0/A/X02-497/C7>]>) type=Covalent bond>\n",
      "<InteractionType: compounds=(<AtomGroup: [<ExtendedAtom: 3QQK/0/A/PHE-80/CD1>]>, <AtomGroup: [<ExtendedAtom: 3QQK/0/A/HOH-321/O>]>) type=Weak hydrogen bond>\n",
      "<InteractionType: compounds=(<AtomGroup: [<ExtendedAtom: 3QQK/0/A/GLN-85/CG>]>, <AtomGroup: [<ExtendedAtom: 3QQK/0/A/HOH-344/O>]>) type=Weak hydrogen bond>\n",
      "<InteractionType: compounds=(<AtomGroup: [<ExtendedAtom: 3QQK/0/A/HOH-344/O>]>, <AtomGroup: [<ExtendedAtom: 3QQK/0/A/ASP-86/OD2>]>) type=Hydrogen bond>\n",
      "<InteractionType: compounds=(<AtomGroup: [<ExtendedAtom: 3QQK/0/A/X02-497/C5>]>, <AtomGroup: [<ExtendedAtom: 3QQK/0/A/X02-497/S9>]>) type=Covalent bond>\n",
      "<InteractionType: compounds=(<AtomGroup: [<ExtendedAtom: 3QQK/0/A/X02-497/C16>]>, <AtomGroup: [<ExtendedAtom: 3QQK/0/A/X02-497/C17>]>) type=Covalent bond>\n",
      "<InteractionType: compounds=(<AtomGroup: [<ExtendedAtom: 3QQK/0/A/X02-497/N10>]>, <AtomGroup: [<ExtendedAtom: 3QQK/0/A/GLU-81/O>]>) type=Hydrogen bond>\n",
      "<InteractionType: compounds=(<AtomGroup: [<ExtendedAtom: 3QQK/0/A/HOH-344/O>]>, <AtomGroup: [<ExtendedAtom: 3QQK/0/A/ASP-86/N>]>) type=Van der Waals>\n",
      "<InteractionType: compounds=(<AtomGroup: [<ExtendedAtom: 3QQK/0/A/X02-497/C16>]>, <AtomGroup: [<ExtendedAtom: 3QQK/0/A/ASP-145/CG>]>) type=Van der Waals>\n",
      "<InteractionType: compounds=(<AtomGroup: [<ExtendedAtom: 3QQK/0/A/X02-497/C2>, <ExtendedAtom: 3QQK/0/A/X02-497/C1>]>, <AtomGroup: [<ExtendedAtom: 3QQK/0/A/ILE-10/CG2>, <ExtendedAtom: 3QQK/0/A/ILE-10/CD1>, <ExtendedAtom: 3QQK/0/A/ILE-10/CB>, <ExtendedAtom: 3QQK/0/A/ILE-10/CG1>]>) type=Hydrophobic>\n",
      "<InteractionType: compounds=(<AtomGroup: [<ExtendedAtom: 3QQK/0/A/ALA-144/CB>]>, <AtomGroup: [<ExtendedAtom: 3QQK/0/A/X02-497/O18>]>) type=Weak hydrogen bond>\n",
      "<InteractionType: compounds=(<AtomGroup: [<ExtendedAtom: 3QQK/0/A/PHE-80/CB>]>, <AtomGroup: [<ExtendedAtom: 3QQK/0/A/X02-497/O18>]>) type=Weak hydrogen bond>\n",
      "<InteractionType: compounds=(<AtomGroup: [<ExtendedAtom: 3QQK/0/A/ASP-145/CB>]>, <AtomGroup: [<ExtendedAtom: 3QQK/0/A/X02-497/C13>, <ExtendedAtom: 3QQK/0/A/X02-497/C16>, <ExtendedAtom: 3QQK/0/A/X02-497/C14>, <ExtendedAtom: 3QQK/0/A/X02-497/C12>, <ExtendedAtom: 3QQK/0/A/X02-497/C17>, <ExtendedAtom: 3QQK/0/A/X02-497/C15>]>) type=Hydrophobic>\n",
      "<InteractionType: compounds=(<AtomGroup: [<ExtendedAtom: 3QQK/0/A/ASP-86/N>]>, <AtomGroup: [<ExtendedAtom: 3QQK/0/A/HOH-344/O>]>) type=Hydrogen bond>\n",
      "<InteractionType: compounds=(<AtomGroup: [<ExtendedAtom: 3QQK/0/A/X02-497/N4>]>, <AtomGroup: [<ExtendedAtom: 3QQK/0/A/LEU-83/O>]>) type=Van der Waals>\n",
      "<InteractionType: compounds=(<AtomGroup: [<ExtendedAtom: 3QQK/0/A/LEU-134/CD1>]>, <AtomGroup: [<ExtendedAtom: 3QQK/0/A/X02-497/C8>]>) type=Van der Waals>\n",
      "<InteractionType: compounds=(<AtomGroup: [<ExtendedAtom: 3QQK/0/A/X02-497/C2>, <ExtendedAtom: 3QQK/0/A/X02-497/C1>]>, <AtomGroup: [<ExtendedAtom: 3QQK/0/A/ASP-86/CB>]>) type=Hydrophobic>\n",
      "<InteractionType: compounds=(<AtomGroup: [<ExtendedAtom: 3QQK/0/A/PHE-80/CD2>]>, <AtomGroup: [<ExtendedAtom: 3QQK/0/A/HOH-321/O>]>) type=Weak hydrogen bond>\n",
      "<InteractionType: compounds=(<AtomGroup: [<ExtendedAtom: 3QQK/0/A/HOH-344/O>]>, <AtomGroup: [<ExtendedAtom: 3QQK/0/A/ASP-86/OD2>]>) type=Van der Waals>\n",
      "<InteractionType: compounds=(<AtomGroup: [<ExtendedAtom: 3QQK/0/A/HOH-321/O>]>, <AtomGroup: [<ExtendedAtom: 3QQK/0/A/X02-497/O18>]>) type=Hydrogen bond>\n",
      "<InteractionType: compounds=(<AtomGroup: [<ExtendedAtom: 3QQK/0/A/X02-497/C12>]>, <AtomGroup: [<ExtendedAtom: 3QQK/0/A/X02-497/C13>]>) type=Covalent bond>\n",
      "<InteractionType: compounds=(<AtomGroup: [<ExtendedAtom: 3QQK/0/A/LEU-134/CD1>]>, <AtomGroup: [<ExtendedAtom: 3QQK/0/A/X02-497/C7>]>) type=Van der Waals>\n",
      "<InteractionType: compounds=(<AtomGroup: [<ExtendedAtom: 3QQK/0/A/X02-497/C16>]>, <AtomGroup: [<ExtendedAtom: 3QQK/0/A/X02-497/C15>]>) type=Covalent bond>\n",
      "<InteractionType: compounds=(<AtomGroup: [<ExtendedAtom: 3QQK/0/A/X02-497/C8>]>, <AtomGroup: [<ExtendedAtom: 3QQK/0/A/X02-497/C11>]>) type=Covalent bond>\n",
      "<InteractionType: compounds=(<AtomGroup: [<ExtendedAtom: 3QQK/0/A/X02-497/C13>]>, <AtomGroup: [<ExtendedAtom: 3QQK/0/A/X02-497/C14>]>) type=Covalent bond>\n",
      "<InteractionType: compounds=(<AtomGroup: [<ExtendedAtom: 3QQK/0/A/X02-497/C17>]>, <AtomGroup: [<ExtendedAtom: 3QQK/0/A/X02-497/C12>]>) type=Covalent bond>\n",
      "<InteractionType: compounds=(<AtomGroup: [<ExtendedAtom: 3QQK/0/A/ALA-31/CB>]>, <AtomGroup: [<ExtendedAtom: 3QQK/0/A/X02-497/S9>, <ExtendedAtom: 3QQK/0/A/X02-497/C8>]>) type=Hydrophobic>\n",
      "<InteractionType: compounds=(<AtomGroup: [<ExtendedAtom: 3QQK/0/A/ASP-145/CB>]>, <AtomGroup: [<ExtendedAtom: 3QQK/0/A/X02-497/C12>, <ExtendedAtom: 3QQK/0/A/X02-497/C13>, <ExtendedAtom: 3QQK/0/A/X02-497/C14>, <ExtendedAtom: 3QQK/0/A/X02-497/C15>, <ExtendedAtom: 3QQK/0/A/X02-497/C16>, <ExtendedAtom: 3QQK/0/A/X02-497/C17>]>) type=Weak hydrogen bond>\n",
      "<InteractionType: compounds=(<AtomGroup: [<ExtendedAtom: 3QQK/0/A/VAL-18/CB>, <ExtendedAtom: 3QQK/0/A/VAL-18/CG2>, <ExtendedAtom: 3QQK/0/A/VAL-18/CG1>]>, <AtomGroup: [<ExtendedAtom: 3QQK/0/A/X02-497/C13>, <ExtendedAtom: 3QQK/0/A/X02-497/C16>, <ExtendedAtom: 3QQK/0/A/X02-497/C14>, <ExtendedAtom: 3QQK/0/A/X02-497/C12>, <ExtendedAtom: 3QQK/0/A/X02-497/C17>, <ExtendedAtom: 3QQK/0/A/X02-497/C15>]>) type=Hydrophobic>\n",
      "<InteractionType: compounds=(<AtomGroup: [<ExtendedAtom: 3QQK/0/A/X02-497/C15>]>, <AtomGroup: [<ExtendedAtom: 3QQK/0/A/X02-497/C14>]>) type=Covalent bond>\n",
      "<InteractionType: compounds=(<AtomGroup: [<ExtendedAtom: 3QQK/0/A/PHE-80/CE1>]>, <AtomGroup: [<ExtendedAtom: 3QQK/0/A/HOH-321/O>]>) type=Weak hydrogen bond>\n",
      "<InteractionType: compounds=(<AtomGroup: [<ExtendedAtom: 3QQK/0/A/PHE-80/CZ>]>, <AtomGroup: [<ExtendedAtom: 3QQK/0/A/HOH-321/O>]>) type=Weak hydrogen bond>\n",
      "<InteractionType: compounds=(<AtomGroup: [<ExtendedAtom: 3QQK/0/A/PHE-82/CE2>]>, <AtomGroup: [<ExtendedAtom: 3QQK/0/A/X02-497/N4>]>) type=Van der Waals>\n",
      "<InteractionType: compounds=(<AtomGroup: [<ExtendedAtom: 3QQK/0/A/LEU-134/CD1>]>, <AtomGroup: [<ExtendedAtom: 3QQK/0/A/X02-497/C5>, <ExtendedAtom: 3QQK/0/A/X02-497/N6>, <ExtendedAtom: 3QQK/0/A/X02-497/C7>, <ExtendedAtom: 3QQK/0/A/X02-497/C8>, <ExtendedAtom: 3QQK/0/A/X02-497/S9>]>) type=Weak hydrogen bond>\n",
      "<InteractionType: compounds=(<AtomGroup: [<ExtendedAtom: 3QQK/0/A/LEU-134/CD2>, <ExtendedAtom: 3QQK/0/A/LEU-134/CD1>, <ExtendedAtom: 3QQK/0/A/LEU-134/CG>, <ExtendedAtom: 3QQK/0/A/LEU-134/CB>]>, <AtomGroup: [<ExtendedAtom: 3QQK/0/A/X02-497/C2>, <ExtendedAtom: 3QQK/0/A/X02-497/C1>]>) type=Hydrophobic>\n",
      "<InteractionType: compounds=(<AtomGroup: [<ExtendedAtom: 3QQK/0/A/X02-497/S9>]>, <AtomGroup: [<ExtendedAtom: 3QQK/0/A/X02-497/C8>]>) type=Covalent bond>\n",
      "<InteractionType: compounds=(<AtomGroup: [<ExtendedAtom: 3QQK/0/A/X02-497/C13>]>, <AtomGroup: [<ExtendedAtom: 3QQK/0/A/X02-497/S9>]>) type=Van der Waals>\n",
      "<InteractionType: compounds=(<AtomGroup: [<ExtendedAtom: 3QQK/0/A/X02-497/N6>]>, <AtomGroup: [<ExtendedAtom: 3QQK/0/A/X02-497/C7>]>) type=Covalent bond>\n",
      "<InteractionType: compounds=(<AtomGroup: [<ExtendedAtom: 3QQK/0/A/ALA-144/CB>]>, <AtomGroup: [<ExtendedAtom: 3QQK/0/A/HOH-321/O>]>) type=Weak hydrogen bond>\n",
      "<InteractionType: compounds=(<AtomGroup: [<ExtendedAtom: 3QQK/0/A/VAL-18/CG1>]>, <AtomGroup: [<ExtendedAtom: 3QQK/0/A/X02-497/C12>, <ExtendedAtom: 3QQK/0/A/X02-497/C13>, <ExtendedAtom: 3QQK/0/A/X02-497/C14>, <ExtendedAtom: 3QQK/0/A/X02-497/C15>, <ExtendedAtom: 3QQK/0/A/X02-497/C16>, <ExtendedAtom: 3QQK/0/A/X02-497/C17>]>) type=Weak hydrogen bond>\n",
      "<InteractionType: compounds=(<AtomGroup: [<ExtendedAtom: 3QQK/0/A/LYS-33/CB>, <ExtendedAtom: 3QQK/0/A/LYS-33/CD>, <ExtendedAtom: 3QQK/0/A/LYS-33/CG>]>, <AtomGroup: [<ExtendedAtom: 3QQK/0/A/X02-497/C13>, <ExtendedAtom: 3QQK/0/A/X02-497/C16>, <ExtendedAtom: 3QQK/0/A/X02-497/C14>, <ExtendedAtom: 3QQK/0/A/X02-497/C12>, <ExtendedAtom: 3QQK/0/A/X02-497/C17>, <ExtendedAtom: 3QQK/0/A/X02-497/C15>]>) type=Hydrophobic>\n",
      "<InteractionType: compounds=(<AtomGroup: [<ExtendedAtom: 3QQK/0/A/PHE-80/CE2>]>, <AtomGroup: [<ExtendedAtom: 3QQK/0/A/HOH-321/O>]>) type=Weak hydrogen bond>\n",
      "<InteractionType: compounds=(<AtomGroup: [<ExtendedAtom: 3QQK/0/A/PHE-80/CD2>]>, <AtomGroup: [<ExtendedAtom: 3QQK/0/A/X02-497/O18>]>) type=Weak hydrogen bond>\n",
      "<InteractionType: compounds=(<AtomGroup: [<ExtendedAtom: 3QQK/0/A/ASP-145/CA>]>, <AtomGroup: [<ExtendedAtom: 3QQK/0/A/HOH-321/O>]>) type=Weak hydrogen bond>\n",
      "<InteractionType: compounds=(<AtomGroup: [<ExtendedAtom: 3QQK/0/A/ALA-144/CA>]>, <AtomGroup: [<ExtendedAtom: 3QQK/0/A/HOH-321/O>]>) type=Weak hydrogen bond>\n",
      "<InteractionType: compounds=(<AtomGroup: [<ExtendedAtom: 3QQK/0/A/ASP-145/N>]>, <AtomGroup: [<ExtendedAtom: 3QQK/0/A/HOH-321/O>]>) type=Hydrogen bond>\n",
      "<InteractionType: compounds=(<AtomGroup: [<ExtendedAtom: 3QQK/0/A/X02-497/C15>]>, <AtomGroup: [<ExtendedAtom: 3QQK/0/A/ASP-145/CG>]>) type=Van der Waals>\n",
      "<InteractionType: compounds=(<AtomGroup: [<ExtendedAtom: 3QQK/0/A/X02-497/N4>]>, <AtomGroup: [<ExtendedAtom: 3QQK/0/A/PHE-82/CD1>, <ExtendedAtom: 3QQK/0/A/PHE-82/CD2>, <ExtendedAtom: 3QQK/0/A/PHE-82/CE1>, <ExtendedAtom: 3QQK/0/A/PHE-82/CE2>, <ExtendedAtom: 3QQK/0/A/PHE-82/CG>, <ExtendedAtom: 3QQK/0/A/PHE-82/CZ>]>) type=Weak hydrogen bond>\n",
      "<InteractionType: compounds=(<AtomGroup: [<ExtendedAtom: 3QQK/0/A/X02-497/S9>, <ExtendedAtom: 3QQK/0/A/X02-497/C8>]>, <AtomGroup: [<ExtendedAtom: 3QQK/0/A/ILE-10/CG2>, <ExtendedAtom: 3QQK/0/A/ILE-10/CD1>, <ExtendedAtom: 3QQK/0/A/ILE-10/CB>, <ExtendedAtom: 3QQK/0/A/ILE-10/CG1>]>) type=Hydrophobic>\n",
      "<InteractionType: compounds=(<AtomGroup: [<ExtendedAtom: 3QQK/0/A/X02-497/C1>]>, <AtomGroup: [<ExtendedAtom: 3QQK/0/A/X02-497/C2>]>) type=Covalent bond>\n",
      "<InteractionType: compounds=(<AtomGroup: [<ExtendedAtom: 3QQK/0/A/X02-497/C2>]>, <AtomGroup: [<ExtendedAtom: 3QQK/0/A/HOH-435/O>]>) type=Weak hydrogen bond>\n",
      "<InteractionType: compounds=(<AtomGroup: [<ExtendedAtom: 3QQK/0/A/ASP-145/N>]>, <AtomGroup: [<ExtendedAtom: 3QQK/0/A/HOH-321/O>]>) type=Van der Waals>\n",
      "<InteractionType: compounds=(<AtomGroup: [<ExtendedAtom: 3QQK/0/A/X02-497/N10>]>, <AtomGroup: [<ExtendedAtom: 3QQK/0/A/GLU-81/O>]>) type=Van der Waals>\n",
      "<InteractionType: compounds=(<AtomGroup: [<ExtendedAtom: 3QQK/0/A/X02-497/O18>]>, <AtomGroup: [<ExtendedAtom: 3QQK/0/A/X02-497/C11>]>) type=Covalent bond>\n",
      "<InteractionType: compounds=(<AtomGroup: [<ExtendedAtom: 3QQK/0/A/X02-497/C1>]>, <AtomGroup: [<ExtendedAtom: 3QQK/0/A/HOH-344/O>]>) type=Weak hydrogen bond>\n",
      "<InteractionType: compounds=(<AtomGroup: [<ExtendedAtom: 3QQK/0/A/GLN-85/CB>]>, <AtomGroup: [<ExtendedAtom: 3QQK/0/A/HOH-344/O>]>) type=Weak hydrogen bond>\n",
      "<InteractionType: compounds=(<AtomGroup: [<ExtendedAtom: 3QQK/0/A/ILE-10/CD1>]>, <AtomGroup: [<ExtendedAtom: 3QQK/0/A/HOH-435/O>]>) type=Weak hydrogen bond>\n"
     ]
    }
   ],
   "source": [
    "for inter in proj_obj.interactions[0][1].interactions:\n",
    "    print(inter)"
   ]
  },
  {
   "cell_type": "markdown",
   "metadata": {
    "ExecuteTime": {
     "end_time": "2019-07-15T22:41:27.903633Z",
     "start_time": "2019-07-15T22:41:27.900869Z"
    }
   },
   "source": [
    "### Filtering by interactions"
   ]
  },
  {
   "cell_type": "code",
   "execution_count": 22,
   "metadata": {
    "ExecuteTime": {
     "end_time": "2019-07-16T00:41:51.424999Z",
     "start_time": "2019-07-16T00:41:51.411780Z"
    }
   },
   "outputs": [
    {
     "name": "stdout",
     "output_type": "stream",
     "text": [
      "<InteractionType: compounds=(<AtomGroup: [<ExtendedAtom: 3QQK/0/A/X02-497/N4>]>, <AtomGroup: [<ExtendedAtom: 3QQK/0/A/LEU-83/O>]>) type=Hydrogen bond>\n",
      "<InteractionType: compounds=(<AtomGroup: [<ExtendedAtom: 3QQK/0/A/LEU-83/N>]>, <AtomGroup: [<ExtendedAtom: 3QQK/0/A/X02-497/N6>]>) type=Hydrogen bond>\n",
      "<InteractionType: compounds=(<AtomGroup: [<ExtendedAtom: 3QQK/0/A/X02-497/N10>]>, <AtomGroup: [<ExtendedAtom: 3QQK/0/A/X02-497/O18>]>) type=Hydrogen bond>\n",
      "<InteractionType: compounds=(<AtomGroup: [<ExtendedAtom: 3QQK/0/A/HOH-344/O>]>, <AtomGroup: [<ExtendedAtom: 3QQK/0/A/ASP-86/OD2>]>) type=Hydrogen bond>\n",
      "<InteractionType: compounds=(<AtomGroup: [<ExtendedAtom: 3QQK/0/A/X02-497/N10>]>, <AtomGroup: [<ExtendedAtom: 3QQK/0/A/GLU-81/O>]>) type=Hydrogen bond>\n",
      "<InteractionType: compounds=(<AtomGroup: [<ExtendedAtom: 3QQK/0/A/ASP-86/N>]>, <AtomGroup: [<ExtendedAtom: 3QQK/0/A/HOH-344/O>]>) type=Hydrogen bond>\n",
      "<InteractionType: compounds=(<AtomGroup: [<ExtendedAtom: 3QQK/0/A/HOH-321/O>]>, <AtomGroup: [<ExtendedAtom: 3QQK/0/A/X02-497/O18>]>) type=Hydrogen bond>\n",
      "<InteractionType: compounds=(<AtomGroup: [<ExtendedAtom: 3QQK/0/A/ASP-145/N>]>, <AtomGroup: [<ExtendedAtom: 3QQK/0/A/HOH-321/O>]>) type=Hydrogen bond>\n"
     ]
    }
   ],
   "source": [
    "for inter in proj_obj.interactions[0][1].filter_by_types([\"Hydrogen bond\"]):\n",
    "    print(inter)"
   ]
  },
  {
   "cell_type": "markdown",
   "metadata": {
    "ExecuteTime": {
     "end_time": "2019-07-15T22:51:07.365081Z",
     "start_time": "2019-07-15T22:51:07.360781Z"
    }
   },
   "source": [
    "### Loop through each entry and atom group"
   ]
  },
  {
   "cell_type": "code",
   "execution_count": 23,
   "metadata": {
    "ExecuteTime": {
     "end_time": "2019-07-16T00:41:53.458832Z",
     "start_time": "2019-07-16T00:41:53.407268Z"
    }
   },
   "outputs": [
    {
     "name": "stdout",
     "output_type": "stream",
     "text": [
      "<CompoundEntry: 3QQK:A:X02:497> <AtomGroup: [<ExtendedAtom: 3QQK/0/A/GLN-85/CA>]> <AtomGroup: [<ExtendedAtom: 3QQK/0/A/HOH-344/O>]> Weak hydrogen bond\n",
      "\n",
      "<CompoundEntry: 3QQK:A:X02:497> <AtomGroup: [<ExtendedAtom: 3QQK/0/A/LEU-134/CD2>, <ExtendedAtom: 3QQK/0/A/LEU-134/CD1>, <ExtendedAtom: 3QQK/0/A/LEU-134/CG>, <ExtendedAtom: 3QQK/0/A/LEU-134/CB>]> <AtomGroup: [<ExtendedAtom: 3QQK/0/A/X02-497/S9>, <ExtendedAtom: 3QQK/0/A/X02-497/C8>]> Hydrophobic\n",
      "\n",
      "<CompoundEntry: 3QQK:A:X02:497> <AtomGroup: [<ExtendedAtom: 3QQK/0/A/ALA-31/CB>]> <AtomGroup: [<ExtendedAtom: 3QQK/0/A/X02-497/C5>, <ExtendedAtom: 3QQK/0/A/X02-497/N6>, <ExtendedAtom: 3QQK/0/A/X02-497/C7>, <ExtendedAtom: 3QQK/0/A/X02-497/C8>, <ExtendedAtom: 3QQK/0/A/X02-497/S9>]> Weak hydrogen bond\n",
      "\n",
      "<CompoundEntry: 3QQK:A:X02:497> <AtomGroup: [<ExtendedAtom: 3QQK/0/A/PHE-82/CD1>, <ExtendedAtom: 3QQK/0/A/PHE-82/CD2>, <ExtendedAtom: 3QQK/0/A/PHE-82/CE1>, <ExtendedAtom: 3QQK/0/A/PHE-82/CE2>, <ExtendedAtom: 3QQK/0/A/PHE-82/CG>, <ExtendedAtom: 3QQK/0/A/PHE-82/CZ>]> <AtomGroup: [<ExtendedAtom: 3QQK/0/A/X02-497/C5>, <ExtendedAtom: 3QQK/0/A/X02-497/N6>, <ExtendedAtom: 3QQK/0/A/X02-497/C7>, <ExtendedAtom: 3QQK/0/A/X02-497/C8>, <ExtendedAtom: 3QQK/0/A/X02-497/S9>]> Displaced face-to-face pi-stacking\n",
      "\n",
      "<CompoundEntry: 3QQK:A:X02:497> <AtomGroup: [<ExtendedAtom: 3QQK/0/A/ALA-144/CB>]> <AtomGroup: [<ExtendedAtom: 3QQK/0/A/X02-497/C13>, <ExtendedAtom: 3QQK/0/A/X02-497/C16>, <ExtendedAtom: 3QQK/0/A/X02-497/C14>, <ExtendedAtom: 3QQK/0/A/X02-497/C12>, <ExtendedAtom: 3QQK/0/A/X02-497/C17>, <ExtendedAtom: 3QQK/0/A/X02-497/C15>]> Hydrophobic\n",
      "\n",
      "<CompoundEntry: 3QQK:A:X02:497> <AtomGroup: [<ExtendedAtom: 3QQK/0/A/HOH-321/O>]> <AtomGroup: [<ExtendedAtom: 3QQK/0/A/PHE-80/CD1>, <ExtendedAtom: 3QQK/0/A/PHE-80/CD2>, <ExtendedAtom: 3QQK/0/A/PHE-80/CE1>, <ExtendedAtom: 3QQK/0/A/PHE-80/CE2>, <ExtendedAtom: 3QQK/0/A/PHE-80/CG>, <ExtendedAtom: 3QQK/0/A/PHE-80/CZ>]> Weak hydrogen bond\n",
      "\n",
      "<CompoundEntry: 3QQK:A:X02:497> <AtomGroup: [<ExtendedAtom: 3QQK/0/A/ALA-31/CB>]> <AtomGroup: [<ExtendedAtom: 3QQK/0/A/X02-497/C7>]> Van der Waals\n",
      "\n",
      "<CompoundEntry: 3QQK:A:X02:497> <AtomGroup: [<ExtendedAtom: 3QQK/0/A/LEU-134/CD2>, <ExtendedAtom: 3QQK/0/A/LEU-134/CD1>, <ExtendedAtom: 3QQK/0/A/LEU-134/CG>, <ExtendedAtom: 3QQK/0/A/LEU-134/CB>]> <AtomGroup: [<ExtendedAtom: 3QQK/0/A/X02-497/C13>, <ExtendedAtom: 3QQK/0/A/X02-497/C16>, <ExtendedAtom: 3QQK/0/A/X02-497/C14>, <ExtendedAtom: 3QQK/0/A/X02-497/C12>, <ExtendedAtom: 3QQK/0/A/X02-497/C17>, <ExtendedAtom: 3QQK/0/A/X02-497/C15>]> Hydrophobic\n",
      "\n",
      "<CompoundEntry: 3QQK:A:X02:497> <AtomGroup: [<ExtendedAtom: 3QQK/0/A/PHE-82/CA>]> <AtomGroup: [<ExtendedAtom: 3QQK/0/A/X02-497/N6>]> Weak hydrogen bond\n",
      "\n",
      "<CompoundEntry: 3QQK:A:X02:497> <AtomGroup: [<ExtendedAtom: 3QQK/0/A/X02-497/N10>]> <AtomGroup: [<ExtendedAtom: 3QQK/0/A/X02-497/O18>]> Van der Waals\n",
      "\n",
      "<CompoundEntry: 3QQK:A:X02:497> <AtomGroup: [<ExtendedAtom: 3QQK/0/A/HOH-321/O>]> <AtomGroup: [<ExtendedAtom: 3QQK/0/A/X02-497/O18>]> Van der Waals\n",
      "\n",
      "<CompoundEntry: 3QQK:A:X02:497> <AtomGroup: [<ExtendedAtom: 3QQK/0/A/X02-497/C7>]> <AtomGroup: [<ExtendedAtom: 3QQK/0/A/X02-497/C8>]> Covalent bond\n",
      "\n",
      "<CompoundEntry: 3QQK:A:X02:497> <AtomGroup: [<ExtendedAtom: 3QQK/0/A/X02-497/C5>]> <AtomGroup: [<ExtendedAtom: 3QQK/0/A/X02-497/N4>]> Covalent bond\n",
      "\n",
      "<CompoundEntry: 3QQK:A:X02:497> <AtomGroup: [<ExtendedAtom: 3QQK/0/A/X02-497/N4>]> <AtomGroup: [<ExtendedAtom: 3QQK/0/A/LEU-83/O>]> Hydrogen bond\n",
      "\n",
      "<CompoundEntry: 3QQK:A:X02:497> <AtomGroup: [<ExtendedAtom: 3QQK/0/A/X02-497/C12>]> <AtomGroup: [<ExtendedAtom: 3QQK/0/A/X02-497/C11>]> Covalent bond\n",
      "\n",
      "<CompoundEntry: 3QQK:A:X02:497> <AtomGroup: [<ExtendedAtom: 3QQK/0/A/LEU-83/N>]> <AtomGroup: [<ExtendedAtom: 3QQK/0/A/X02-497/N6>]> Hydrogen bond\n",
      "\n",
      "<CompoundEntry: 3QQK:A:X02:497> <AtomGroup: [<ExtendedAtom: 3QQK/0/A/HOH-435/O>]> <AtomGroup: [<ExtendedAtom: 3QQK/0/A/X02-497/C2>]> Van der Waals\n",
      "\n",
      "<CompoundEntry: 3QQK:A:X02:497> <AtomGroup: [<ExtendedAtom: 3QQK/0/A/X02-497/C3>]> <AtomGroup: [<ExtendedAtom: 3QQK/0/A/X02-497/N4>]> Covalent bond\n",
      "\n",
      "<CompoundEntry: 3QQK:A:X02:497> <AtomGroup: [<ExtendedAtom: 3QQK/0/A/X02-497/N10>]> <AtomGroup: [<ExtendedAtom: 3QQK/0/A/X02-497/O18>]> Hydrogen bond\n",
      "\n",
      "<CompoundEntry: 3QQK:A:X02:497> <AtomGroup: [<ExtendedAtom: 3QQK/0/A/X02-497/C5>]> <AtomGroup: [<ExtendedAtom: 3QQK/0/A/X02-497/N6>]> Covalent bond\n",
      "\n",
      "<CompoundEntry: 3QQK:A:X02:497> <AtomGroup: [<ExtendedAtom: 3QQK/0/A/X02-497/C3>]> <AtomGroup: [<ExtendedAtom: 3QQK/0/A/X02-497/C2>]> Covalent bond\n",
      "\n",
      "<CompoundEntry: 3QQK:A:X02:497> <AtomGroup: [<ExtendedAtom: 3QQK/0/A/X02-497/N10>]> <AtomGroup: [<ExtendedAtom: 3QQK/0/A/X02-497/C7>]> Covalent bond\n",
      "\n",
      "<CompoundEntry: 3QQK:A:X02:497> <AtomGroup: [<ExtendedAtom: 3QQK/0/A/PHE-80/CD1>]> <AtomGroup: [<ExtendedAtom: 3QQK/0/A/HOH-321/O>]> Weak hydrogen bond\n",
      "\n",
      "<CompoundEntry: 3QQK:A:X02:497> <AtomGroup: [<ExtendedAtom: 3QQK/0/A/GLN-85/CG>]> <AtomGroup: [<ExtendedAtom: 3QQK/0/A/HOH-344/O>]> Weak hydrogen bond\n",
      "\n",
      "<CompoundEntry: 3QQK:A:X02:497> <AtomGroup: [<ExtendedAtom: 3QQK/0/A/HOH-344/O>]> <AtomGroup: [<ExtendedAtom: 3QQK/0/A/ASP-86/OD2>]> Hydrogen bond\n",
      "\n",
      "<CompoundEntry: 3QQK:A:X02:497> <AtomGroup: [<ExtendedAtom: 3QQK/0/A/X02-497/C5>]> <AtomGroup: [<ExtendedAtom: 3QQK/0/A/X02-497/S9>]> Covalent bond\n",
      "\n",
      "<CompoundEntry: 3QQK:A:X02:497> <AtomGroup: [<ExtendedAtom: 3QQK/0/A/X02-497/C16>]> <AtomGroup: [<ExtendedAtom: 3QQK/0/A/X02-497/C17>]> Covalent bond\n",
      "\n",
      "<CompoundEntry: 3QQK:A:X02:497> <AtomGroup: [<ExtendedAtom: 3QQK/0/A/X02-497/N10>]> <AtomGroup: [<ExtendedAtom: 3QQK/0/A/GLU-81/O>]> Hydrogen bond\n",
      "\n",
      "<CompoundEntry: 3QQK:A:X02:497> <AtomGroup: [<ExtendedAtom: 3QQK/0/A/HOH-344/O>]> <AtomGroup: [<ExtendedAtom: 3QQK/0/A/ASP-86/N>]> Van der Waals\n",
      "\n",
      "<CompoundEntry: 3QQK:A:X02:497> <AtomGroup: [<ExtendedAtom: 3QQK/0/A/X02-497/C16>]> <AtomGroup: [<ExtendedAtom: 3QQK/0/A/ASP-145/CG>]> Van der Waals\n",
      "\n",
      "<CompoundEntry: 3QQK:A:X02:497> <AtomGroup: [<ExtendedAtom: 3QQK/0/A/X02-497/C2>, <ExtendedAtom: 3QQK/0/A/X02-497/C1>]> <AtomGroup: [<ExtendedAtom: 3QQK/0/A/ILE-10/CG2>, <ExtendedAtom: 3QQK/0/A/ILE-10/CD1>, <ExtendedAtom: 3QQK/0/A/ILE-10/CB>, <ExtendedAtom: 3QQK/0/A/ILE-10/CG1>]> Hydrophobic\n",
      "\n",
      "<CompoundEntry: 3QQK:A:X02:497> <AtomGroup: [<ExtendedAtom: 3QQK/0/A/ALA-144/CB>]> <AtomGroup: [<ExtendedAtom: 3QQK/0/A/X02-497/O18>]> Weak hydrogen bond\n",
      "\n",
      "<CompoundEntry: 3QQK:A:X02:497> <AtomGroup: [<ExtendedAtom: 3QQK/0/A/PHE-80/CB>]> <AtomGroup: [<ExtendedAtom: 3QQK/0/A/X02-497/O18>]> Weak hydrogen bond\n",
      "\n",
      "<CompoundEntry: 3QQK:A:X02:497> <AtomGroup: [<ExtendedAtom: 3QQK/0/A/ASP-145/CB>]> <AtomGroup: [<ExtendedAtom: 3QQK/0/A/X02-497/C13>, <ExtendedAtom: 3QQK/0/A/X02-497/C16>, <ExtendedAtom: 3QQK/0/A/X02-497/C14>, <ExtendedAtom: 3QQK/0/A/X02-497/C12>, <ExtendedAtom: 3QQK/0/A/X02-497/C17>, <ExtendedAtom: 3QQK/0/A/X02-497/C15>]> Hydrophobic\n",
      "\n",
      "<CompoundEntry: 3QQK:A:X02:497> <AtomGroup: [<ExtendedAtom: 3QQK/0/A/ASP-86/N>]> <AtomGroup: [<ExtendedAtom: 3QQK/0/A/HOH-344/O>]> Hydrogen bond\n",
      "\n",
      "<CompoundEntry: 3QQK:A:X02:497> <AtomGroup: [<ExtendedAtom: 3QQK/0/A/X02-497/N4>]> <AtomGroup: [<ExtendedAtom: 3QQK/0/A/LEU-83/O>]> Van der Waals\n",
      "\n",
      "<CompoundEntry: 3QQK:A:X02:497> <AtomGroup: [<ExtendedAtom: 3QQK/0/A/LEU-134/CD1>]> <AtomGroup: [<ExtendedAtom: 3QQK/0/A/X02-497/C8>]> Van der Waals\n",
      "\n",
      "<CompoundEntry: 3QQK:A:X02:497> <AtomGroup: [<ExtendedAtom: 3QQK/0/A/X02-497/C2>, <ExtendedAtom: 3QQK/0/A/X02-497/C1>]> <AtomGroup: [<ExtendedAtom: 3QQK/0/A/ASP-86/CB>]> Hydrophobic\n",
      "\n",
      "<CompoundEntry: 3QQK:A:X02:497> <AtomGroup: [<ExtendedAtom: 3QQK/0/A/PHE-80/CD2>]> <AtomGroup: [<ExtendedAtom: 3QQK/0/A/HOH-321/O>]> Weak hydrogen bond\n",
      "\n",
      "<CompoundEntry: 3QQK:A:X02:497> <AtomGroup: [<ExtendedAtom: 3QQK/0/A/HOH-344/O>]> <AtomGroup: [<ExtendedAtom: 3QQK/0/A/ASP-86/OD2>]> Van der Waals\n",
      "\n",
      "<CompoundEntry: 3QQK:A:X02:497> <AtomGroup: [<ExtendedAtom: 3QQK/0/A/HOH-321/O>]> <AtomGroup: [<ExtendedAtom: 3QQK/0/A/X02-497/O18>]> Hydrogen bond\n",
      "\n",
      "<CompoundEntry: 3QQK:A:X02:497> <AtomGroup: [<ExtendedAtom: 3QQK/0/A/X02-497/C12>]> <AtomGroup: [<ExtendedAtom: 3QQK/0/A/X02-497/C13>]> Covalent bond\n",
      "\n",
      "<CompoundEntry: 3QQK:A:X02:497> <AtomGroup: [<ExtendedAtom: 3QQK/0/A/LEU-134/CD1>]> <AtomGroup: [<ExtendedAtom: 3QQK/0/A/X02-497/C7>]> Van der Waals\n",
      "\n",
      "<CompoundEntry: 3QQK:A:X02:497> <AtomGroup: [<ExtendedAtom: 3QQK/0/A/X02-497/C16>]> <AtomGroup: [<ExtendedAtom: 3QQK/0/A/X02-497/C15>]> Covalent bond\n",
      "\n",
      "<CompoundEntry: 3QQK:A:X02:497> <AtomGroup: [<ExtendedAtom: 3QQK/0/A/X02-497/C8>]> <AtomGroup: [<ExtendedAtom: 3QQK/0/A/X02-497/C11>]> Covalent bond\n",
      "\n",
      "<CompoundEntry: 3QQK:A:X02:497> <AtomGroup: [<ExtendedAtom: 3QQK/0/A/X02-497/C13>]> <AtomGroup: [<ExtendedAtom: 3QQK/0/A/X02-497/C14>]> Covalent bond\n",
      "\n",
      "<CompoundEntry: 3QQK:A:X02:497> <AtomGroup: [<ExtendedAtom: 3QQK/0/A/X02-497/C17>]> <AtomGroup: [<ExtendedAtom: 3QQK/0/A/X02-497/C12>]> Covalent bond\n",
      "\n",
      "<CompoundEntry: 3QQK:A:X02:497> <AtomGroup: [<ExtendedAtom: 3QQK/0/A/ALA-31/CB>]> <AtomGroup: [<ExtendedAtom: 3QQK/0/A/X02-497/S9>, <ExtendedAtom: 3QQK/0/A/X02-497/C8>]> Hydrophobic\n",
      "\n",
      "<CompoundEntry: 3QQK:A:X02:497> <AtomGroup: [<ExtendedAtom: 3QQK/0/A/ASP-145/CB>]> <AtomGroup: [<ExtendedAtom: 3QQK/0/A/X02-497/C12>, <ExtendedAtom: 3QQK/0/A/X02-497/C13>, <ExtendedAtom: 3QQK/0/A/X02-497/C14>, <ExtendedAtom: 3QQK/0/A/X02-497/C15>, <ExtendedAtom: 3QQK/0/A/X02-497/C16>, <ExtendedAtom: 3QQK/0/A/X02-497/C17>]> Weak hydrogen bond\n",
      "\n",
      "<CompoundEntry: 3QQK:A:X02:497> <AtomGroup: [<ExtendedAtom: 3QQK/0/A/VAL-18/CB>, <ExtendedAtom: 3QQK/0/A/VAL-18/CG2>, <ExtendedAtom: 3QQK/0/A/VAL-18/CG1>]> <AtomGroup: [<ExtendedAtom: 3QQK/0/A/X02-497/C13>, <ExtendedAtom: 3QQK/0/A/X02-497/C16>, <ExtendedAtom: 3QQK/0/A/X02-497/C14>, <ExtendedAtom: 3QQK/0/A/X02-497/C12>, <ExtendedAtom: 3QQK/0/A/X02-497/C17>, <ExtendedAtom: 3QQK/0/A/X02-497/C15>]> Hydrophobic\n",
      "\n",
      "<CompoundEntry: 3QQK:A:X02:497> <AtomGroup: [<ExtendedAtom: 3QQK/0/A/X02-497/C15>]> <AtomGroup: [<ExtendedAtom: 3QQK/0/A/X02-497/C14>]> Covalent bond\n",
      "\n",
      "<CompoundEntry: 3QQK:A:X02:497> <AtomGroup: [<ExtendedAtom: 3QQK/0/A/PHE-80/CE1>]> <AtomGroup: [<ExtendedAtom: 3QQK/0/A/HOH-321/O>]> Weak hydrogen bond\n",
      "\n",
      "<CompoundEntry: 3QQK:A:X02:497> <AtomGroup: [<ExtendedAtom: 3QQK/0/A/PHE-80/CZ>]> <AtomGroup: [<ExtendedAtom: 3QQK/0/A/HOH-321/O>]> Weak hydrogen bond\n",
      "\n",
      "<CompoundEntry: 3QQK:A:X02:497> <AtomGroup: [<ExtendedAtom: 3QQK/0/A/PHE-82/CE2>]> <AtomGroup: [<ExtendedAtom: 3QQK/0/A/X02-497/N4>]> Van der Waals\n",
      "\n",
      "<CompoundEntry: 3QQK:A:X02:497> <AtomGroup: [<ExtendedAtom: 3QQK/0/A/LEU-134/CD1>]> <AtomGroup: [<ExtendedAtom: 3QQK/0/A/X02-497/C5>, <ExtendedAtom: 3QQK/0/A/X02-497/N6>, <ExtendedAtom: 3QQK/0/A/X02-497/C7>, <ExtendedAtom: 3QQK/0/A/X02-497/C8>, <ExtendedAtom: 3QQK/0/A/X02-497/S9>]> Weak hydrogen bond\n",
      "\n",
      "<CompoundEntry: 3QQK:A:X02:497> <AtomGroup: [<ExtendedAtom: 3QQK/0/A/LEU-134/CD2>, <ExtendedAtom: 3QQK/0/A/LEU-134/CD1>, <ExtendedAtom: 3QQK/0/A/LEU-134/CG>, <ExtendedAtom: 3QQK/0/A/LEU-134/CB>]> <AtomGroup: [<ExtendedAtom: 3QQK/0/A/X02-497/C2>, <ExtendedAtom: 3QQK/0/A/X02-497/C1>]> Hydrophobic\n",
      "\n",
      "<CompoundEntry: 3QQK:A:X02:497> <AtomGroup: [<ExtendedAtom: 3QQK/0/A/X02-497/S9>]> <AtomGroup: [<ExtendedAtom: 3QQK/0/A/X02-497/C8>]> Covalent bond\n",
      "\n",
      "<CompoundEntry: 3QQK:A:X02:497> <AtomGroup: [<ExtendedAtom: 3QQK/0/A/X02-497/C13>]> <AtomGroup: [<ExtendedAtom: 3QQK/0/A/X02-497/S9>]> Van der Waals\n",
      "\n",
      "<CompoundEntry: 3QQK:A:X02:497> <AtomGroup: [<ExtendedAtom: 3QQK/0/A/X02-497/N6>]> <AtomGroup: [<ExtendedAtom: 3QQK/0/A/X02-497/C7>]> Covalent bond\n",
      "\n",
      "<CompoundEntry: 3QQK:A:X02:497> <AtomGroup: [<ExtendedAtom: 3QQK/0/A/ALA-144/CB>]> <AtomGroup: [<ExtendedAtom: 3QQK/0/A/HOH-321/O>]> Weak hydrogen bond\n",
      "\n",
      "<CompoundEntry: 3QQK:A:X02:497> <AtomGroup: [<ExtendedAtom: 3QQK/0/A/VAL-18/CG1>]> <AtomGroup: [<ExtendedAtom: 3QQK/0/A/X02-497/C12>, <ExtendedAtom: 3QQK/0/A/X02-497/C13>, <ExtendedAtom: 3QQK/0/A/X02-497/C14>, <ExtendedAtom: 3QQK/0/A/X02-497/C15>, <ExtendedAtom: 3QQK/0/A/X02-497/C16>, <ExtendedAtom: 3QQK/0/A/X02-497/C17>]> Weak hydrogen bond\n",
      "\n",
      "<CompoundEntry: 3QQK:A:X02:497> <AtomGroup: [<ExtendedAtom: 3QQK/0/A/LYS-33/CB>, <ExtendedAtom: 3QQK/0/A/LYS-33/CD>, <ExtendedAtom: 3QQK/0/A/LYS-33/CG>]> <AtomGroup: [<ExtendedAtom: 3QQK/0/A/X02-497/C13>, <ExtendedAtom: 3QQK/0/A/X02-497/C16>, <ExtendedAtom: 3QQK/0/A/X02-497/C14>, <ExtendedAtom: 3QQK/0/A/X02-497/C12>, <ExtendedAtom: 3QQK/0/A/X02-497/C17>, <ExtendedAtom: 3QQK/0/A/X02-497/C15>]> Hydrophobic\n",
      "\n",
      "<CompoundEntry: 3QQK:A:X02:497> <AtomGroup: [<ExtendedAtom: 3QQK/0/A/PHE-80/CE2>]> <AtomGroup: [<ExtendedAtom: 3QQK/0/A/HOH-321/O>]> Weak hydrogen bond\n",
      "\n",
      "<CompoundEntry: 3QQK:A:X02:497> <AtomGroup: [<ExtendedAtom: 3QQK/0/A/PHE-80/CD2>]> <AtomGroup: [<ExtendedAtom: 3QQK/0/A/X02-497/O18>]> Weak hydrogen bond\n",
      "\n",
      "<CompoundEntry: 3QQK:A:X02:497> <AtomGroup: [<ExtendedAtom: 3QQK/0/A/ASP-145/CA>]> <AtomGroup: [<ExtendedAtom: 3QQK/0/A/HOH-321/O>]> Weak hydrogen bond\n",
      "\n",
      "<CompoundEntry: 3QQK:A:X02:497> <AtomGroup: [<ExtendedAtom: 3QQK/0/A/ALA-144/CA>]> <AtomGroup: [<ExtendedAtom: 3QQK/0/A/HOH-321/O>]> Weak hydrogen bond\n",
      "\n",
      "<CompoundEntry: 3QQK:A:X02:497> <AtomGroup: [<ExtendedAtom: 3QQK/0/A/ASP-145/N>]> <AtomGroup: [<ExtendedAtom: 3QQK/0/A/HOH-321/O>]> Hydrogen bond\n",
      "\n",
      "<CompoundEntry: 3QQK:A:X02:497> <AtomGroup: [<ExtendedAtom: 3QQK/0/A/X02-497/C15>]> <AtomGroup: [<ExtendedAtom: 3QQK/0/A/ASP-145/CG>]> Van der Waals\n",
      "\n",
      "<CompoundEntry: 3QQK:A:X02:497> <AtomGroup: [<ExtendedAtom: 3QQK/0/A/X02-497/N4>]> <AtomGroup: [<ExtendedAtom: 3QQK/0/A/PHE-82/CD1>, <ExtendedAtom: 3QQK/0/A/PHE-82/CD2>, <ExtendedAtom: 3QQK/0/A/PHE-82/CE1>, <ExtendedAtom: 3QQK/0/A/PHE-82/CE2>, <ExtendedAtom: 3QQK/0/A/PHE-82/CG>, <ExtendedAtom: 3QQK/0/A/PHE-82/CZ>]> Weak hydrogen bond\n",
      "\n",
      "<CompoundEntry: 3QQK:A:X02:497> <AtomGroup: [<ExtendedAtom: 3QQK/0/A/X02-497/S9>, <ExtendedAtom: 3QQK/0/A/X02-497/C8>]> <AtomGroup: [<ExtendedAtom: 3QQK/0/A/ILE-10/CG2>, <ExtendedAtom: 3QQK/0/A/ILE-10/CD1>, <ExtendedAtom: 3QQK/0/A/ILE-10/CB>, <ExtendedAtom: 3QQK/0/A/ILE-10/CG1>]> Hydrophobic\n",
      "\n",
      "<CompoundEntry: 3QQK:A:X02:497> <AtomGroup: [<ExtendedAtom: 3QQK/0/A/X02-497/C1>]> <AtomGroup: [<ExtendedAtom: 3QQK/0/A/X02-497/C2>]> Covalent bond\n",
      "\n",
      "<CompoundEntry: 3QQK:A:X02:497> <AtomGroup: [<ExtendedAtom: 3QQK/0/A/X02-497/C2>]> <AtomGroup: [<ExtendedAtom: 3QQK/0/A/HOH-435/O>]> Weak hydrogen bond\n",
      "\n",
      "<CompoundEntry: 3QQK:A:X02:497> <AtomGroup: [<ExtendedAtom: 3QQK/0/A/ASP-145/N>]> <AtomGroup: [<ExtendedAtom: 3QQK/0/A/HOH-321/O>]> Van der Waals\n",
      "\n",
      "<CompoundEntry: 3QQK:A:X02:497> <AtomGroup: [<ExtendedAtom: 3QQK/0/A/X02-497/N10>]> <AtomGroup: [<ExtendedAtom: 3QQK/0/A/GLU-81/O>]> Van der Waals\n",
      "\n",
      "<CompoundEntry: 3QQK:A:X02:497> <AtomGroup: [<ExtendedAtom: 3QQK/0/A/X02-497/O18>]> <AtomGroup: [<ExtendedAtom: 3QQK/0/A/X02-497/C11>]> Covalent bond\n",
      "\n",
      "<CompoundEntry: 3QQK:A:X02:497> <AtomGroup: [<ExtendedAtom: 3QQK/0/A/X02-497/C1>]> <AtomGroup: [<ExtendedAtom: 3QQK/0/A/HOH-344/O>]> Weak hydrogen bond\n",
      "\n",
      "<CompoundEntry: 3QQK:A:X02:497> <AtomGroup: [<ExtendedAtom: 3QQK/0/A/GLN-85/CB>]> <AtomGroup: [<ExtendedAtom: 3QQK/0/A/HOH-344/O>]> Weak hydrogen bond\n",
      "\n",
      "<CompoundEntry: 3QQK:A:X02:497> <AtomGroup: [<ExtendedAtom: 3QQK/0/A/ILE-10/CD1>]> <AtomGroup: [<ExtendedAtom: 3QQK/0/A/HOH-435/O>]> Weak hydrogen bond\n",
      "\n"
     ]
    }
   ],
   "source": [
    "# The property proj_obj.interactions returns tuples: entry and its interactions\n",
    "for entry, inter_mngr in proj_obj.interactions:\n",
    "    # The variable 'inters' contains all the interactions found for an entry. So, you can loop over it.\n",
    "    for i in inter_mngr.interactions:\n",
    "        print(entry, i.src_grp, i.trgt_grp, i.type)\n",
    "        print()"
   ]
  },
  {
   "cell_type": "markdown",
   "metadata": {
    "ExecuteTime": {
     "end_time": "2019-07-15T22:54:51.463563Z",
     "start_time": "2019-07-15T22:54:51.460166Z"
    }
   },
   "source": [
    "## How to plot interactions as a Pymol session"
   ]
  },
  {
   "cell_type": "markdown",
   "metadata": {},
   "source": [
    "- **First, create a `PymolInteractionViewer` object.**\n",
    "\n",
    "> This Class contains some parameters to set, but, in general, I don't change them. You can try different things if you want. For example: you can set `add_directional_arrows` to False if you don't want to show arrows pointing to the interaction direction, or set `show_cartoon` to True if you want to see the cartoon as soon as the session is created."
   ]
  },
  {
   "cell_type": "code",
   "execution_count": 24,
   "metadata": {
    "ExecuteTime": {
     "end_time": "2019-07-16T00:41:56.492389Z",
     "start_time": "2019-07-16T00:41:56.382743Z"
    }
   },
   "outputs": [],
   "source": [
    "from mol.interaction.view import InteractionViewer\n",
    "piv = InteractionViewer()"
   ]
  },
  {
   "cell_type": "markdown",
   "metadata": {},
   "source": [
    "- **Then, call `new_session()` passing a list of tuples, in which each tuple should contain the entry information and an interaction manager. You need also to define a name for the Pymol session output.**\n",
    "\n",
    "> **Important**: In the below example, all interaction tuples in the project object will be used. In these situations, multiple binding sites will be plotted in the Pymol session. However, as different PDB files may have different coordinate systems, each structure may be located at different parts of the space. That's why you may need to align the structures before plotting them into the Pymol session. If you decide to do it, please tell me and I can teach you how to do it."
   ]
  },
  {
   "cell_type": "code",
   "execution_count": 25,
   "metadata": {
    "ExecuteTime": {
     "end_time": "2019-07-16T00:41:58.968856Z",
     "start_time": "2019-07-16T00:41:58.459613Z"
    }
   },
   "outputs": [
    {
     "name": "stdout",
     "output_type": "stream",
     "text": [
      "Number of interactions to plot: 1\n",
      " PyMOL not running, entering library mode (experimental)\n",
      " Warning: pse_export_version with Python 3 is experimental\n",
      " Applying pse_export_version=1.800 compatibility\n"
     ]
    }
   ],
   "source": [
    "pse_file = \"tmp/output.pse\"\n",
    "print(\"Number of interactions to plot: %d\" % len(proj_obj.interactions))\n",
    "piv.new_session(proj_obj.interactions, pse_file)"
   ]
  },
  {
   "cell_type": "markdown",
   "metadata": {},
   "source": [
    "- **If you want, you can also plot only specific binding site. Just pass a list containing only the tuples you want to analyze.**"
   ]
  },
  {
   "cell_type": "code",
   "execution_count": 26,
   "metadata": {
    "ExecuteTime": {
     "end_time": "2019-07-16T00:42:00.460761Z",
     "start_time": "2019-07-16T00:42:00.001581Z"
    }
   },
   "outputs": [
    {
     "name": "stdout",
     "output_type": "stream",
     "text": [
      "Number of interactions to plot: 1\n",
      " Warning: pse_export_version with Python 3 is experimental\n",
      " Applying pse_export_version=1.800 compatibility\n",
      "DONE!!!!\n"
     ]
    }
   ],
   "source": [
    "# For example: let's say we want just the first entry.\n",
    "\n",
    "interactions = proj_obj.interactions[0:1]\n",
    "print(\"Number of interactions to plot: %d\" % len(interactions))\n",
    "\n",
    "pse_file = \"tmp/output.pse\"\n",
    "piv.new_session(interactions, pse_file)\n",
    "\n",
    "print(\"DONE!!!!\")"
   ]
  }
 ],
 "metadata": {
  "kernelspec": {
   "display_name": "Python (bioinfo-env)",
   "language": "python",
   "name": "bioinfo-env"
  },
  "language_info": {
   "codemirror_mode": {
    "name": "ipython",
    "version": 3
   },
   "file_extension": ".py",
   "mimetype": "text/x-python",
   "name": "python",
   "nbconvert_exporter": "python",
   "pygments_lexer": "ipython3",
   "version": "3.6.6"
  },
  "toc": {
   "base_numbering": 1,
   "nav_menu": {},
   "number_sections": true,
   "sideBar": true,
   "skip_h1_title": false,
   "title_cell": "Table of Contents",
   "title_sidebar": "Contents",
   "toc_cell": false,
   "toc_position": {},
   "toc_section_display": true,
   "toc_window_display": true
  }
 },
 "nbformat": 4,
 "nbformat_minor": 2
}
